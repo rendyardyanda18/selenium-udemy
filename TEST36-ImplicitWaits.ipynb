{
 "cells": [
  {
   "cell_type": "code",
   "execution_count": 1,
   "id": "5a568b52-7e83-43fe-9aeb-53f14f5c2f03",
   "metadata": {},
   "outputs": [],
   "source": [
    "from selenium import webdriver\n",
    "from selenium.webdriver.chrome.service import Service\n",
    "from selenium.webdriver.common.by import By\n",
    "\n",
    "from settings import CHROMEDRIVER_PATH, BOOKSTOSCRAPE_URL"
   ]
  },
  {
   "cell_type": "code",
   "execution_count": 5,
   "id": "47e7c309-2440-47e9-9082-93afcf067af4",
   "metadata": {},
   "outputs": [],
   "source": [
    "service = Service(executable_path=CHROMEDRIVER_PATH)"
   ]
  },
  {
   "cell_type": "code",
   "execution_count": 6,
   "id": "e60b035c-ea15-49e3-adb9-0cfd45c7e464",
   "metadata": {},
   "outputs": [
    {
     "ename": "SessionNotCreatedException",
     "evalue": "Message: session not created: This version of ChromeDriver only supports Chrome version 135\nCurrent browser version is 139.0.7258.155 with binary path C:\\Program Files\\Google\\Chrome\\Application\\chrome.exe\nStacktrace:\n\tGetHandleVerifier [0x00007FF6F2295355+78597]\n\tGetHandleVerifier [0x00007FF6F22953B0+78688]\n\t(No symbol) [0x00007FF6F20491AA]\n\t(No symbol) [0x00007FF6F208D1CF]\n\t(No symbol) [0x00007FF6F208C21B]\n\t(No symbol) [0x00007FF6F20865A8]\n\t(No symbol) [0x00007FF6F2081A5D]\n\t(No symbol) [0x00007FF6F20D51E5]\n\t(No symbol) [0x00007FF6F20D47A0]\n\t(No symbol) [0x00007FF6F20C6EC3]\n\t(No symbol) [0x00007FF6F20903F8]\n\t(No symbol) [0x00007FF6F2091163]\n\tGetHandleVerifier [0x00007FF6F253EF0D+2870973]\n\tGetHandleVerifier [0x00007FF6F25396B8+2848360]\n\tGetHandleVerifier [0x00007FF6F2556993+2967875]\n\tGetHandleVerifier [0x00007FF6F22B019A+188746]\n\tGetHandleVerifier [0x00007FF6F22B847F+222255]\n\tGetHandleVerifier [0x00007FF6F229D2D4+111236]\n\tGetHandleVerifier [0x00007FF6F229D482+111666]\n\tGetHandleVerifier [0x00007FF6F22835A9+5465]\n\tBaseThreadInitThunk [0x00007FFB494F7374+20]\n\tRtlUserThreadStart [0x00007FFB4B4FCC91+33]\n",
     "output_type": "error",
     "traceback": [
      "\u001b[31m---------------------------------------------------------------------------\u001b[39m",
      "\u001b[31mSessionNotCreatedException\u001b[39m                Traceback (most recent call last)",
      "\u001b[36mCell\u001b[39m\u001b[36m \u001b[39m\u001b[32mIn[6]\u001b[39m\u001b[32m, line 1\u001b[39m\n\u001b[32m----> \u001b[39m\u001b[32m1\u001b[39m driver = \u001b[43mwebdriver\u001b[49m\u001b[43m.\u001b[49m\u001b[43mChrome\u001b[49m\u001b[43m(\u001b[49m\u001b[43mservice\u001b[49m\u001b[43m=\u001b[49m\u001b[43mservice\u001b[49m\u001b[43m)\u001b[49m\n",
      "\u001b[36mFile \u001b[39m\u001b[32m~\\AppData\\Local\\Programs\\Python\\Python313\\Lib\\site-packages\\selenium\\webdriver\\chrome\\webdriver.py:45\u001b[39m, in \u001b[36mWebDriver.__init__\u001b[39m\u001b[34m(self, options, service, keep_alive)\u001b[39m\n\u001b[32m     42\u001b[39m service = service \u001b[38;5;28;01mif\u001b[39;00m service \u001b[38;5;28;01melse\u001b[39;00m Service()\n\u001b[32m     43\u001b[39m options = options \u001b[38;5;28;01mif\u001b[39;00m options \u001b[38;5;28;01melse\u001b[39;00m Options()\n\u001b[32m---> \u001b[39m\u001b[32m45\u001b[39m \u001b[38;5;28;43msuper\u001b[39;49m\u001b[43m(\u001b[49m\u001b[43m)\u001b[49m\u001b[43m.\u001b[49m\u001b[34;43m__init__\u001b[39;49m\u001b[43m(\u001b[49m\n\u001b[32m     46\u001b[39m \u001b[43m    \u001b[49m\u001b[43mbrowser_name\u001b[49m\u001b[43m=\u001b[49m\u001b[43mDesiredCapabilities\u001b[49m\u001b[43m.\u001b[49m\u001b[43mCHROME\u001b[49m\u001b[43m[\u001b[49m\u001b[33;43m\"\u001b[39;49m\u001b[33;43mbrowserName\u001b[39;49m\u001b[33;43m\"\u001b[39;49m\u001b[43m]\u001b[49m\u001b[43m,\u001b[49m\n\u001b[32m     47\u001b[39m \u001b[43m    \u001b[49m\u001b[43mvendor_prefix\u001b[49m\u001b[43m=\u001b[49m\u001b[33;43m\"\u001b[39;49m\u001b[33;43mgoog\u001b[39;49m\u001b[33;43m\"\u001b[39;49m\u001b[43m,\u001b[49m\n\u001b[32m     48\u001b[39m \u001b[43m    \u001b[49m\u001b[43moptions\u001b[49m\u001b[43m=\u001b[49m\u001b[43moptions\u001b[49m\u001b[43m,\u001b[49m\n\u001b[32m     49\u001b[39m \u001b[43m    \u001b[49m\u001b[43mservice\u001b[49m\u001b[43m=\u001b[49m\u001b[43mservice\u001b[49m\u001b[43m,\u001b[49m\n\u001b[32m     50\u001b[39m \u001b[43m    \u001b[49m\u001b[43mkeep_alive\u001b[49m\u001b[43m=\u001b[49m\u001b[43mkeep_alive\u001b[49m\u001b[43m,\u001b[49m\n\u001b[32m     51\u001b[39m \u001b[43m\u001b[49m\u001b[43m)\u001b[49m\n",
      "\u001b[36mFile \u001b[39m\u001b[32m~\\AppData\\Local\\Programs\\Python\\Python313\\Lib\\site-packages\\selenium\\webdriver\\chromium\\webdriver.py:66\u001b[39m, in \u001b[36mChromiumDriver.__init__\u001b[39m\u001b[34m(self, browser_name, vendor_prefix, options, service, keep_alive)\u001b[39m\n\u001b[32m     57\u001b[39m executor = ChromiumRemoteConnection(\n\u001b[32m     58\u001b[39m     remote_server_addr=\u001b[38;5;28mself\u001b[39m.service.service_url,\n\u001b[32m     59\u001b[39m     browser_name=browser_name,\n\u001b[32m   (...)\u001b[39m\u001b[32m     62\u001b[39m     ignore_proxy=options._ignore_local_proxy,\n\u001b[32m     63\u001b[39m )\n\u001b[32m     65\u001b[39m \u001b[38;5;28;01mtry\u001b[39;00m:\n\u001b[32m---> \u001b[39m\u001b[32m66\u001b[39m     \u001b[38;5;28;43msuper\u001b[39;49m\u001b[43m(\u001b[49m\u001b[43m)\u001b[49m\u001b[43m.\u001b[49m\u001b[34;43m__init__\u001b[39;49m\u001b[43m(\u001b[49m\u001b[43mcommand_executor\u001b[49m\u001b[43m=\u001b[49m\u001b[43mexecutor\u001b[49m\u001b[43m,\u001b[49m\u001b[43m \u001b[49m\u001b[43moptions\u001b[49m\u001b[43m=\u001b[49m\u001b[43moptions\u001b[49m\u001b[43m)\u001b[49m\n\u001b[32m     67\u001b[39m \u001b[38;5;28;01mexcept\u001b[39;00m \u001b[38;5;167;01mException\u001b[39;00m:\n\u001b[32m     68\u001b[39m     \u001b[38;5;28mself\u001b[39m.quit()\n",
      "\u001b[36mFile \u001b[39m\u001b[32m~\\AppData\\Local\\Programs\\Python\\Python313\\Lib\\site-packages\\selenium\\webdriver\\remote\\webdriver.py:250\u001b[39m, in \u001b[36mWebDriver.__init__\u001b[39m\u001b[34m(self, command_executor, keep_alive, file_detector, options, locator_converter, web_element_cls, client_config)\u001b[39m\n\u001b[32m    248\u001b[39m \u001b[38;5;28mself\u001b[39m._authenticator_id = \u001b[38;5;28;01mNone\u001b[39;00m\n\u001b[32m    249\u001b[39m \u001b[38;5;28mself\u001b[39m.start_client()\n\u001b[32m--> \u001b[39m\u001b[32m250\u001b[39m \u001b[38;5;28;43mself\u001b[39;49m\u001b[43m.\u001b[49m\u001b[43mstart_session\u001b[49m\u001b[43m(\u001b[49m\u001b[43mcapabilities\u001b[49m\u001b[43m)\u001b[49m\n\u001b[32m    251\u001b[39m \u001b[38;5;28mself\u001b[39m._fedcm = FedCM(\u001b[38;5;28mself\u001b[39m)\n\u001b[32m    253\u001b[39m \u001b[38;5;28mself\u001b[39m._websocket_connection = \u001b[38;5;28;01mNone\u001b[39;00m\n",
      "\u001b[36mFile \u001b[39m\u001b[32m~\\AppData\\Local\\Programs\\Python\\Python313\\Lib\\site-packages\\selenium\\webdriver\\remote\\webdriver.py:342\u001b[39m, in \u001b[36mWebDriver.start_session\u001b[39m\u001b[34m(self, capabilities)\u001b[39m\n\u001b[32m    333\u001b[39m \u001b[38;5;250m\u001b[39m\u001b[33;03m\"\"\"Creates a new session with the desired capabilities.\u001b[39;00m\n\u001b[32m    334\u001b[39m \n\u001b[32m    335\u001b[39m \u001b[33;03mParameters:\u001b[39;00m\n\u001b[32m   (...)\u001b[39m\u001b[32m    338\u001b[39m \u001b[33;03m    - A capabilities dict to start the session with.\u001b[39;00m\n\u001b[32m    339\u001b[39m \u001b[33;03m\"\"\"\u001b[39;00m\n\u001b[32m    341\u001b[39m caps = _create_caps(capabilities)\n\u001b[32m--> \u001b[39m\u001b[32m342\u001b[39m response = \u001b[38;5;28;43mself\u001b[39;49m\u001b[43m.\u001b[49m\u001b[43mexecute\u001b[49m\u001b[43m(\u001b[49m\u001b[43mCommand\u001b[49m\u001b[43m.\u001b[49m\u001b[43mNEW_SESSION\u001b[49m\u001b[43m,\u001b[49m\u001b[43m \u001b[49m\u001b[43mcaps\u001b[49m\u001b[43m)\u001b[49m[\u001b[33m\"\u001b[39m\u001b[33mvalue\u001b[39m\u001b[33m\"\u001b[39m]\n\u001b[32m    343\u001b[39m \u001b[38;5;28mself\u001b[39m.session_id = response.get(\u001b[33m\"\u001b[39m\u001b[33msessionId\u001b[39m\u001b[33m\"\u001b[39m)\n\u001b[32m    344\u001b[39m \u001b[38;5;28mself\u001b[39m.caps = response.get(\u001b[33m\"\u001b[39m\u001b[33mcapabilities\u001b[39m\u001b[33m\"\u001b[39m)\n",
      "\u001b[36mFile \u001b[39m\u001b[32m~\\AppData\\Local\\Programs\\Python\\Python313\\Lib\\site-packages\\selenium\\webdriver\\remote\\webdriver.py:429\u001b[39m, in \u001b[36mWebDriver.execute\u001b[39m\u001b[34m(self, driver_command, params)\u001b[39m\n\u001b[32m    427\u001b[39m response = \u001b[38;5;28mself\u001b[39m.command_executor.execute(driver_command, params)\n\u001b[32m    428\u001b[39m \u001b[38;5;28;01mif\u001b[39;00m response:\n\u001b[32m--> \u001b[39m\u001b[32m429\u001b[39m     \u001b[38;5;28;43mself\u001b[39;49m\u001b[43m.\u001b[49m\u001b[43merror_handler\u001b[49m\u001b[43m.\u001b[49m\u001b[43mcheck_response\u001b[49m\u001b[43m(\u001b[49m\u001b[43mresponse\u001b[49m\u001b[43m)\u001b[49m\n\u001b[32m    430\u001b[39m     response[\u001b[33m\"\u001b[39m\u001b[33mvalue\u001b[39m\u001b[33m\"\u001b[39m] = \u001b[38;5;28mself\u001b[39m._unwrap_value(response.get(\u001b[33m\"\u001b[39m\u001b[33mvalue\u001b[39m\u001b[33m\"\u001b[39m, \u001b[38;5;28;01mNone\u001b[39;00m))\n\u001b[32m    431\u001b[39m     \u001b[38;5;28;01mreturn\u001b[39;00m response\n",
      "\u001b[36mFile \u001b[39m\u001b[32m~\\AppData\\Local\\Programs\\Python\\Python313\\Lib\\site-packages\\selenium\\webdriver\\remote\\errorhandler.py:232\u001b[39m, in \u001b[36mErrorHandler.check_response\u001b[39m\u001b[34m(self, response)\u001b[39m\n\u001b[32m    230\u001b[39m         alert_text = value[\u001b[33m\"\u001b[39m\u001b[33malert\u001b[39m\u001b[33m\"\u001b[39m].get(\u001b[33m\"\u001b[39m\u001b[33mtext\u001b[39m\u001b[33m\"\u001b[39m)\n\u001b[32m    231\u001b[39m     \u001b[38;5;28;01mraise\u001b[39;00m exception_class(message, screen, stacktrace, alert_text)  \u001b[38;5;66;03m# type: ignore[call-arg]  # mypy is not smart enough here\u001b[39;00m\n\u001b[32m--> \u001b[39m\u001b[32m232\u001b[39m \u001b[38;5;28;01mraise\u001b[39;00m exception_class(message, screen, stacktrace)\n",
      "\u001b[31mSessionNotCreatedException\u001b[39m: Message: session not created: This version of ChromeDriver only supports Chrome version 135\nCurrent browser version is 139.0.7258.155 with binary path C:\\Program Files\\Google\\Chrome\\Application\\chrome.exe\nStacktrace:\n\tGetHandleVerifier [0x00007FF6F2295355+78597]\n\tGetHandleVerifier [0x00007FF6F22953B0+78688]\n\t(No symbol) [0x00007FF6F20491AA]\n\t(No symbol) [0x00007FF6F208D1CF]\n\t(No symbol) [0x00007FF6F208C21B]\n\t(No symbol) [0x00007FF6F20865A8]\n\t(No symbol) [0x00007FF6F2081A5D]\n\t(No symbol) [0x00007FF6F20D51E5]\n\t(No symbol) [0x00007FF6F20D47A0]\n\t(No symbol) [0x00007FF6F20C6EC3]\n\t(No symbol) [0x00007FF6F20903F8]\n\t(No symbol) [0x00007FF6F2091163]\n\tGetHandleVerifier [0x00007FF6F253EF0D+2870973]\n\tGetHandleVerifier [0x00007FF6F25396B8+2848360]\n\tGetHandleVerifier [0x00007FF6F2556993+2967875]\n\tGetHandleVerifier [0x00007FF6F22B019A+188746]\n\tGetHandleVerifier [0x00007FF6F22B847F+222255]\n\tGetHandleVerifier [0x00007FF6F229D2D4+111236]\n\tGetHandleVerifier [0x00007FF6F229D482+111666]\n\tGetHandleVerifier [0x00007FF6F22835A9+5465]\n\tBaseThreadInitThunk [0x00007FFB494F7374+20]\n\tRtlUserThreadStart [0x00007FFB4B4FCC91+33]\n"
     ]
    }
   ],
   "source": [
    "driver = webdriver.Chrome(service=service)"
   ]
  },
  {
   "cell_type": "code",
   "execution_count": 6,
   "id": "32c7e517-34f2-46b4-b792-052cc80db40f",
   "metadata": {},
   "outputs": [],
   "source": [
    "driver.get(BOOKSTOSCRAPE_URL)"
   ]
  },
  {
   "cell_type": "code",
   "execution_count": 7,
   "id": "fc3fb531-15bd-48c3-a4d2-e1e83cdde68e",
   "metadata": {},
   "outputs": [],
   "source": [
    "driver.implicitly_wait(30)"
   ]
  },
  {
   "cell_type": "code",
   "execution_count": 8,
   "id": "1d1c08d9-88c3-4313-8971-da2154f5820d",
   "metadata": {},
   "outputs": [],
   "source": [
    "imglmnt = driver.find_element(By.TAG_NAME, 'img')"
   ]
  },
  {
   "cell_type": "code",
   "execution_count": 9,
   "id": "8c7674c3-ba7a-4a61-85ed-16e63b3e3140",
   "metadata": {},
   "outputs": [],
   "source": [
    "driver.quit()"
   ]
  },
  {
   "cell_type": "code",
   "execution_count": null,
   "id": "ec3e231a-5cdc-4da8-888b-18dde5877aa4",
   "metadata": {},
   "outputs": [],
   "source": []
  }
 ],
 "metadata": {
  "kernelspec": {
   "display_name": "Python 3 (ipykernel)",
   "language": "python",
   "name": "python3"
  },
  "language_info": {
   "codemirror_mode": {
    "name": "ipython",
    "version": 3
   },
   "file_extension": ".py",
   "mimetype": "text/x-python",
   "name": "python",
   "nbconvert_exporter": "python",
   "pygments_lexer": "ipython3",
   "version": "3.13.7"
  }
 },
 "nbformat": 4,
 "nbformat_minor": 5
}
