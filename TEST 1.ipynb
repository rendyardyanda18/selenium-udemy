{
 "cells": [
  {
   "cell_type": "code",
   "execution_count": 1,
   "id": "1c10d160-4b11-49e1-8dc6-5dfcf5b40fcf",
   "metadata": {},
   "outputs": [],
   "source": [
    "from selenium import webdriver\n",
    "from selenium.webdriver.chrome.service import Service"
   ]
  },
  {
   "cell_type": "code",
   "execution_count": 2,
   "id": "df05b4b8-53b0-4a83-926a-d2adb1e10553",
   "metadata": {},
   "outputs": [],
   "source": [
    "from settings import CHROMEDRIVER_PATH, PYTHON_URL, GOLDBUGS_URL"
   ]
  },
  {
   "cell_type": "code",
   "execution_count": 3,
   "id": "089ee537-7a76-40e1-9ccf-cc2a0e143b6f",
   "metadata": {},
   "outputs": [],
   "source": [
    "service = Service(executable_path=CHROMEDRIVER_PATH)"
   ]
  },
  {
   "cell_type": "code",
   "execution_count": 4,
   "id": "1849a680-dbb9-44f7-aec6-b8d1ab1f405d",
   "metadata": {},
   "outputs": [],
   "source": [
    "driver = webdriver.Chrome(service=service)"
   ]
  },
  {
   "cell_type": "code",
   "execution_count": 5,
   "id": "4610e38b-a0ec-4c6c-8d69-ff058b8a2e24",
   "metadata": {},
   "outputs": [],
   "source": [
    "driver.get (PYTHON_URL)"
   ]
  },
  {
   "cell_type": "code",
   "execution_count": 6,
   "id": "2e18bc3e-6905-4828-a8ff-62f5b7934ff5",
   "metadata": {},
   "outputs": [],
   "source": [
    "driver.quit()"
   ]
  }
 ],
 "metadata": {
  "kernelspec": {
   "display_name": "Python 3 (ipykernel)",
   "language": "python",
   "name": "python3"
  },
  "language_info": {
   "codemirror_mode": {
    "name": "ipython",
    "version": 3
   },
   "file_extension": ".py",
   "mimetype": "text/x-python",
   "name": "python",
   "nbconvert_exporter": "python",
   "pygments_lexer": "ipython3",
   "version": "3.13.7"
  }
 },
 "nbformat": 4,
 "nbformat_minor": 5
}
