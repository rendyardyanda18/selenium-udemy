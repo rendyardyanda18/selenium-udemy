{
 "cells": [
  {
   "cell_type": "raw",
   "id": "b3c26891-d21a-48ca-bdbd-5f57184b7ae8",
   "metadata": {},
   "source": [
    "setup"
   ]
  },
  {
   "cell_type": "code",
   "execution_count": 4,
   "id": "42cc7831-49dc-40b9-b2d5-64f0edbb144b",
   "metadata": {},
   "outputs": [],
   "source": [
    "from selenium import webdriver\n",
    "from selenium.webdriver.chrome.service import Service\n",
    "from selenium.webdriver.common.by import By"
   ]
  },
  {
   "cell_type": "code",
   "execution_count": 5,
   "id": "53c1415e-bc88-4e95-9a3b-6c262d21f8dd",
   "metadata": {},
   "outputs": [],
   "source": [
    "from settings import CHROMEDRIVER_PATH, PYTHON_URL"
   ]
  },
  {
   "cell_type": "code",
   "execution_count": 6,
   "id": "cf5ed991-80d2-4414-9b64-87efac490e82",
   "metadata": {},
   "outputs": [],
   "source": [
    "service = Service(executable_path=CHROMEDRIVER_PATH)"
   ]
  },
  {
   "cell_type": "code",
   "execution_count": 7,
   "id": "30b21fc3-1851-4da8-9579-281cba1e9d08",
   "metadata": {},
   "outputs": [],
   "source": [
    "driver = webdriver.Chrome(service=service)"
   ]
  },
  {
   "cell_type": "code",
   "execution_count": 11,
   "id": "58ab4899-2de8-4f36-8db3-a04e99e41f69",
   "metadata": {},
   "outputs": [],
   "source": [
    "driver.get(PYTHON_URL)"
   ]
  },
  {
   "cell_type": "code",
   "execution_count": 12,
   "id": "2d18a607-6e66-49c5-a16d-7eae9f5efb7d",
   "metadata": {},
   "outputs": [],
   "source": [
    "element1 = driver.find_element(By.NAME, 'q')"
   ]
  },
  {
   "cell_type": "code",
   "execution_count": 13,
   "id": "423efd1a-41d6-421f-bab1-dacf26930fd4",
   "metadata": {},
   "outputs": [
    {
     "data": {
      "text/plain": [
       "'input'"
      ]
     },
     "execution_count": 13,
     "metadata": {},
     "output_type": "execute_result"
    }
   ],
   "source": [
    "element1.tag_name"
   ]
  },
  {
   "cell_type": "code",
   "execution_count": 14,
   "id": "ffb48b76-7a58-44f7-a719-88452609c401",
   "metadata": {},
   "outputs": [
    {
     "data": {
      "text/plain": [
       "'search-field'"
      ]
     },
     "execution_count": 14,
     "metadata": {},
     "output_type": "execute_result"
    }
   ],
   "source": [
    "element1.get_attribute('class')"
   ]
  },
  {
   "cell_type": "code",
   "execution_count": 19,
   "id": "8a8ff274-f046-432b-a310-e8fd34e89456",
   "metadata": {},
   "outputs": [],
   "source": [
    "element2 = driver.find_element(By.NAME, 'submit')"
   ]
  },
  {
   "cell_type": "code",
   "execution_count": 24,
   "id": "02367118-03ad-4bec-b88d-da39416f636f",
   "metadata": {},
   "outputs": [
    {
     "data": {
      "text/plain": [
       "'GO'"
      ]
     },
     "execution_count": 24,
     "metadata": {},
     "output_type": "execute_result"
    }
   ],
   "source": [
    "element2.text"
   ]
  },
  {
   "cell_type": "code",
   "execution_count": 25,
   "id": "09d43f2b-69be-480f-8714-81ce7b2cc539",
   "metadata": {},
   "outputs": [
    {
     "data": {
      "text/plain": [
       "''"
      ]
     },
     "execution_count": 25,
     "metadata": {},
     "output_type": "execute_result"
    }
   ],
   "source": [
    "element2.get_attribute('value')"
   ]
  },
  {
   "cell_type": "code",
   "execution_count": 26,
   "id": "09b56563-0b23-4779-95ab-3011afcaa98b",
   "metadata": {},
   "outputs": [],
   "source": [
    "element3 = driver.find_element(By.NAME, 'keywords')"
   ]
  },
  {
   "cell_type": "code",
   "execution_count": 27,
   "id": "2e724fbd-ebcb-490a-affe-8c161984d8ec",
   "metadata": {},
   "outputs": [
    {
     "data": {
      "text/plain": [
       "'meta'"
      ]
     },
     "execution_count": 27,
     "metadata": {},
     "output_type": "execute_result"
    }
   ],
   "source": [
    "element3.tag_name"
   ]
  },
  {
   "cell_type": "code",
   "execution_count": 29,
   "id": "d5d8accc-b8cc-4b9f-bfe6-5ec930d7ff97",
   "metadata": {},
   "outputs": [
    {
     "data": {
      "text/plain": [
       "'Python programming language object oriented web free open source software license documentation download community'"
      ]
     },
     "execution_count": 29,
     "metadata": {},
     "output_type": "execute_result"
    }
   ],
   "source": [
    "element3.get_attribute('content')"
   ]
  },
  {
   "cell_type": "code",
   "execution_count": 31,
   "id": "a0555e86-c318-4858-9701-b896f71f5346",
   "metadata": {},
   "outputs": [
    {
     "data": {
      "text/plain": [
       "str"
      ]
     },
     "execution_count": 31,
     "metadata": {},
     "output_type": "execute_result"
    }
   ],
   "source": [
    "type(element3.get_attribute('content'))"
   ]
  },
  {
   "cell_type": "code",
   "execution_count": 32,
   "id": "5a07d9f9-2fbb-4291-b91d-9f821220b4fd",
   "metadata": {},
   "outputs": [
    {
     "data": {
      "text/plain": [
       "['Python',\n",
       " 'programming',\n",
       " 'language',\n",
       " 'object',\n",
       " 'oriented',\n",
       " 'web',\n",
       " 'free',\n",
       " 'open',\n",
       " 'source',\n",
       " 'software',\n",
       " 'license',\n",
       " 'documentation',\n",
       " 'download',\n",
       " 'community']"
      ]
     },
     "execution_count": 32,
     "metadata": {},
     "output_type": "execute_result"
    }
   ],
   "source": [
    "element3.get_attribute('content').split()"
   ]
  },
  {
   "cell_type": "code",
   "execution_count": 33,
   "id": "b883a55f-db71-460c-a471-0fb810b55eb6",
   "metadata": {},
   "outputs": [],
   "source": [
    "driver.quit()"
   ]
  },
  {
   "cell_type": "code",
   "execution_count": null,
   "id": "6dba8e05-86a4-402d-92d4-695989b43577",
   "metadata": {},
   "outputs": [],
   "source": [
    " "
   ]
  }
 ],
 "metadata": {
  "kernelspec": {
   "display_name": "Python 3 (ipykernel)",
   "language": "python",
   "name": "python3"
  },
  "language_info": {
   "codemirror_mode": {
    "name": "ipython",
    "version": 3
   },
   "file_extension": ".py",
   "mimetype": "text/x-python",
   "name": "python",
   "nbconvert_exporter": "python",
   "pygments_lexer": "ipython3",
   "version": "3.13.3"
  }
 },
 "nbformat": 4,
 "nbformat_minor": 5
}
