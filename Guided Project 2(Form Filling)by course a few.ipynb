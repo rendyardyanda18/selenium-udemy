{
 "cells": [
  {
   "cell_type": "code",
   "execution_count": 49,
   "id": "d3c0dfef-0acc-4a45-92c4-5fa120963109",
   "metadata": {},
   "outputs": [],
   "source": [
    "from selenium import webdriver\n",
    "from selenium.webdriver.chrome.service import Service\n",
    "from selenium.webdriver.common.by import By\n",
    "from selenium.webdriver.common.action_chains import ActionChains\n",
    "from selenium.webdriver.support.ui import Select\n",
    "from selenium.webdriver.common.keys import Keys"
   ]
  },
  {
   "cell_type": "code",
   "execution_count": 4,
   "id": "81062362-273c-4b68-8a21-6f5431c6f872",
   "metadata": {},
   "outputs": [],
   "source": [
    "from settings import CHROMEDRIVER_PATH, GOLDBUGS_URL"
   ]
  },
  {
   "cell_type": "code",
   "execution_count": 5,
   "id": "0c7e2ba2-935e-4284-8042-2b3200686952",
   "metadata": {},
   "outputs": [],
   "source": [
    "service = Service(executable_path=CHROMEDRIVER_PATH)"
   ]
  },
  {
   "cell_type": "code",
   "execution_count": 6,
   "id": "a4d78b4c-efdc-4308-83ad-0bfe99f52d60",
   "metadata": {},
   "outputs": [],
   "source": [
    "driver = webdriver.Chrome(service=service)"
   ]
  },
  {
   "cell_type": "code",
   "execution_count": 5,
   "id": "ac399619-e994-4380-bfda-bb6d067b5103",
   "metadata": {},
   "outputs": [],
   "source": [
    "action = ActionChains(driver=driver)"
   ]
  },
  {
   "cell_type": "code",
   "execution_count": 8,
   "id": "80269952-c33a-4e8a-bddc-2d8982f0a9f9",
   "metadata": {},
   "outputs": [],
   "source": [
    "driver.get(GOLDBUGS_URL)"
   ]
  },
  {
   "cell_type": "code",
   "execution_count": 9,
   "id": "ae90921b-a274-469b-b6ad-0e41dab6c2f8",
   "metadata": {},
   "outputs": [],
   "source": [
    "formlmnt = driver.find_element(By.TAG_NAME, \"form\")"
   ]
  },
  {
   "cell_type": "code",
   "execution_count": 10,
   "id": "f076ba4a-e093-4c6c-8d19-d3a885a4700b",
   "metadata": {},
   "outputs": [],
   "source": [
    "frst_nme = driver.find_element(By.CSS_SELECTOR, '#name-yui_3_17_2_1_1664570076619_2727-fname-field')"
   ]
  },
  {
   "cell_type": "code",
   "execution_count": 11,
   "id": "242deb53-5d82-47b1-b616-91a5f888d559",
   "metadata": {},
   "outputs": [],
   "source": [
    "lst_nme = driver.find_element(By.CSS_SELECTOR, '#name-yui_3_17_2_1_1664570076619_2727-lname-field')"
   ]
  },
  {
   "cell_type": "code",
   "execution_count": 12,
   "id": "f099711f-7636-45dc-be8d-a3815aa9c8c3",
   "metadata": {},
   "outputs": [],
   "source": [
    "email_nme = driver.find_element(By.CSS_SELECTOR, '#email-yui_3_17_2_1_1664570076619_2728-field')"
   ]
  },
  {
   "cell_type": "code",
   "execution_count": 13,
   "id": "63f7c103-6033-4230-b91f-79a46e2b2c46",
   "metadata": {},
   "outputs": [],
   "source": [
    "sbjct_nme = driver.find_element(By.CSS_SELECTOR, '#text-yui_3_17_2_1_1664570076619_2729-field')"
   ]
  },
  {
   "cell_type": "code",
   "execution_count": 14,
   "id": "ec775176-8b38-423a-a221-0b1cb8b42038",
   "metadata": {},
   "outputs": [],
   "source": [
    "mssge_nme = driver.find_element(By.CSS_SELECTOR, '#textarea-yui_3_17_2_1_1664570076619_2730-field')"
   ]
  },
  {
   "cell_type": "code",
   "execution_count": 15,
   "id": "c7eaded9-13b4-4153-8544-9a454f788be4",
   "metadata": {},
   "outputs": [],
   "source": [
    "frst_nme.send_keys('gatau')"
   ]
  },
  {
   "cell_type": "code",
   "execution_count": 16,
   "id": "f835a0f3-a248-4c8f-a39a-188c9062b47d",
   "metadata": {},
   "outputs": [],
   "source": [
    "lst_nme.send_keys('terimakasih')"
   ]
  },
  {
   "cell_type": "code",
   "execution_count": 17,
   "id": "4725f2c4-a8bd-440f-a625-fbca5b671492",
   "metadata": {},
   "outputs": [],
   "source": [
    "email_nme.send_keys('gatau@yopmail.com')"
   ]
  },
  {
   "cell_type": "code",
   "execution_count": 18,
   "id": "c6e4d9ba-9c1d-411c-bde9-5f84fa28ad67",
   "metadata": {},
   "outputs": [],
   "source": [
    "sbjct_nme.send_keys('test subject')"
   ]
  },
  {
   "cell_type": "code",
   "execution_count": 19,
   "id": "d6a3f011-b87a-4322-a90d-1610d285caea",
   "metadata": {},
   "outputs": [],
   "source": [
    "mssge_nme.send_keys('test isi form')"
   ]
  },
  {
   "cell_type": "code",
   "execution_count": 20,
   "id": "8a4077ff-0dd1-4206-b899-3348be32c605",
   "metadata": {},
   "outputs": [],
   "source": [
    "rspnslmnt = formlmnt.find_element(By.NAME, 'checkbox-b5b9cc19-24e5-4c8c-960a-055837723942-field')"
   ]
  },
  {
   "cell_type": "code",
   "execution_count": 22,
   "id": "d280d45c-1e7c-4f1f-a9ba-da22ad612d56",
   "metadata": {},
   "outputs": [],
   "source": [
    "rspnslmnt.click()"
   ]
  },
  {
   "cell_type": "code",
   "execution_count": 23,
   "id": "faf059d0-aefc-4ad4-a70e-50b81e884d8b",
   "metadata": {},
   "outputs": [
    {
     "data": {
      "text/plain": [
       "True"
      ]
     },
     "execution_count": 23,
     "metadata": {},
     "output_type": "execute_result"
    }
   ],
   "source": [
    "rspnslmnt.is_selected()"
   ]
  },
  {
   "cell_type": "code",
   "execution_count": 43,
   "id": "2392802c-4331-41fd-a4f5-8d7616466197",
   "metadata": {},
   "outputs": [],
   "source": [
    "radiolmnt = formlmnt.find_element(By.ID, 'yui_3_17_2_1_1748751772263_656')"
   ]
  },
  {
   "cell_type": "code",
   "execution_count": 44,
   "id": "2c0a8f74-76dd-4c07-a3cc-bff0c78673a6",
   "metadata": {},
   "outputs": [],
   "source": [
    "radiolmnt.click()"
   ]
  },
  {
   "cell_type": "code",
   "execution_count": 45,
   "id": "da301cc3-6f6c-4dd3-93d8-f7aa4d283618",
   "metadata": {},
   "outputs": [
    {
     "data": {
      "text/plain": [
       "False"
      ]
     },
     "execution_count": 45,
     "metadata": {},
     "output_type": "execute_result"
    }
   ],
   "source": [
    "radiolmnt.is_selected()"
   ]
  },
  {
   "cell_type": "code",
   "execution_count": 47,
   "id": "fb74b0dc-a0eb-4815-b530-c3b0a5f18507",
   "metadata": {},
   "outputs": [],
   "source": [
    "slctlmnt = formlmnt.find_element(By.ID, 'select-e1f50715-c8a7-48eb-bc99-2c245676068c-field')"
   ]
  },
  {
   "cell_type": "code",
   "execution_count": 50,
   "id": "eac8916b-2ed8-421e-8f24-cdc579e794f6",
   "metadata": {},
   "outputs": [],
   "source": [
    "slct = Select(slctlmnt)"
   ]
  },
  {
   "cell_type": "code",
   "execution_count": 52,
   "id": "f5b83f59-6749-40ea-bcbb-ae1ef7f13c25",
   "metadata": {},
   "outputs": [
    {
     "data": {
      "text/plain": [
       "[<selenium.webdriver.remote.webelement.WebElement (session=\"d1a2fa5769f61ed8b7da7e7e0926afe5\", element=\"f.2DCF8E4386B76740735796DF0C314E01.d.C0B89DE4B2D296CA044D81416211EE73.e.412\")>,\n",
       " <selenium.webdriver.remote.webelement.WebElement (session=\"d1a2fa5769f61ed8b7da7e7e0926afe5\", element=\"f.2DCF8E4386B76740735796DF0C314E01.d.C0B89DE4B2D296CA044D81416211EE73.e.415\")>,\n",
       " <selenium.webdriver.remote.webelement.WebElement (session=\"d1a2fa5769f61ed8b7da7e7e0926afe5\", element=\"f.2DCF8E4386B76740735796DF0C314E01.d.C0B89DE4B2D296CA044D81416211EE73.e.418\")>,\n",
       " <selenium.webdriver.remote.webelement.WebElement (session=\"d1a2fa5769f61ed8b7da7e7e0926afe5\", element=\"f.2DCF8E4386B76740735796DF0C314E01.d.C0B89DE4B2D296CA044D81416211EE73.e.421\")>,\n",
       " <selenium.webdriver.remote.webelement.WebElement (session=\"d1a2fa5769f61ed8b7da7e7e0926afe5\", element=\"f.2DCF8E4386B76740735796DF0C314E01.d.C0B89DE4B2D296CA044D81416211EE73.e.424\")>]"
      ]
     },
     "execution_count": 52,
     "metadata": {},
     "output_type": "execute_result"
    }
   ],
   "source": [
    "slct.options"
   ]
  },
  {
   "cell_type": "code",
   "execution_count": 53,
   "id": "ed970a49-9e59-43e7-89e4-d152b0123403",
   "metadata": {},
   "outputs": [
    {
     "data": {
      "text/plain": [
       "['Select an option', 'Google', 'Facebook', 'Instagram', 'Other']"
      ]
     },
     "execution_count": 53,
     "metadata": {},
     "output_type": "execute_result"
    }
   ],
   "source": [
    "[option.text for option in slct.options]"
   ]
  },
  {
   "cell_type": "code",
   "execution_count": 54,
   "id": "ddde06d9-9400-4f9e-a87d-25b036eede25",
   "metadata": {},
   "outputs": [],
   "source": [
    "slct.select_by_value('Instagram')"
   ]
  },
  {
   "cell_type": "code",
   "execution_count": 58,
   "id": "67cbb649-930e-485e-b684-79ca8925c201",
   "metadata": {},
   "outputs": [],
   "source": [
    "surey_radio = formlmnt.find_element(By.XPATH, '//label[@class=\"Giwj54DpggM6ElFH\"]')"
   ]
  },
  {
   "cell_type": "code",
   "execution_count": 59,
   "id": "a94aea63-4b3e-4c57-9d09-e16dd1c23e5f",
   "metadata": {},
   "outputs": [],
   "source": [
    "surey_radio.click()"
   ]
  },
  {
   "cell_type": "code",
   "execution_count": 61,
   "id": "6891b7c3-7f23-4298-8aac-9763512ae31d",
   "metadata": {},
   "outputs": [
    {
     "data": {
      "text/plain": [
       "'form'"
      ]
     },
     "execution_count": 61,
     "metadata": {},
     "output_type": "execute_result"
    }
   ],
   "source": [
    "formlmnt.tag_name"
   ]
  },
  {
   "cell_type": "code",
   "execution_count": 62,
   "id": "1e145633-e839-48e6-beb6-8ac5729cd527",
   "metadata": {},
   "outputs": [],
   "source": [
    "formlmnt.submit()"
   ]
  },
  {
   "cell_type": "code",
   "execution_count": null,
   "id": "b89da1e2-3eca-4bdb-86c0-c53305d12b0e",
   "metadata": {},
   "outputs": [],
   "source": []
  }
 ],
 "metadata": {
  "kernelspec": {
   "display_name": "Python 3 (ipykernel)",
   "language": "python",
   "name": "python3"
  },
  "language_info": {
   "codemirror_mode": {
    "name": "ipython",
    "version": 3
   },
   "file_extension": ".py",
   "mimetype": "text/x-python",
   "name": "python",
   "nbconvert_exporter": "python",
   "pygments_lexer": "ipython3",
   "version": "3.13.3"
  }
 },
 "nbformat": 4,
 "nbformat_minor": 5
}
