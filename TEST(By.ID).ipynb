{
 "cells": [
  {
   "cell_type": "code",
   "execution_count": 1,
   "id": "bada86ef-9ed5-4b79-8642-e8332ffb7246",
   "metadata": {},
   "outputs": [],
   "source": [
    "from selenium import webdriver\n",
    "from selenium.webdriver.chrome.service import Service\n",
    "from selenium.webdriver.common.by import By"
   ]
  },
  {
   "cell_type": "code",
   "execution_count": 2,
   "id": "97483a5a-688a-4dfe-ad68-20d21f70db9e",
   "metadata": {},
   "outputs": [],
   "source": [
    "from settings import CHROMEDRIVER_PATH, SELENIUM_URL"
   ]
  },
  {
   "cell_type": "code",
   "execution_count": 3,
   "id": "4341f094-3ff0-4036-b82c-8e931715d73b",
   "metadata": {},
   "outputs": [],
   "source": [
    "service = Service(executable_path=CHROMEDRIVER_PATH)"
   ]
  },
  {
   "cell_type": "code",
   "execution_count": 4,
   "id": "baeab684-5d28-43dc-8a6f-3b25096d3310",
   "metadata": {},
   "outputs": [],
   "source": [
    "driver = webdriver.Chrome(service=service)"
   ]
  },
  {
   "cell_type": "code",
   "execution_count": 5,
   "id": "32ab4e30-4f6a-4f37-b821-4301274db2cc",
   "metadata": {},
   "outputs": [],
   "source": [
    "driver.get(SELENIUM_URL)"
   ]
  },
  {
   "cell_type": "code",
   "execution_count": 8,
   "id": "42630ead-283c-4369-81a1-a763c21162fd",
   "metadata": {},
   "outputs": [],
   "source": [
    "element1 = driver.find_element(By.ID, 'main_navbar')"
   ]
  },
  {
   "cell_type": "code",
   "execution_count": 9,
   "id": "4ee5d977-12e2-4306-ad91-c3975ad9520c",
   "metadata": {},
   "outputs": [
    {
     "data": {
      "text/plain": [
       "'div'"
      ]
     },
     "execution_count": 9,
     "metadata": {},
     "output_type": "execute_result"
    }
   ],
   "source": [
    "element1.tag_name"
   ]
  },
  {
   "cell_type": "code",
   "execution_count": 10,
   "id": "42909a3b-0eba-423e-ba50-62ac6a68b2ca",
   "metadata": {},
   "outputs": [
    {
     "data": {
      "text/plain": [
       "'<ul class=\"navbar-nav mr-4 mb-2 mb-lg-0 ps-4 ps-lg-2\"><li class=\"nav-item dropdown\"><a class=\"nav-link dropdown-toggle\" href=\"#\" id=\"navbarDropdown\" role=\"button\" data-bs-toggle=\"dropdown\" aria-haspopup=\"true\" aria-expanded=\"false\">About</a><div class=\"dropdown-menu\" aria-labelledby=\"navbarDropdown\"><a class=\"dropdown-item\" href=\"/about\">About Selenium</a>\\n<a class=\"dropdown-item\" href=\"/project\">Structure and Governance</a>\\n<a class=\"dropdown-item\" href=\"/events\">Events</a>\\n<a class=\"dropdown-item\" href=\"/ecosystem\">Ecosystem</a>\\n<a class=\"dropdown-item\" href=\"/history\">History</a>\\n<a class=\"dropdown-item\" href=\"/getinvolved\">Get Involved</a>\\n<a class=\"dropdown-item\" href=\"/sponsors\">Sponsors</a>\\n<a class=\"dropdown-item\" href=\"/sponsor\">Sponsor Us</a></div></li><li class=\"nav-item mr-4 mb-2 mb-lg-0\"><a class=\"nav-link\" href=\"/downloads\"><span>Downloads</span></a></li><li class=\"nav-item mr-4 mb-2 mb-lg-0\"><a class=\"nav-link\" href=\"/documentation\"><span>Documentation</span></a></li><li class=\"nav-item mr-4 mb-2 mb-lg-0\"><a class=\"nav-link\" href=\"/projects\"><span>Projects</span></a></li><li class=\"nav-item mr-4 mb-2 mb-lg-0\"><a class=\"nav-link\" href=\"/support\"><span>Support</span></a></li><li class=\"nav-item mr-4 mb-2 mb-lg-0\"><a class=\"nav-link\" href=\"/blog\"><span>Blog</span></a></li><li class=\"nav-item dropdown d-none d-lg-block\"><div class=\"dropdown\"><a class=\"nav-link dropdown-toggle\" href=\"#\" role=\"button\" data-bs-toggle=\"dropdown\" aria-haspopup=\"true\" aria-expanded=\"false\">English</a><ul class=\"dropdown-menu\"><li><a class=\"dropdown-item\" href=\"/pt-br/\">Português (Brasileiro)</a></li><li><a class=\"dropdown-item\" href=\"/zh-cn/\">中文简体</a></li><li><a class=\"dropdown-item\" href=\"/ja/\">日本語</a></li><li><a class=\"dropdown-item\" href=\"/other/\">Other</a></li></ul></div></li></ul><div class=\"navbar-nav\"><div class=\"td-search\"><div class=\"td-search--algolia\" id=\"docsearch-1\"></div></div></div>'"
      ]
     },
     "execution_count": 10,
     "metadata": {},
     "output_type": "execute_result"
    }
   ],
   "source": [
    "element1.get_attribute('innerHTML')"
   ]
  },
  {
   "cell_type": "code",
   "execution_count": 11,
   "id": "a655b850-49b4-483b-b4e3-66dfa34808df",
   "metadata": {},
   "outputs": [],
   "source": [
    "element2 = driver.find_element(By.ID, 'Layer_1')"
   ]
  },
  {
   "cell_type": "code",
   "execution_count": 12,
   "id": "61957a5f-e52e-4cd1-99e4-d6189f08d01d",
   "metadata": {},
   "outputs": [
    {
     "data": {
      "text/plain": [
       "'svg'"
      ]
     },
     "execution_count": 12,
     "metadata": {},
     "output_type": "execute_result"
    }
   ],
   "source": [
    "element2.tag_name\n"
   ]
  },
  {
   "cell_type": "markdown",
   "id": "1778a906-ff13-41bd-8981-9b2cd318b69d",
   "metadata": {},
   "source": [
    "element2.get_attribute"
   ]
  },
  {
   "cell_type": "code",
   "execution_count": 16,
   "id": "504b2074-7112-47b4-9542-61e4f24dc0b0",
   "metadata": {},
   "outputs": [
    {
     "data": {
      "text/plain": [
       "'Layer 1'"
      ]
     },
     "execution_count": 16,
     "metadata": {},
     "output_type": "execute_result"
    }
   ],
   "source": [
    "element2.get_attribute('data-name')"
   ]
  },
  {
   "cell_type": "code",
   "execution_count": 18,
   "id": "27b86d4a-e3fa-4e8c-bf37-379501696e7b",
   "metadata": {},
   "outputs": [],
   "source": [
    "element3 = driver.find_element(By.CSS_SELECTOR, 'svg#Layer_1')"
   ]
  },
  {
   "cell_type": "code",
   "execution_count": 19,
   "id": "846bfd02-6dd5-4dbf-8f4f-354cec5394eb",
   "metadata": {},
   "outputs": [
    {
     "data": {
      "text/plain": [
       "'Layer 1'"
      ]
     },
     "execution_count": 19,
     "metadata": {},
     "output_type": "execute_result"
    }
   ],
   "source": [
    "element3.get_attribute('data-name')"
   ]
  },
  {
   "cell_type": "code",
   "execution_count": 21,
   "id": "2054bfcb-7b20-4674-b8c2-800894827fbf",
   "metadata": {},
   "outputs": [],
   "source": [
    "driver.quit()"
   ]
  },
  {
   "cell_type": "code",
   "execution_count": null,
   "id": "f38a20b2-71ee-4b1e-988f-61c6f127f86e",
   "metadata": {},
   "outputs": [],
   "source": []
  }
 ],
 "metadata": {
  "kernelspec": {
   "display_name": "Python 3 (ipykernel)",
   "language": "python",
   "name": "python3"
  },
  "language_info": {
   "codemirror_mode": {
    "name": "ipython",
    "version": 3
   },
   "file_extension": ".py",
   "mimetype": "text/x-python",
   "name": "python",
   "nbconvert_exporter": "python",
   "pygments_lexer": "ipython3",
   "version": "3.13.3"
  }
 },
 "nbformat": 4,
 "nbformat_minor": 5
}
