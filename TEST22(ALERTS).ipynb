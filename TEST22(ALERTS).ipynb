{
 "cells": [
  {
   "cell_type": "code",
   "execution_count": 1,
   "id": "2d4f11d9-fca5-4dfa-bf71-59dfa733dda3",
   "metadata": {},
   "outputs": [],
   "source": [
    "from selenium import webdriver\n",
    "from selenium.webdriver.chrome.service import Service\n",
    "from selenium.webdriver.common.by import By"
   ]
  },
  {
   "cell_type": "code",
   "execution_count": 2,
   "id": "231762b9-ffdf-436f-a257-db8226f03fcf",
   "metadata": {},
   "outputs": [],
   "source": [
    "from settings import CHROMEDRIVER_PATH, BOOKSTOSCRAPE_URL, PYTHON_URL"
   ]
  },
  {
   "cell_type": "code",
   "execution_count": 3,
   "id": "a163733a-714e-41d5-a7fa-89164d25fc23",
   "metadata": {},
   "outputs": [],
   "source": [
    "service = Service(executable_path=CHROMEDRIVER_PATH)"
   ]
  },
  {
   "cell_type": "code",
   "execution_count": 4,
   "id": "26969016-b604-4960-859a-91bba689fdbf",
   "metadata": {},
   "outputs": [],
   "source": [
    "driver = webdriver.Chrome(service=service)"
   ]
  },
  {
   "cell_type": "code",
   "execution_count": 5,
   "id": "3317f3f0-494f-43cf-b62b-f196947f796a",
   "metadata": {},
   "outputs": [],
   "source": [
    "driver.get(BOOKSTOSCRAPE_URL)"
   ]
  },
  {
   "cell_type": "code",
   "execution_count": 23,
   "id": "eb247314-71ab-46ca-b8a0-2672d357dbc2",
   "metadata": {},
   "outputs": [],
   "source": [
    "driver.execute_script(\"alert('Hey! This is an ambush. HAHA')\")"
   ]
  },
  {
   "cell_type": "code",
   "execution_count": 24,
   "id": "df801a26-31d4-45d9-8b18-7cb8f32fa146",
   "metadata": {},
   "outputs": [],
   "source": [
    "alert = driver.switch_to.alert"
   ]
  },
  {
   "cell_type": "code",
   "execution_count": 25,
   "id": "a48f5a74-2053-4bf2-9455-293f1775a6a6",
   "metadata": {},
   "outputs": [
    {
     "data": {
      "text/plain": [
       "'Hey! This is an ambush. HAHA'"
      ]
     },
     "execution_count": 25,
     "metadata": {},
     "output_type": "execute_result"
    }
   ],
   "source": [
    "alert.text"
   ]
  },
  {
   "cell_type": "code",
   "execution_count": 26,
   "id": "fc70a67e-47e6-4f70-8d27-9fb7f608ba33",
   "metadata": {},
   "outputs": [],
   "source": [
    "alert.accept()"
   ]
  },
  {
   "cell_type": "code",
   "execution_count": 14,
   "id": "eb173bf4-d7d7-4402-aaa7-e03a5880600a",
   "metadata": {},
   "outputs": [],
   "source": [
    "driver.execute_script(\"confirm('Do you wish to confirm?')\")"
   ]
  },
  {
   "cell_type": "code",
   "execution_count": 15,
   "id": "c60f3bd0-46c6-496b-aeee-c84a95b7651b",
   "metadata": {},
   "outputs": [],
   "source": [
    "alert1 = driver.switch_to.alert"
   ]
  },
  {
   "cell_type": "code",
   "execution_count": 12,
   "id": "838d65eb-0f11-4d61-bde1-0637ef2a38b9",
   "metadata": {},
   "outputs": [
    {
     "data": {
      "text/plain": [
       "'Do you wish to confirm?'"
      ]
     },
     "execution_count": 12,
     "metadata": {},
     "output_type": "execute_result"
    }
   ],
   "source": [
    "alert1.text"
   ]
  },
  {
   "cell_type": "code",
   "execution_count": 13,
   "id": "c35f6b5b-835b-43e7-8cfb-b54f7cdb20a5",
   "metadata": {},
   "outputs": [],
   "source": [
    "alert1.dismiss()"
   ]
  },
  {
   "cell_type": "code",
   "execution_count": 16,
   "id": "3ac1ee88-55e3-4cee-92fd-61932b8d80a6",
   "metadata": {},
   "outputs": [],
   "source": [
    "alert1.accept()"
   ]
  },
  {
   "cell_type": "code",
   "execution_count": 17,
   "id": "c251813a-ec5e-44d0-9eba-6c392ea188e2",
   "metadata": {},
   "outputs": [],
   "source": [
    "driver.quit()"
   ]
  },
  {
   "cell_type": "code",
   "execution_count": null,
   "id": "bd0f6800-cd74-4c31-b52d-6b56df1dfe48",
   "metadata": {},
   "outputs": [],
   "source": []
  }
 ],
 "metadata": {
  "kernelspec": {
   "display_name": "Python 3 (ipykernel)",
   "language": "python",
   "name": "python3"
  },
  "language_info": {
   "codemirror_mode": {
    "name": "ipython",
    "version": 3
   },
   "file_extension": ".py",
   "mimetype": "text/x-python",
   "name": "python",
   "nbconvert_exporter": "python",
   "pygments_lexer": "ipython3",
   "version": "3.13.3"
  }
 },
 "nbformat": 4,
 "nbformat_minor": 5
}
