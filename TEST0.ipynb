{
 "cells": [
  {
   "cell_type": "code",
   "execution_count": 1,
   "id": "936f1825-b7c3-45d1-a522-e30a6c43d4f5",
   "metadata": {},
   "outputs": [],
   "source": [
    "from settings import CHROMEDRIVER_PATH"
   ]
  },
  {
   "cell_type": "code",
   "execution_count": 2,
   "id": "02e280b2-d32a-4553-9aac-5abd2b6fe2a5",
   "metadata": {},
   "outputs": [
    {
     "name": "stdout",
     "output_type": "stream",
     "text": [
      "C:\\Users\\Rendy Theoanantyo\\Documents\\webdrivers\\chromedriver.exe\n"
     ]
    }
   ],
   "source": [
    "print (CHROMEDRIVER_PATH)"
   ]
  },
  {
   "cell_type": "code",
   "execution_count": 4,
   "id": "f131cf14-9177-48e0-a8cb-e97453b66537",
   "metadata": {},
   "outputs": [],
   "source": [
    "from selenium import webdriver"
   ]
  },
  {
   "cell_type": "code",
   "execution_count": null,
   "id": "5e520ee9-19e0-4e20-86ed-9a0558ee3245",
   "metadata": {},
   "outputs": [],
   "source": []
  }
 ],
 "metadata": {
  "kernelspec": {
   "display_name": "Python 3 (ipykernel)",
   "language": "python",
   "name": "python3"
  },
  "language_info": {
   "codemirror_mode": {
    "name": "ipython",
    "version": 3
   },
   "file_extension": ".py",
   "mimetype": "text/x-python",
   "name": "python",
   "nbconvert_exporter": "python",
   "pygments_lexer": "ipython3",
   "version": "3.13.3"
  }
 },
 "nbformat": 4,
 "nbformat_minor": 5
}
