{
 "cells": [
  {
   "cell_type": "code",
   "execution_count": 13,
   "id": "7b20c5b5-9471-41e7-817e-a0ff592851f7",
   "metadata": {},
   "outputs": [],
   "source": [
    "from selenium import webdriver\n",
    "from selenium.webdriver.chrome.service import Service\n",
    "from selenium.webdriver.common.by import By\n",
    "from selenium.webdriver.support.ui import Select"
   ]
  },
  {
   "cell_type": "code",
   "execution_count": 14,
   "id": "8ecef720-20f5-49b1-b599-e76bdac80484",
   "metadata": {},
   "outputs": [],
   "source": [
    "from settings import CHROMEDRIVER_PATH, GOLDBUGS_URL"
   ]
  },
  {
   "cell_type": "code",
   "execution_count": 15,
   "id": "fec0846e-d3df-4ada-bc7e-95dca9334a4f",
   "metadata": {},
   "outputs": [],
   "source": [
    "service = Service(executable_path=CHROMEDRIVER_PATH)"
   ]
  },
  {
   "cell_type": "code",
   "execution_count": 16,
   "id": "0500bf3c-a187-4a2d-8a5b-e993f155643f",
   "metadata": {},
   "outputs": [],
   "source": [
    "driver = webdriver.Chrome(service=service)"
   ]
  },
  {
   "cell_type": "code",
   "execution_count": 17,
   "id": "2b3cc37c-fb9a-4163-9419-2d6f709747d2",
   "metadata": {},
   "outputs": [],
   "source": [
    "driver.get(GOLDBUGS_URL)"
   ]
  },
  {
   "cell_type": "code",
   "execution_count": 34,
   "id": "84ad5cf8-d6fb-4728-9951-8b65ee680191",
   "metadata": {},
   "outputs": [],
   "source": [
    "selectlmnt = driver.find_element(By.ID, 'select-e1f50715-c8a7-48eb-bc99-2c245676068c-field')"
   ]
  },
  {
   "cell_type": "code",
   "execution_count": 36,
   "id": "0b0cb164-2f5d-4b30-b571-2ddac40d4ffe",
   "metadata": {},
   "outputs": [
    {
     "name": "stdout",
     "output_type": "stream",
     "text": [
      "Select an option\n",
      "Google\n",
      "Facebook\n",
      "Instagram\n",
      "Other\n"
     ]
    }
   ],
   "source": [
    "print(selectlmnt.text)"
   ]
  },
  {
   "cell_type": "code",
   "execution_count": 37,
   "id": "a563dda6-bccc-44c2-82d4-aba4d74cb106",
   "metadata": {},
   "outputs": [],
   "source": [
    "optionslmnt = selectlmnt.find_elements(By.TAG_NAME, 'option')"
   ]
  },
  {
   "cell_type": "code",
   "execution_count": 39,
   "id": "9b4b5504-9ce5-41ac-a22a-24c2e6ff3d16",
   "metadata": {},
   "outputs": [
    {
     "data": {
      "text/plain": [
       "5"
      ]
     },
     "execution_count": 39,
     "metadata": {},
     "output_type": "execute_result"
    }
   ],
   "source": [
    "len(optionslmnt)"
   ]
  },
  {
   "cell_type": "code",
   "execution_count": 40,
   "id": "0b4c6f42-d793-4e31-bf6a-4a45ef6b4538",
   "metadata": {},
   "outputs": [],
   "source": [
    "option1 = optionslmnt[0]"
   ]
  },
  {
   "cell_type": "code",
   "execution_count": 41,
   "id": "cc458c35-2c60-49d5-aea6-b192b7b836a7",
   "metadata": {},
   "outputs": [
    {
     "data": {
      "text/plain": [
       "'Select an option'"
      ]
     },
     "execution_count": 41,
     "metadata": {},
     "output_type": "execute_result"
    }
   ],
   "source": [
    "option1.text"
   ]
  },
  {
   "cell_type": "code",
   "execution_count": 49,
   "id": "2a6bd749-b860-47b8-9a26-d67cb2050959",
   "metadata": {},
   "outputs": [
    {
     "name": "stdout",
     "output_type": "stream",
     "text": [
      "Select an option: Select an option\n",
      "Google: Google\n",
      "Facebook: Facebook\n",
      "Instagram: Instagram\n",
      "Other: Other\n"
     ]
    }
   ],
   "source": [
    "for lmnt in optionslmnt:\n",
    "    print(f'{lmnt.text}: {lmnt.get_attribute(\"value\")}')"
   ]
  },
  {
   "cell_type": "code",
   "execution_count": 51,
   "id": "8b6bde07-e775-4fe3-9ce4-c6f0aeec214f",
   "metadata": {},
   "outputs": [],
   "source": [
    "optionslmnt[1].click()"
   ]
  },
  {
   "cell_type": "code",
   "execution_count": 53,
   "id": "4200854f-0c29-4c64-9c0d-80646e2a5c3a",
   "metadata": {},
   "outputs": [],
   "source": [
    "select = Select(selectlmnt)"
   ]
  },
  {
   "cell_type": "code",
   "execution_count": 59,
   "id": "b989822b-42c0-4fdb-896c-f577604b6690",
   "metadata": {},
   "outputs": [
    {
     "data": {
      "text/plain": [
       "[<selenium.webdriver.remote.webelement.WebElement (session=\"6599ae9bb3ae2b3414b3ce7a98ec4226\", element=\"f.84129CA51A2459C01DF7BD5AE352EEF0.d.88847BF670419166F0A397567DC769F2.e.624\")>,\n",
       " <selenium.webdriver.remote.webelement.WebElement (session=\"6599ae9bb3ae2b3414b3ce7a98ec4226\", element=\"f.84129CA51A2459C01DF7BD5AE352EEF0.d.88847BF670419166F0A397567DC769F2.e.626\")>,\n",
       " <selenium.webdriver.remote.webelement.WebElement (session=\"6599ae9bb3ae2b3414b3ce7a98ec4226\", element=\"f.84129CA51A2459C01DF7BD5AE352EEF0.d.88847BF670419166F0A397567DC769F2.e.627\")>,\n",
       " <selenium.webdriver.remote.webelement.WebElement (session=\"6599ae9bb3ae2b3414b3ce7a98ec4226\", element=\"f.84129CA51A2459C01DF7BD5AE352EEF0.d.88847BF670419166F0A397567DC769F2.e.628\")>]"
      ]
     },
     "execution_count": 59,
     "metadata": {},
     "output_type": "execute_result"
    }
   ],
   "source": [
    "select.options"
   ]
  },
  {
   "cell_type": "code",
   "execution_count": 55,
   "id": "a6ab274a-46ab-4f01-a890-86ac47572812",
   "metadata": {},
   "outputs": [
    {
     "name": "stdout",
     "output_type": "stream",
     "text": [
      "['Google', 'Facebook', 'Instagram', 'Other']\n"
     ]
    }
   ],
   "source": [
    "print([option.text for option in select.options])"
   ]
  },
  {
   "cell_type": "code",
   "execution_count": 61,
   "id": "16269fd9-9dfb-4346-9421-468e70960408",
   "metadata": {},
   "outputs": [],
   "source": [
    "select.select_by_index(0)"
   ]
  },
  {
   "cell_type": "code",
   "execution_count": 63,
   "id": "3268343c-9804-49ac-bf7f-f665e3753b97",
   "metadata": {},
   "outputs": [],
   "source": [
    "select.select_by_visible_text('Other')"
   ]
  },
  {
   "cell_type": "code",
   "execution_count": 64,
   "id": "d6b35b4e-9fb7-409b-9615-c0334b3e0b7f",
   "metadata": {},
   "outputs": [
    {
     "ename": "NotImplementedError",
     "evalue": "You may only deselect all options of a multi-select",
     "output_type": "error",
     "traceback": [
      "\u001b[31m---------------------------------------------------------------------------\u001b[39m",
      "\u001b[31mNotImplementedError\u001b[39m                       Traceback (most recent call last)",
      "\u001b[36mCell\u001b[39m\u001b[36m \u001b[39m\u001b[32mIn[64]\u001b[39m\u001b[32m, line 1\u001b[39m\n\u001b[32m----> \u001b[39m\u001b[32m1\u001b[39m \u001b[43mselect\u001b[49m\u001b[43m.\u001b[49m\u001b[43mdeselect_all\u001b[49m\u001b[43m(\u001b[49m\u001b[43m)\u001b[49m\n",
      "\u001b[36mFile \u001b[39m\u001b[32m~\\AppData\\Local\\Programs\\Python\\Python313\\Lib\\site-packages\\selenium\\webdriver\\support\\select.py:151\u001b[39m, in \u001b[36mSelect.deselect_all\u001b[39m\u001b[34m(self)\u001b[39m\n\u001b[32m    144\u001b[39m \u001b[38;5;250m\u001b[39m\u001b[33;03m\"\"\"Clear all selected entries.\u001b[39;00m\n\u001b[32m    145\u001b[39m \n\u001b[32m    146\u001b[39m \u001b[33;03mThis is only valid when the SELECT supports multiple selections.\u001b[39;00m\n\u001b[32m    147\u001b[39m \u001b[33;03mthrows NotImplementedError If the SELECT does not support\u001b[39;00m\n\u001b[32m    148\u001b[39m \u001b[33;03mmultiple selections\u001b[39;00m\n\u001b[32m    149\u001b[39m \u001b[33;03m\"\"\"\u001b[39;00m\n\u001b[32m    150\u001b[39m \u001b[38;5;28;01mif\u001b[39;00m \u001b[38;5;129;01mnot\u001b[39;00m \u001b[38;5;28mself\u001b[39m.is_multiple:\n\u001b[32m--> \u001b[39m\u001b[32m151\u001b[39m     \u001b[38;5;28;01mraise\u001b[39;00m \u001b[38;5;167;01mNotImplementedError\u001b[39;00m(\u001b[33m\"\u001b[39m\u001b[33mYou may only deselect all options of a multi-select\u001b[39m\u001b[33m\"\u001b[39m)\n\u001b[32m    152\u001b[39m \u001b[38;5;28;01mfor\u001b[39;00m opt \u001b[38;5;129;01min\u001b[39;00m \u001b[38;5;28mself\u001b[39m.options:\n\u001b[32m    153\u001b[39m     \u001b[38;5;28mself\u001b[39m._unset_selected(opt)\n",
      "\u001b[31mNotImplementedError\u001b[39m: You may only deselect all options of a multi-select"
     ]
    }
   ],
   "source": [
    "select.deselect_all()"
   ]
  },
  {
   "cell_type": "code",
   "execution_count": 65,
   "id": "ce617854-c4cc-4058-9202-7d9f1a1e6960",
   "metadata": {},
   "outputs": [],
   "source": [
    "driver.quit()"
   ]
  },
  {
   "cell_type": "code",
   "execution_count": null,
   "id": "a2f9d828-6d6a-4614-9617-6da37c3bd90e",
   "metadata": {},
   "outputs": [],
   "source": []
  }
 ],
 "metadata": {
  "kernelspec": {
   "display_name": "Python 3 (ipykernel)",
   "language": "python",
   "name": "python3"
  },
  "language_info": {
   "codemirror_mode": {
    "name": "ipython",
    "version": 3
   },
   "file_extension": ".py",
   "mimetype": "text/x-python",
   "name": "python",
   "nbconvert_exporter": "python",
   "pygments_lexer": "ipython3",
   "version": "3.13.3"
  }
 },
 "nbformat": 4,
 "nbformat_minor": 5
}
