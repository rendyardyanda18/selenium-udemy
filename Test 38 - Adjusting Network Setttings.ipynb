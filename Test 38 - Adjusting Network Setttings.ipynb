{
 "cells": [
  {
   "cell_type": "code",
   "execution_count": 6,
   "id": "b0371ce1-3721-4df0-9bda-9e20f18536d8",
   "metadata": {},
   "outputs": [],
   "source": [
    "from selenium import webdriver\n",
    "from selenium.webdriver.chrome.service import Service\n",
    "\n",
    "from settings import CHROMEDRIVER_PATH, SELENIUM_URL, PYTHON_URL"
   ]
  },
  {
   "cell_type": "code",
   "execution_count": 3,
   "id": "aa9abdb6-c459-47e6-965b-20aadae9fed7",
   "metadata": {},
   "outputs": [],
   "source": [
    "service = Service(executable_path=CHROMEDRIVER_PATH)"
   ]
  },
  {
   "cell_type": "code",
   "execution_count": 4,
   "id": "d5cbc00a-68df-4c59-b56f-c996570eb753",
   "metadata": {},
   "outputs": [],
   "source": [
    "driver = webdriver.Chrome(service=service)"
   ]
  },
  {
   "cell_type": "code",
   "execution_count": 7,
   "id": "e67cc5bf-0ed5-411e-88a0-1a151f5ada1d",
   "metadata": {},
   "outputs": [],
   "source": [
    "driver.get(SELENIUM_URL)"
   ]
  },
  {
   "cell_type": "code",
   "execution_count": 8,
   "id": "2466c2be-c5ae-466d-b4fe-f40c1af0da02",
   "metadata": {},
   "outputs": [],
   "source": [
    "driver.set_network_conditions(\n",
    "    offline=True,\n",
    "    latency=50,\n",
    "    download_throughput=500*1024,\n",
    "    upload_throughput=500*11024\n",
    ")"
   ]
  },
  {
   "cell_type": "code",
   "execution_count": 9,
   "id": "9bc1ccfb-9aa8-4497-9214-a2d05f1db33d",
   "metadata": {},
   "outputs": [
    {
     "ename": "WebDriverException",
     "evalue": "Message: unknown error: net::ERR_INTERNET_DISCONNECTED\n  (Session info: chrome=140.0.7339.128)\nStacktrace:\n\tGetHandleVerifier [0x0x7ff696f4fc95+79861]\n\tGetHandleVerifier [0x0x7ff696f4fcf0+79952]\n\t(No symbol) [0x0x7ff696cccada]\n\t(No symbol) [0x0x7ff696cc97e1]\n\t(No symbol) [0x0x7ff696cba339]\n\t(No symbol) [0x0x7ff696cbc111]\n\t(No symbol) [0x0x7ff696cba656]\n\t(No symbol) [0x0x7ff696cba0a7]\n\t(No symbol) [0x0x7ff696cb9d6b]\n\t(No symbol) [0x0x7ff696cb78dc]\n\t(No symbol) [0x0x7ff696cb816c]\n\t(No symbol) [0x0x7ff696cd0baa]\n\t(No symbol) [0x0x7ff696d75d6e]\n\t(No symbol) [0x0x7ff696d4cada]\n\t(No symbol) [0x0x7ff696d74f8b]\n\t(No symbol) [0x0x7ff696d4c8b3]\n\t(No symbol) [0x0x7ff696d15272]\n\t(No symbol) [0x0x7ff696d16043]\n\tGetHandleVerifier [0x0x7ff69720b9cd+2946349]\n\tGetHandleVerifier [0x0x7ff697205c4a+2922410]\n\tGetHandleVerifier [0x0x7ff6972259d7+3052855]\n\tGetHandleVerifier [0x0x7ff696f6aa7e+189918]\n\tGetHandleVerifier [0x0x7ff696f72a1f+222591]\n\tGetHandleVerifier [0x0x7ff696f58ab4+116244]\n\tGetHandleVerifier [0x0x7ff696f58c69+116681]\n\tGetHandleVerifier [0x0x7ff696f3f048+11176]\n\tBaseThreadInitThunk [0x0x7ffb494f7374+20]\n\tRtlUserThreadStart [0x0x7ffb4b4fcc91+33]\n",
     "output_type": "error",
     "traceback": [
      "\u001b[31m---------------------------------------------------------------------------\u001b[39m",
      "\u001b[31mWebDriverException\u001b[39m                        Traceback (most recent call last)",
      "\u001b[36mCell\u001b[39m\u001b[36m \u001b[39m\u001b[32mIn[9]\u001b[39m\u001b[32m, line 1\u001b[39m\n\u001b[32m----> \u001b[39m\u001b[32m1\u001b[39m \u001b[43mdriver\u001b[49m\u001b[43m.\u001b[49m\u001b[43mget\u001b[49m\u001b[43m(\u001b[49m\u001b[43mPYTHON_URL\u001b[49m\u001b[43m)\u001b[49m\n",
      "\u001b[36mFile \u001b[39m\u001b[32m~\\AppData\\Local\\Programs\\Python\\Python313\\Lib\\site-packages\\selenium\\webdriver\\remote\\webdriver.py:454\u001b[39m, in \u001b[36mWebDriver.get\u001b[39m\u001b[34m(self, url)\u001b[39m\n\u001b[32m    436\u001b[39m \u001b[38;5;28;01mdef\u001b[39;00m\u001b[38;5;250m \u001b[39m\u001b[34mget\u001b[39m(\u001b[38;5;28mself\u001b[39m, url: \u001b[38;5;28mstr\u001b[39m) -> \u001b[38;5;28;01mNone\u001b[39;00m:\n\u001b[32m    437\u001b[39m \u001b[38;5;250m    \u001b[39m\u001b[33;03m\"\"\"Navigate the browser to the specified URL in the current window or\u001b[39;00m\n\u001b[32m    438\u001b[39m \u001b[33;03m    tab.\u001b[39;00m\n\u001b[32m    439\u001b[39m \n\u001b[32m   (...)\u001b[39m\u001b[32m    452\u001b[39m \u001b[33;03m    >>> driver.get(\"https://example.com\")\u001b[39;00m\n\u001b[32m    453\u001b[39m \u001b[33;03m    \"\"\"\u001b[39;00m\n\u001b[32m--> \u001b[39m\u001b[32m454\u001b[39m     \u001b[38;5;28;43mself\u001b[39;49m\u001b[43m.\u001b[49m\u001b[43mexecute\u001b[49m\u001b[43m(\u001b[49m\u001b[43mCommand\u001b[49m\u001b[43m.\u001b[49m\u001b[43mGET\u001b[49m\u001b[43m,\u001b[49m\u001b[43m \u001b[49m\u001b[43m{\u001b[49m\u001b[33;43m\"\u001b[39;49m\u001b[33;43murl\u001b[39;49m\u001b[33;43m\"\u001b[39;49m\u001b[43m:\u001b[49m\u001b[43m \u001b[49m\u001b[43murl\u001b[49m\u001b[43m}\u001b[49m\u001b[43m)\u001b[49m\n",
      "\u001b[36mFile \u001b[39m\u001b[32m~\\AppData\\Local\\Programs\\Python\\Python313\\Lib\\site-packages\\selenium\\webdriver\\remote\\webdriver.py:429\u001b[39m, in \u001b[36mWebDriver.execute\u001b[39m\u001b[34m(self, driver_command, params)\u001b[39m\n\u001b[32m    427\u001b[39m response = \u001b[38;5;28mself\u001b[39m.command_executor.execute(driver_command, params)\n\u001b[32m    428\u001b[39m \u001b[38;5;28;01mif\u001b[39;00m response:\n\u001b[32m--> \u001b[39m\u001b[32m429\u001b[39m     \u001b[38;5;28;43mself\u001b[39;49m\u001b[43m.\u001b[49m\u001b[43merror_handler\u001b[49m\u001b[43m.\u001b[49m\u001b[43mcheck_response\u001b[49m\u001b[43m(\u001b[49m\u001b[43mresponse\u001b[49m\u001b[43m)\u001b[49m\n\u001b[32m    430\u001b[39m     response[\u001b[33m\"\u001b[39m\u001b[33mvalue\u001b[39m\u001b[33m\"\u001b[39m] = \u001b[38;5;28mself\u001b[39m._unwrap_value(response.get(\u001b[33m\"\u001b[39m\u001b[33mvalue\u001b[39m\u001b[33m\"\u001b[39m, \u001b[38;5;28;01mNone\u001b[39;00m))\n\u001b[32m    431\u001b[39m     \u001b[38;5;28;01mreturn\u001b[39;00m response\n",
      "\u001b[36mFile \u001b[39m\u001b[32m~\\AppData\\Local\\Programs\\Python\\Python313\\Lib\\site-packages\\selenium\\webdriver\\remote\\errorhandler.py:232\u001b[39m, in \u001b[36mErrorHandler.check_response\u001b[39m\u001b[34m(self, response)\u001b[39m\n\u001b[32m    230\u001b[39m         alert_text = value[\u001b[33m\"\u001b[39m\u001b[33malert\u001b[39m\u001b[33m\"\u001b[39m].get(\u001b[33m\"\u001b[39m\u001b[33mtext\u001b[39m\u001b[33m\"\u001b[39m)\n\u001b[32m    231\u001b[39m     \u001b[38;5;28;01mraise\u001b[39;00m exception_class(message, screen, stacktrace, alert_text)  \u001b[38;5;66;03m# type: ignore[call-arg]  # mypy is not smart enough here\u001b[39;00m\n\u001b[32m--> \u001b[39m\u001b[32m232\u001b[39m \u001b[38;5;28;01mraise\u001b[39;00m exception_class(message, screen, stacktrace)\n",
      "\u001b[31mWebDriverException\u001b[39m: Message: unknown error: net::ERR_INTERNET_DISCONNECTED\n  (Session info: chrome=140.0.7339.128)\nStacktrace:\n\tGetHandleVerifier [0x0x7ff696f4fc95+79861]\n\tGetHandleVerifier [0x0x7ff696f4fcf0+79952]\n\t(No symbol) [0x0x7ff696cccada]\n\t(No symbol) [0x0x7ff696cc97e1]\n\t(No symbol) [0x0x7ff696cba339]\n\t(No symbol) [0x0x7ff696cbc111]\n\t(No symbol) [0x0x7ff696cba656]\n\t(No symbol) [0x0x7ff696cba0a7]\n\t(No symbol) [0x0x7ff696cb9d6b]\n\t(No symbol) [0x0x7ff696cb78dc]\n\t(No symbol) [0x0x7ff696cb816c]\n\t(No symbol) [0x0x7ff696cd0baa]\n\t(No symbol) [0x0x7ff696d75d6e]\n\t(No symbol) [0x0x7ff696d4cada]\n\t(No symbol) [0x0x7ff696d74f8b]\n\t(No symbol) [0x0x7ff696d4c8b3]\n\t(No symbol) [0x0x7ff696d15272]\n\t(No symbol) [0x0x7ff696d16043]\n\tGetHandleVerifier [0x0x7ff69720b9cd+2946349]\n\tGetHandleVerifier [0x0x7ff697205c4a+2922410]\n\tGetHandleVerifier [0x0x7ff6972259d7+3052855]\n\tGetHandleVerifier [0x0x7ff696f6aa7e+189918]\n\tGetHandleVerifier [0x0x7ff696f72a1f+222591]\n\tGetHandleVerifier [0x0x7ff696f58ab4+116244]\n\tGetHandleVerifier [0x0x7ff696f58c69+116681]\n\tGetHandleVerifier [0x0x7ff696f3f048+11176]\n\tBaseThreadInitThunk [0x0x7ffb494f7374+20]\n\tRtlUserThreadStart [0x0x7ffb4b4fcc91+33]\n"
     ]
    }
   ],
   "source": [
    "driver.get(PYTHON_URL)"
   ]
  },
  {
   "cell_type": "code",
   "execution_count": 11,
   "id": "56de6120-15e0-46ac-818b-19206ef7c2f8",
   "metadata": {},
   "outputs": [],
   "source": [
    "driver.set_network_conditions(\n",
    "    offline=False,\n",
    "    latency=5000,\n",
    "    download_throughput=250*1024,\n",
    "    upload_throughput=500*11024\n",
    ")"
   ]
  },
  {
   "cell_type": "code",
   "execution_count": 12,
   "id": "33913786-a5ea-49c6-88df-b747b6d1ae59",
   "metadata": {},
   "outputs": [],
   "source": [
    "driver.get(PYTHON_URL)"
   ]
  },
  {
   "cell_type": "code",
   "execution_count": 13,
   "id": "6ea35f4f-e91b-4f62-835d-eefc6a7c6817",
   "metadata": {},
   "outputs": [
    {
     "data": {
      "text/plain": [
       "{'download_throughput': 256000,\n",
       " 'latency': 5000,\n",
       " 'offline': False,\n",
       " 'upload_throughput': 5512000}"
      ]
     },
     "execution_count": 13,
     "metadata": {},
     "output_type": "execute_result"
    }
   ],
   "source": [
    "driver.get_network_conditions()"
   ]
  },
  {
   "cell_type": "code",
   "execution_count": null,
   "id": "2a82605e-2b19-46e5-94bb-51288e8b05ba",
   "metadata": {},
   "outputs": [],
   "source": [
    "driver.set_network_conditions(\n",
    "    offline=False,\n",
    "    latency=0,\n",
    "    download_throughput=500*1024,\n",
    "    upload_throughput=500*11024\n",
    ")"
   ]
  },
  {
   "cell_type": "code",
   "execution_count": 14,
   "id": "db8b717e-2e96-4a3d-9ffb-f94b6b83a634",
   "metadata": {},
   "outputs": [],
   "source": [
    "driver.get(SELENIUM_URL)"
   ]
  },
  {
   "cell_type": "code",
   "execution_count": 18,
   "id": "1f98b994-2a59-4f22-bb4c-672a83b56e91",
   "metadata": {},
   "outputs": [
    {
     "data": {
      "text/plain": [
       "{'download_throughput': 256000,\n",
       " 'latency': 5000,\n",
       " 'offline': False,\n",
       " 'upload_throughput': 5512000}"
      ]
     },
     "execution_count": 18,
     "metadata": {},
     "output_type": "execute_result"
    }
   ],
   "source": [
    "driver.get_network_conditions()"
   ]
  },
  {
   "cell_type": "code",
   "execution_count": 19,
   "id": "ace7cade-a101-4961-bcf6-b046cd0bb474",
   "metadata": {},
   "outputs": [],
   "source": [
    "driver.quit()"
   ]
  }
 ],
 "metadata": {
  "kernelspec": {
   "display_name": "Python 3 (ipykernel)",
   "language": "python",
   "name": "python3"
  },
  "language_info": {
   "codemirror_mode": {
    "name": "ipython",
    "version": 3
   },
   "file_extension": ".py",
   "mimetype": "text/x-python",
   "name": "python",
   "nbconvert_exporter": "python",
   "pygments_lexer": "ipython3",
   "version": "3.13.7"
  }
 },
 "nbformat": 4,
 "nbformat_minor": 5
}
