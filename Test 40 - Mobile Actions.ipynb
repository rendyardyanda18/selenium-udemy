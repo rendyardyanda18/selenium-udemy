{
 "cells": [
  {
   "cell_type": "code",
   "execution_count": 3,
   "id": "b268fca7-08aa-4883-94f2-1c6ed4bdd2ac",
   "metadata": {},
   "outputs": [],
   "source": [
    "from selenium import webdriver\n",
    "from selenium.webdriver.chrome.service import Service\n",
    "from selenium.webdriver.common.by import By\n",
    "from selenium.webdriver.common.action_chains import ActionChains\n",
    "\n",
    "from settings import CHROMEDRIVER_PATH, SELENIUM_URL"
   ]
  },
  {
   "cell_type": "code",
   "execution_count": 5,
   "id": "ce36ee93-63ef-4e88-ac5a-e25a24042c73",
   "metadata": {},
   "outputs": [],
   "source": [
    "service = Service(executable_path=CHROMEDRIVER_PATH)"
   ]
  },
  {
   "cell_type": "code",
   "execution_count": 6,
   "id": "94450793-3f9c-4184-8f67-8e4d71a32fc8",
   "metadata": {},
   "outputs": [],
   "source": [
    "mobile_emulation = {'deviceName':'iPhone 12 Pro'}"
   ]
  },
  {
   "cell_type": "code",
   "execution_count": 7,
   "id": "a0e735c9-7713-4c06-b304-2ec23a28e734",
   "metadata": {},
   "outputs": [],
   "source": [
    "chrome_options = webdriver.ChromeOptions()\n",
    "chrome_options.add_experimental_option('mobileEmulation', mobile_emulation)"
   ]
  },
  {
   "cell_type": "code",
   "execution_count": 8,
   "id": "0c8847b7-2ba1-4203-bf91-4c3c02bcf7be",
   "metadata": {},
   "outputs": [],
   "source": [
    "driver = webdriver.Chrome(service=service, options=chrome_options)"
   ]
  },
  {
   "cell_type": "code",
   "execution_count": 9,
   "id": "4f2278f4-d6ec-4ab9-95c4-113d7dfd6cb6",
   "metadata": {},
   "outputs": [],
   "source": [
    "driver.get(SELENIUM_URL)"
   ]
  },
  {
   "cell_type": "code",
   "execution_count": 10,
   "id": "d50f9074-ff51-4149-9fa8-96b6bf23e6eb",
   "metadata": {},
   "outputs": [],
   "source": [
    "button_element = driver.find_element(By.CSS_SELECTOR, 'button.navbar-toggler')"
   ]
  },
  {
   "cell_type": "code",
   "execution_count": 11,
   "id": "2371f118-f29c-4d10-8b2b-a43316a6cad1",
   "metadata": {},
   "outputs": [],
   "source": [
    "button_element.click()"
   ]
  },
  {
   "cell_type": "code",
   "execution_count": 20,
   "id": "46156715-0ecf-4d86-a81c-3654bf5496c3",
   "metadata": {},
   "outputs": [],
   "source": [
    "button_element.click()"
   ]
  },
  {
   "cell_type": "code",
   "execution_count": 22,
   "id": "83e7c02d-c616-47a4-bab4-bfb86de242cb",
   "metadata": {},
   "outputs": [],
   "source": [
    "action = ActionChains(driver=driver)"
   ]
  },
  {
   "cell_type": "code",
   "execution_count": 29,
   "id": "77b3eabc-049b-4c50-9430-554ce2acffc7",
   "metadata": {},
   "outputs": [],
   "source": [
    "h2_elements = driver.find_elements(By.TAG_NAME, 'h2')"
   ]
  },
  {
   "cell_type": "code",
   "execution_count": 31,
   "id": "8f720904-231a-4ada-a668-bb9ec206147c",
   "metadata": {},
   "outputs": [],
   "source": [
    "getting_started_element = h2_elements[0]"
   ]
  },
  {
   "cell_type": "code",
   "execution_count": 32,
   "id": "1ba24efb-68b7-4502-bb39-5f673ac4af4e",
   "metadata": {},
   "outputs": [
    {
     "name": "stdout",
     "output_type": "stream",
     "text": [
      "<selenium.webdriver.remote.webelement.WebElement (session=\"d1a58ee877a103886bf663d7c679c3ec\", element=\"f.61B5A5811C6866A8D1207C2C3D617F32.d.0FD937ECB8EA25C0AF7DC1E001E37148.e.14\")>\n"
     ]
    }
   ],
   "source": [
    "print(getting_started_element)"
   ]
  },
  {
   "cell_type": "code",
   "execution_count": 33,
   "id": "e5c638d6-462e-4976-866c-552f533f1699",
   "metadata": {},
   "outputs": [
    {
     "ename": "InvalidArgumentException",
     "evalue": "Message: invalid argument: Invalid parameters\n  (Session info: chrome=140.0.7339.128)\nStacktrace:\n\tGetHandleVerifier [0x0x7ff6bda9fc95+79861]\n\tGetHandleVerifier [0x0x7ff6bda9fcf0+79952]\n\t(No symbol) [0x0x7ff6bd81cada]\n\t(No symbol) [0x0x7ff6bd809228]\n\t(No symbol) [0x0x7ff6bd807a8d]\n\t(No symbol) [0x0x7ff6bd80816c]\n\t(No symbol) [0x0x7ff6bd806a46]\n\t(No symbol) [0x0x7ff6bd829a94]\n\t(No symbol) [0x0x7ff6bd829c79]\n\t(No symbol) [0x0x7ff6bd8d2876]\n\t(No symbol) [0x0x7ff6bd89cada]\n\t(No symbol) [0x0x7ff6bd8c4f8b]\n\t(No symbol) [0x0x7ff6bd89c8b3]\n\t(No symbol) [0x0x7ff6bd865272]\n\t(No symbol) [0x0x7ff6bd866043]\n\tGetHandleVerifier [0x0x7ff6bdd5b9cd+2946349]\n\tGetHandleVerifier [0x0x7ff6bdd55c4a+2922410]\n\tGetHandleVerifier [0x0x7ff6bdd759d7+3052855]\n\tGetHandleVerifier [0x0x7ff6bdabaa7e+189918]\n\tGetHandleVerifier [0x0x7ff6bdac2a1f+222591]\n\tGetHandleVerifier [0x0x7ff6bdaa8ab4+116244]\n\tGetHandleVerifier [0x0x7ff6bdaa8c69+116681]\n\tGetHandleVerifier [0x0x7ff6bda8f048+11176]\n\tBaseThreadInitThunk [0x0x7ffb494f7374+20]\n\tRtlUserThreadStart [0x0x7ffb4b4fcc91+33]\n",
     "output_type": "error",
     "traceback": [
      "\u001b[31m---------------------------------------------------------------------------\u001b[39m",
      "\u001b[31mInvalidArgumentException\u001b[39m                  Traceback (most recent call last)",
      "\u001b[36mCell\u001b[39m\u001b[36m \u001b[39m\u001b[32mIn[33]\u001b[39m\u001b[32m, line 1\u001b[39m\n\u001b[32m----> \u001b[39m\u001b[32m1\u001b[39m \u001b[43maction\u001b[49m\u001b[43m.\u001b[49m\u001b[43mscroll_to_element\u001b[49m\u001b[43m(\u001b[49m\u001b[43mgetting_started_element\u001b[49m\u001b[43m)\u001b[49m\u001b[43m.\u001b[49m\u001b[43mperform\u001b[49m\u001b[43m(\u001b[49m\u001b[43m)\u001b[49m\n",
      "\u001b[36mFile \u001b[39m\u001b[32m~\\AppData\\Local\\Programs\\Python\\Python313\\Lib\\site-packages\\selenium\\webdriver\\common\\action_chains.py:94\u001b[39m, in \u001b[36mActionChains.perform\u001b[39m\u001b[34m(self)\u001b[39m\n\u001b[32m     92\u001b[39m \u001b[38;5;28;01mdef\u001b[39;00m\u001b[38;5;250m \u001b[39m\u001b[34mperform\u001b[39m(\u001b[38;5;28mself\u001b[39m) -> \u001b[38;5;28;01mNone\u001b[39;00m:\n\u001b[32m     93\u001b[39m \u001b[38;5;250m    \u001b[39m\u001b[33;03m\"\"\"Performs all stored actions.\"\"\"\u001b[39;00m\n\u001b[32m---> \u001b[39m\u001b[32m94\u001b[39m     \u001b[38;5;28;43mself\u001b[39;49m\u001b[43m.\u001b[49m\u001b[43mw3c_actions\u001b[49m\u001b[43m.\u001b[49m\u001b[43mperform\u001b[49m\u001b[43m(\u001b[49m\u001b[43m)\u001b[49m\n",
      "\u001b[36mFile \u001b[39m\u001b[32m~\\AppData\\Local\\Programs\\Python\\Python313\\Lib\\site-packages\\selenium\\webdriver\\common\\actions\\action_builder.py:170\u001b[39m, in \u001b[36mActionBuilder.perform\u001b[39m\u001b[34m(self)\u001b[39m\n\u001b[32m    168\u001b[39m         enc[\u001b[33m\"\u001b[39m\u001b[33mactions\u001b[39m\u001b[33m\"\u001b[39m].append(encoded)\n\u001b[32m    169\u001b[39m         device.actions = []\n\u001b[32m--> \u001b[39m\u001b[32m170\u001b[39m \u001b[38;5;28;43mself\u001b[39;49m\u001b[43m.\u001b[49m\u001b[43mdriver\u001b[49m\u001b[43m.\u001b[49m\u001b[43mexecute\u001b[49m\u001b[43m(\u001b[49m\u001b[43mCommand\u001b[49m\u001b[43m.\u001b[49m\u001b[43mW3C_ACTIONS\u001b[49m\u001b[43m,\u001b[49m\u001b[43m \u001b[49m\u001b[43menc\u001b[49m\u001b[43m)\u001b[49m\n",
      "\u001b[36mFile \u001b[39m\u001b[32m~\\AppData\\Local\\Programs\\Python\\Python313\\Lib\\site-packages\\selenium\\webdriver\\remote\\webdriver.py:429\u001b[39m, in \u001b[36mWebDriver.execute\u001b[39m\u001b[34m(self, driver_command, params)\u001b[39m\n\u001b[32m    427\u001b[39m response = \u001b[38;5;28mself\u001b[39m.command_executor.execute(driver_command, params)\n\u001b[32m    428\u001b[39m \u001b[38;5;28;01mif\u001b[39;00m response:\n\u001b[32m--> \u001b[39m\u001b[32m429\u001b[39m     \u001b[38;5;28;43mself\u001b[39;49m\u001b[43m.\u001b[49m\u001b[43merror_handler\u001b[49m\u001b[43m.\u001b[49m\u001b[43mcheck_response\u001b[49m\u001b[43m(\u001b[49m\u001b[43mresponse\u001b[49m\u001b[43m)\u001b[49m\n\u001b[32m    430\u001b[39m     response[\u001b[33m\"\u001b[39m\u001b[33mvalue\u001b[39m\u001b[33m\"\u001b[39m] = \u001b[38;5;28mself\u001b[39m._unwrap_value(response.get(\u001b[33m\"\u001b[39m\u001b[33mvalue\u001b[39m\u001b[33m\"\u001b[39m, \u001b[38;5;28;01mNone\u001b[39;00m))\n\u001b[32m    431\u001b[39m     \u001b[38;5;28;01mreturn\u001b[39;00m response\n",
      "\u001b[36mFile \u001b[39m\u001b[32m~\\AppData\\Local\\Programs\\Python\\Python313\\Lib\\site-packages\\selenium\\webdriver\\remote\\errorhandler.py:232\u001b[39m, in \u001b[36mErrorHandler.check_response\u001b[39m\u001b[34m(self, response)\u001b[39m\n\u001b[32m    230\u001b[39m         alert_text = value[\u001b[33m\"\u001b[39m\u001b[33malert\u001b[39m\u001b[33m\"\u001b[39m].get(\u001b[33m\"\u001b[39m\u001b[33mtext\u001b[39m\u001b[33m\"\u001b[39m)\n\u001b[32m    231\u001b[39m     \u001b[38;5;28;01mraise\u001b[39;00m exception_class(message, screen, stacktrace, alert_text)  \u001b[38;5;66;03m# type: ignore[call-arg]  # mypy is not smart enough here\u001b[39;00m\n\u001b[32m--> \u001b[39m\u001b[32m232\u001b[39m \u001b[38;5;28;01mraise\u001b[39;00m exception_class(message, screen, stacktrace)\n",
      "\u001b[31mInvalidArgumentException\u001b[39m: Message: invalid argument: Invalid parameters\n  (Session info: chrome=140.0.7339.128)\nStacktrace:\n\tGetHandleVerifier [0x0x7ff6bda9fc95+79861]\n\tGetHandleVerifier [0x0x7ff6bda9fcf0+79952]\n\t(No symbol) [0x0x7ff6bd81cada]\n\t(No symbol) [0x0x7ff6bd809228]\n\t(No symbol) [0x0x7ff6bd807a8d]\n\t(No symbol) [0x0x7ff6bd80816c]\n\t(No symbol) [0x0x7ff6bd806a46]\n\t(No symbol) [0x0x7ff6bd829a94]\n\t(No symbol) [0x0x7ff6bd829c79]\n\t(No symbol) [0x0x7ff6bd8d2876]\n\t(No symbol) [0x0x7ff6bd89cada]\n\t(No symbol) [0x0x7ff6bd8c4f8b]\n\t(No symbol) [0x0x7ff6bd89c8b3]\n\t(No symbol) [0x0x7ff6bd865272]\n\t(No symbol) [0x0x7ff6bd866043]\n\tGetHandleVerifier [0x0x7ff6bdd5b9cd+2946349]\n\tGetHandleVerifier [0x0x7ff6bdd55c4a+2922410]\n\tGetHandleVerifier [0x0x7ff6bdd759d7+3052855]\n\tGetHandleVerifier [0x0x7ff6bdabaa7e+189918]\n\tGetHandleVerifier [0x0x7ff6bdac2a1f+222591]\n\tGetHandleVerifier [0x0x7ff6bdaa8ab4+116244]\n\tGetHandleVerifier [0x0x7ff6bdaa8c69+116681]\n\tGetHandleVerifier [0x0x7ff6bda8f048+11176]\n\tBaseThreadInitThunk [0x0x7ffb494f7374+20]\n\tRtlUserThreadStart [0x0x7ffb4b4fcc91+33]\n"
     ]
    }
   ],
   "source": [
    "action.scroll_to_element(getting_started_element).perform()"
   ]
  },
  {
   "cell_type": "code",
   "execution_count": 34,
   "id": "3c70fad3-34d2-4588-b7fc-645e44d7577f",
   "metadata": {},
   "outputs": [],
   "source": [
    "driver.execute_script(\"window.scrollTo(0,100)\")"
   ]
  },
  {
   "cell_type": "code",
   "execution_count": 35,
   "id": "6eea352d-dbe2-45a7-b812-853906c9391d",
   "metadata": {},
   "outputs": [],
   "source": [
    "driver.execute_script(\"window.scrollTo(0,800)\")"
   ]
  },
  {
   "cell_type": "code",
   "execution_count": 36,
   "id": "93469450-8a4d-4d78-9543-757c91ca786f",
   "metadata": {},
   "outputs": [],
   "source": [
    "driver.quit()"
   ]
  }
 ],
 "metadata": {
  "kernelspec": {
   "display_name": "Python 3 (ipykernel)",
   "language": "python",
   "name": "python3"
  },
  "language_info": {
   "codemirror_mode": {
    "name": "ipython",
    "version": 3
   },
   "file_extension": ".py",
   "mimetype": "text/x-python",
   "name": "python",
   "nbconvert_exporter": "python",
   "pygments_lexer": "ipython3",
   "version": "3.13.7"
  }
 },
 "nbformat": 4,
 "nbformat_minor": 5
}
