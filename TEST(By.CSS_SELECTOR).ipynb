{
 "cells": [
  {
   "cell_type": "code",
   "execution_count": 1,
   "id": "9cfa3c0e-dcef-44e7-95dc-7a7da5084dc6",
   "metadata": {},
   "outputs": [],
   "source": [
    "from selenium import webdriver\n",
    "from selenium.webdriver.chrome.service import Service\n",
    "from selenium.webdriver.common.by import By"
   ]
  },
  {
   "cell_type": "code",
   "execution_count": 2,
   "id": "45bd7320-ff89-40ab-86c1-da4f2166e432",
   "metadata": {},
   "outputs": [],
   "source": [
    "from settings import CHROMEDRIVER_PATH, BOOKSTOSCRAPE_URL"
   ]
  },
  {
   "cell_type": "code",
   "execution_count": 3,
   "id": "8690bd8d-af4a-4cde-a71c-d5efc2da9ebb",
   "metadata": {},
   "outputs": [],
   "source": [
    "service = Service(executable_path=CHROMEDRIVER_PATH)"
   ]
  },
  {
   "cell_type": "code",
   "execution_count": 4,
   "id": "7af96cbb-81d0-4e67-985e-cc7182ff0fcb",
   "metadata": {},
   "outputs": [],
   "source": [
    "driver = webdriver.Chrome(service=service)"
   ]
  },
  {
   "cell_type": "code",
   "execution_count": 5,
   "id": "b877063e-bbad-408b-b02d-a7c604d6254a",
   "metadata": {},
   "outputs": [],
   "source": [
    "driver.get (BOOKSTOSCRAPE_URL) "
   ]
  },
  {
   "cell_type": "code",
   "execution_count": 6,
   "id": "ceff6211-0385-44cf-aaec-0949e9061a73",
   "metadata": {},
   "outputs": [],
   "source": [
    "element1 = driver.find_element(By.CSS_SELECTOR, 'div.alert.alert-warning')"
   ]
  },
  {
   "cell_type": "code",
   "execution_count": 7,
   "id": "28282f6b-9089-49ad-b948-f268b25db49b",
   "metadata": {},
   "outputs": [
    {
     "data": {
      "text/plain": [
       "'Warning! This is a demo website for web scraping purposes. Prices and ratings here were randomly assigned and have no real meaning.'"
      ]
     },
     "execution_count": 7,
     "metadata": {},
     "output_type": "execute_result"
    }
   ],
   "source": [
    "element1.text"
   ]
  },
  {
   "cell_type": "code",
   "execution_count": 8,
   "id": "da087828-bb56-4135-acc0-63d556d31d5d",
   "metadata": {},
   "outputs": [],
   "source": [
    "element2 = driver.find_element(By.CSS_SELECTOR, 'ul.nav.nav-list')"
   ]
  },
  {
   "cell_type": "code",
   "execution_count": 9,
   "id": "2c25d80e-8e69-4dc5-aef2-ea4f82960767",
   "metadata": {},
   "outputs": [
    {
     "data": {
      "text/plain": [
       "'Books\\nTravel\\nMystery\\nHistorical Fiction\\nSequential Art\\nClassics\\nPhilosophy\\nRomance\\nWomens Fiction\\nFiction\\nChildrens\\nReligion\\nNonfiction\\nMusic\\nDefault\\nScience Fiction\\nSports and Games\\nAdd a comment\\nFantasy\\nNew Adult\\nYoung Adult\\nScience\\nPoetry\\nParanormal\\nArt\\nPsychology\\nAutobiography\\nParenting\\nAdult Fiction\\nHumor\\nHorror\\nHistory\\nFood and Drink\\nChristian Fiction\\nBusiness\\nBiography\\nThriller\\nContemporary\\nSpirituality\\nAcademic\\nSelf Help\\nHistorical\\nChristian\\nSuspense\\nShort Stories\\nNovels\\nHealth\\nPolitics\\nCultural\\nErotica\\nCrime'"
      ]
     },
     "execution_count": 9,
     "metadata": {},
     "output_type": "execute_result"
    }
   ],
   "source": [
    "element2.text"
   ]
  },
  {
   "cell_type": "code",
   "execution_count": 10,
   "id": "3fbe80a2-5f55-49ac-9950-f92c61d40394",
   "metadata": {},
   "outputs": [],
   "source": [
    "element3 = driver.find_element(By.CSS_SELECTOR, 'div#messages')"
   ]
  },
  {
   "cell_type": "code",
   "execution_count": 11,
   "id": "8c9bf2d6-0048-4aff-94bb-68a9ad0602e3",
   "metadata": {},
   "outputs": [
    {
     "data": {
      "text/plain": [
       "''"
      ]
     },
     "execution_count": 11,
     "metadata": {},
     "output_type": "execute_result"
    }
   ],
   "source": [
    "element3.text"
   ]
  },
  {
   "cell_type": "code",
   "execution_count": 12,
   "id": "adc4afaa-f855-4606-89c7-3c6c4a85464d",
   "metadata": {},
   "outputs": [],
   "source": [
    "img_elements = driver.find_elements(By.CSS_SELECTOR, 'img')"
   ]
  },
  {
   "cell_type": "code",
   "execution_count": 13,
   "id": "55ecafab-5fca-4f83-97a3-7c001ac159fa",
   "metadata": {},
   "outputs": [
    {
     "name": "stdout",
     "output_type": "stream",
     "text": [
      "A Light in the Attic\n",
      "Tipping the Velvet\n",
      "Soumission\n",
      "Sharp Objects\n",
      "Sapiens: A Brief History of Humankind\n",
      "The Requiem Red\n",
      "The Dirty Little Secrets of Getting Your Dream Job\n",
      "The Coming Woman: A Novel Based on the Life of the Infamous Feminist, Victoria Woodhull\n",
      "The Boys in the Boat: Nine Americans and Their Epic Quest for Gold at the 1936 Berlin Olympics\n",
      "The Black Maria\n",
      "Starving Hearts (Triangular Trade Trilogy, #1)\n",
      "Shakespeare's Sonnets\n",
      "Set Me Free\n",
      "Scott Pilgrim's Precious Little Life (Scott Pilgrim #1)\n",
      "Rip it Up and Start Again\n",
      "Our Band Could Be Your Life: Scenes from the American Indie Underground, 1981-1991\n",
      "Olio\n",
      "Mesaerion: The Best Science Fiction Stories 1800-1849\n",
      "Libertarianism for Beginners\n",
      "It's Only the Himalayas\n"
     ]
    }
   ],
   "source": [
    "for element in img_elements:\n",
    "    print(element.get_attribute('alt'))"
   ]
  },
  {
   "cell_type": "code",
   "execution_count": 14,
   "id": "e26e85c8-94c9-4c35-b056-5d3a9bf02a00",
   "metadata": {},
   "outputs": [],
   "source": [
    "driver.quit()"
   ]
  },
  {
   "cell_type": "code",
   "execution_count": null,
   "id": "5a58c986-a647-4728-bff2-7dae37c35167",
   "metadata": {},
   "outputs": [],
   "source": []
  }
 ],
 "metadata": {
  "kernelspec": {
   "display_name": "Python 3 (ipykernel)",
   "language": "python",
   "name": "python3"
  },
  "language_info": {
   "codemirror_mode": {
    "name": "ipython",
    "version": 3
   },
   "file_extension": ".py",
   "mimetype": "text/x-python",
   "name": "python",
   "nbconvert_exporter": "python",
   "pygments_lexer": "ipython3",
   "version": "3.13.3"
  }
 },
 "nbformat": 4,
 "nbformat_minor": 5
}
