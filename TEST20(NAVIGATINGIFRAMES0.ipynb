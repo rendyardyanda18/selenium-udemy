{
 "cells": [
  {
   "cell_type": "code",
   "execution_count": 12,
   "id": "b045ec2b-9f55-41d8-b754-ac7239c67f74",
   "metadata": {},
   "outputs": [],
   "source": [
    "from selenium import webdriver\n",
    "from selenium.webdriver.chrome.service import Service\n",
    "from selenium.webdriver.common.by import By"
   ]
  },
  {
   "cell_type": "code",
   "execution_count": 13,
   "id": "f0501366-f698-4c03-b61c-3d5e60f1a006",
   "metadata": {},
   "outputs": [],
   "source": [
    "from settings import CHROMEDRIVER_PATH, BOOKSTOSCRAPE_URL, PYTHON_URL, JQUERYUI_URL"
   ]
  },
  {
   "cell_type": "code",
   "execution_count": 14,
   "id": "1361502a-be14-440b-98d2-7574c86eec7d",
   "metadata": {},
   "outputs": [],
   "source": [
    "service= Service(executable_path=CHROMEDRIVER_PATH)"
   ]
  },
  {
   "cell_type": "code",
   "execution_count": 15,
   "id": "41a2e45e-88d8-427c-8fa9-3e7609b63f82",
   "metadata": {},
   "outputs": [],
   "source": [
    "driver=webdriver.Chrome(service=service)"
   ]
  },
  {
   "cell_type": "code",
   "execution_count": 18,
   "id": "b0be0dfb-eb87-4821-a957-c1d468876c5b",
   "metadata": {},
   "outputs": [],
   "source": [
    "driver.get(JQUERYUI_URL + 'draggable')"
   ]
  },
  {
   "cell_type": "code",
   "execution_count": 20,
   "id": "774c480b-6e1d-4879-a205-f133fb4cbd8c",
   "metadata": {},
   "outputs": [],
   "source": [
    "# driver.find_element(By.ID, 'draggable') ini tidak berfungsi kalau belum masuk iframe"
   ]
  },
  {
   "cell_type": "code",
   "execution_count": 22,
   "id": "8fce865f-f456-4b71-a9a6-e0cbc3bf382f",
   "metadata": {},
   "outputs": [],
   "source": [
    "iframe_element = driver.find_element(By.CSS_SELECTOR, 'iframe.demo-frame')"
   ]
  },
  {
   "cell_type": "code",
   "execution_count": 23,
   "id": "9dc7104c-d41b-4584-b055-e1d44438b3a8",
   "metadata": {},
   "outputs": [],
   "source": [
    "driver.switch_to.frame(iframe_element)"
   ]
  },
  {
   "cell_type": "code",
   "execution_count": 25,
   "id": "4173d96c-fc49-45e2-b074-6d9bf27daa0b",
   "metadata": {},
   "outputs": [],
   "source": [
    "draggable_element = driver.find_element(By.ID, 'draggable')"
   ]
  },
  {
   "cell_type": "code",
   "execution_count": 26,
   "id": "4bae9099-fd27-42a9-8842-94897110fcbd",
   "metadata": {},
   "outputs": [
    {
     "data": {
      "text/plain": [
       "'div'"
      ]
     },
     "execution_count": 26,
     "metadata": {},
     "output_type": "execute_result"
    }
   ],
   "source": [
    "draggable_element.tag_name"
   ]
  },
  {
   "cell_type": "code",
   "execution_count": 28,
   "id": "e4f94d76-0d95-41e1-bdbf-0dbe31f3e583",
   "metadata": {},
   "outputs": [],
   "source": [
    "# main_nav = driver.find_element(By.ID, 'main') faol karena masih ada di iframe"
   ]
  },
  {
   "cell_type": "code",
   "execution_count": 29,
   "id": "71f3a5db-d156-49fb-a7d9-03dff8a31116",
   "metadata": {},
   "outputs": [],
   "source": [
    "driver.switch_to.default_content()"
   ]
  },
  {
   "cell_type": "code",
   "execution_count": 31,
   "id": "43ac5051-acf5-4b28-9548-690032183b70",
   "metadata": {},
   "outputs": [],
   "source": [
    "main_nav = driver.find_element(By.ID, 'main')"
   ]
  },
  {
   "cell_type": "code",
   "execution_count": 33,
   "id": "f2fc8cf3-41da-4845-a1b0-eff5f4e52077",
   "metadata": {},
   "outputs": [
    {
     "data": {
      "text/plain": [
       "'nav'"
      ]
     },
     "execution_count": 33,
     "metadata": {},
     "output_type": "execute_result"
    }
   ],
   "source": [
    "main_nav.tag_name"
   ]
  },
  {
   "cell_type": "code",
   "execution_count": 35,
   "id": "d94c57a4-8f50-478a-b413-b09299d460ad",
   "metadata": {},
   "outputs": [],
   "source": [
    "driver.quit()"
   ]
  },
  {
   "cell_type": "code",
   "execution_count": null,
   "id": "ce01c39f-bdfc-411c-ac72-a5f82015c890",
   "metadata": {},
   "outputs": [],
   "source": []
  }
 ],
 "metadata": {
  "kernelspec": {
   "display_name": "Python 3 (ipykernel)",
   "language": "python",
   "name": "python3"
  },
  "language_info": {
   "codemirror_mode": {
    "name": "ipython",
    "version": 3
   },
   "file_extension": ".py",
   "mimetype": "text/x-python",
   "name": "python",
   "nbconvert_exporter": "python",
   "pygments_lexer": "ipython3",
   "version": "3.13.3"
  }
 },
 "nbformat": 4,
 "nbformat_minor": 5
}
