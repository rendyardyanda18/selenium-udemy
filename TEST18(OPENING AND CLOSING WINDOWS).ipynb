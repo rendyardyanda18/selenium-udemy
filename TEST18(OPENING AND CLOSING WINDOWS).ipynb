{
 "cells": [
  {
   "cell_type": "code",
   "execution_count": 1,
   "id": "c9d91f16-0cc8-4614-9ab9-ae40c2dc461d",
   "metadata": {},
   "outputs": [],
   "source": [
    "from selenium import webdriver\n",
    "from selenium.webdriver.chrome.service import Service\n",
    "from selenium.webdriver.common.by import By"
   ]
  },
  {
   "cell_type": "code",
   "execution_count": 6,
   "id": "4d533ff2-a561-4209-8311-9de7bf3c0ee1",
   "metadata": {},
   "outputs": [],
   "source": [
    "from settings import CHROMEDRIVER_PATH, BOOKSTOSCRAPE_URL, PYTHON_URL"
   ]
  },
  {
   "cell_type": "code",
   "execution_count": 7,
   "id": "2beb10df-9ec9-43dd-8758-c10f5e73d4fb",
   "metadata": {},
   "outputs": [],
   "source": [
    "service = Service(executable_path=CHROMEDRIVER_PATH)"
   ]
  },
  {
   "cell_type": "code",
   "execution_count": 8,
   "id": "4f9c7901-af7a-4fc2-9f69-d1ec179cb0f5",
   "metadata": {},
   "outputs": [],
   "source": [
    "driver = webdriver.Chrome(service=service)"
   ]
  },
  {
   "cell_type": "code",
   "execution_count": 9,
   "id": "d7fc4c0a-0fad-4200-9674-5941b02a1d86",
   "metadata": {},
   "outputs": [],
   "source": [
    "driver.get(PYTHON_URL)"
   ]
  },
  {
   "cell_type": "code",
   "execution_count": 10,
   "id": "4ee18515-7739-4f07-8d30-1c23dcc36c2a",
   "metadata": {},
   "outputs": [],
   "source": [
    "driver.switch_to.new_window('window')"
   ]
  },
  {
   "cell_type": "code",
   "execution_count": 11,
   "id": "79b43054-3c00-4393-adc6-39ddd1cc651e",
   "metadata": {},
   "outputs": [],
   "source": [
    "driver.get(BOOKSTOSCRAPE_URL)"
   ]
  },
  {
   "cell_type": "code",
   "execution_count": 12,
   "id": "ff622580-aa5b-4640-9b4b-7c09030db40c",
   "metadata": {},
   "outputs": [],
   "source": [
    "driver.close()"
   ]
  },
  {
   "cell_type": "code",
   "execution_count": 14,
   "id": "f5ac9d64-a04e-4ca0-aee2-c8128efa8d48",
   "metadata": {},
   "outputs": [],
   "source": [
    "driver2 = webdriver.Chrome(service=service)"
   ]
  },
  {
   "cell_type": "code",
   "execution_count": 15,
   "id": "0be057ff-7c71-4819-8938-60074db87e99",
   "metadata": {},
   "outputs": [],
   "source": [
    "driver2.get(BOOKSTOSCRAPE_URL) "
   ]
  },
  {
   "cell_type": "code",
   "execution_count": 17,
   "id": "575108dd-9ba9-421a-af1a-546f1fc2efba",
   "metadata": {},
   "outputs": [],
   "source": [
    "driver2.quit()"
   ]
  },
  {
   "cell_type": "code",
   "execution_count": 18,
   "id": "e0beee5f-73dd-4e53-b8f0-11186f1c6fb2",
   "metadata": {},
   "outputs": [],
   "source": [
    "driver.quit()"
   ]
  },
  {
   "cell_type": "code",
   "execution_count": null,
   "id": "8ea0fbf9-4932-4a7a-b5d3-6ee8c02c88a6",
   "metadata": {},
   "outputs": [],
   "source": []
  }
 ],
 "metadata": {
  "kernelspec": {
   "display_name": "Python 3 (ipykernel)",
   "language": "python",
   "name": "python3"
  },
  "language_info": {
   "codemirror_mode": {
    "name": "ipython",
    "version": 3
   },
   "file_extension": ".py",
   "mimetype": "text/x-python",
   "name": "python",
   "nbconvert_exporter": "python",
   "pygments_lexer": "ipython3",
   "version": "3.13.3"
  }
 },
 "nbformat": 4,
 "nbformat_minor": 5
}
