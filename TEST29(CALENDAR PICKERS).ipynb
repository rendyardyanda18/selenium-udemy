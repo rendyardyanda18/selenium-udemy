{
 "cells": [
  {
   "cell_type": "code",
   "execution_count": 1,
   "id": "f0921efb-6f65-4627-b775-2c8dd7f1a3da",
   "metadata": {},
   "outputs": [],
   "source": [
    "from selenium import webdriver\n",
    "from selenium.webdriver.chrome.service import Service\n",
    "from selenium.webdriver.common.by import By"
   ]
  },
  {
   "cell_type": "code",
   "execution_count": 2,
   "id": "5459663e-7206-42ce-81b2-01f5f22fa3f5",
   "metadata": {},
   "outputs": [],
   "source": [
    "from settings import CHROMEDRIVER_PATH, JQUERYUI_URL"
   ]
  },
  {
   "cell_type": "code",
   "execution_count": 3,
   "id": "9d587e32-48df-4e08-b360-ad910af5e5b3",
   "metadata": {},
   "outputs": [],
   "source": [
    "service = Service(executable_path=CHROMEDRIVER_PATH)"
   ]
  },
  {
   "cell_type": "code",
   "execution_count": 4,
   "id": "cd9cf6a5-0b9e-43f0-8cdf-831526315c59",
   "metadata": {},
   "outputs": [],
   "source": [
    "driver = webdriver.Chrome(service=service)"
   ]
  },
  {
   "cell_type": "code",
   "execution_count": 5,
   "id": "1cacfe6d-bb50-449c-881b-8046e30df12c",
   "metadata": {},
   "outputs": [],
   "source": [
    "driver.get(JQUERYUI_URL + 'datepicker')"
   ]
  },
  {
   "cell_type": "code",
   "execution_count": 6,
   "id": "b72ae5e1-1450-4cae-9dcb-87269991bbc8",
   "metadata": {},
   "outputs": [],
   "source": [
    "iframe_element = driver.find_element(By.CSS_SELECTOR, '#content > iframe')"
   ]
  },
  {
   "cell_type": "code",
   "execution_count": 7,
   "id": "eba275c9-0f1c-46d3-b4c3-74f9f6bfb100",
   "metadata": {},
   "outputs": [
    {
     "data": {
      "text/plain": [
       "''"
      ]
     },
     "execution_count": 7,
     "metadata": {},
     "output_type": "execute_result"
    }
   ],
   "source": [
    "iframe_element.text"
   ]
  },
  {
   "cell_type": "code",
   "execution_count": 8,
   "id": "c70c5d85-63d1-41c1-a8a6-597d200901f0",
   "metadata": {},
   "outputs": [
    {
     "data": {
      "text/plain": [
       "'iframe'"
      ]
     },
     "execution_count": 8,
     "metadata": {},
     "output_type": "execute_result"
    }
   ],
   "source": [
    "iframe_element.tag_name"
   ]
  },
  {
   "cell_type": "code",
   "execution_count": 9,
   "id": "e97bc6b8-b577-4bb6-9b90-03aa752f7c21",
   "metadata": {},
   "outputs": [],
   "source": [
    "driver.switch_to.frame(iframe_element)"
   ]
  },
  {
   "cell_type": "code",
   "execution_count": 10,
   "id": "f5c9a1ab-1f86-4792-a996-e37e1103648d",
   "metadata": {},
   "outputs": [],
   "source": [
    "inputlmnt = driver.find_element(By.ID,'datepicker')"
   ]
  },
  {
   "cell_type": "code",
   "execution_count": 11,
   "id": "fc9a8339-00ae-4d24-984d-069f48e8ae91",
   "metadata": {},
   "outputs": [
    {
     "data": {
      "text/plain": [
       "'input'"
      ]
     },
     "execution_count": 11,
     "metadata": {},
     "output_type": "execute_result"
    }
   ],
   "source": [
    "inputlmnt.tag_name"
   ]
  },
  {
   "cell_type": "code",
   "execution_count": 35,
   "id": "dac45f01-6a40-4d32-8f43-772dfeac3e90",
   "metadata": {},
   "outputs": [],
   "source": [
    "inputlmnt.click()"
   ]
  },
  {
   "cell_type": "code",
   "execution_count": 36,
   "id": "199d8095-4992-4ee2-b896-31ddc4660cfc",
   "metadata": {},
   "outputs": [],
   "source": [
    "from datetime import datetime"
   ]
  },
  {
   "cell_type": "code",
   "execution_count": 37,
   "id": "50bbfccd-a3a5-4645-b97d-efd50039313d",
   "metadata": {},
   "outputs": [],
   "source": [
    "NOW = datetime.now()"
   ]
  },
  {
   "cell_type": "code",
   "execution_count": 38,
   "id": "744764ad-29f1-4c73-b3b9-372e036bf7b1",
   "metadata": {},
   "outputs": [
    {
     "name": "stdout",
     "output_type": "stream",
     "text": [
      "2025-05-31 11:43:46.858149\n"
     ]
    }
   ],
   "source": [
    "print(NOW)"
   ]
  },
  {
   "cell_type": "code",
   "execution_count": 39,
   "id": "ec2ca1be-92b0-4e4c-820f-459e97e178ad",
   "metadata": {},
   "outputs": [],
   "source": [
    "YEAR = NOW.year\n",
    "MONTH = NOW.month\n",
    "DAY = NOW.day"
   ]
  },
  {
   "cell_type": "code",
   "execution_count": 40,
   "id": "d8fd6f8a-a524-43ec-ac18-ae11026c3e45",
   "metadata": {},
   "outputs": [],
   "source": [
    "date_path =f'//td[@data-month=\"{MONTH-1}\" and @data-year=\"{YEAR}\"]/a[@data-date=\"{DAY}\"]'"
   ]
  },
  {
   "cell_type": "code",
   "execution_count": 41,
   "id": "e2f14da4-2e7f-41aa-a495-1881ddfdabeb",
   "metadata": {},
   "outputs": [],
   "source": [
    "datelmnt = driver.find_element(By.XPATH, date_path)"
   ]
  },
  {
   "cell_type": "code",
   "execution_count": 42,
   "id": "b27b95dd-3883-41ce-a610-685cb2f0ca75",
   "metadata": {},
   "outputs": [
    {
     "data": {
      "text/plain": [
       "'31'"
      ]
     },
     "execution_count": 42,
     "metadata": {},
     "output_type": "execute_result"
    }
   ],
   "source": [
    "datelmnt.text"
   ]
  },
  {
   "cell_type": "code",
   "execution_count": 45,
   "id": "08c9cc32-d1ca-4ea2-ae25-38423c9dde0e",
   "metadata": {},
   "outputs": [
    {
     "ename": "StaleElementReferenceException",
     "evalue": "Message: stale element reference: stale element not found in the current frame\n  (Session info: chrome=136.0.7103.114); For documentation on this error, please visit: https://www.selenium.dev/documentation/webdriver/troubleshooting/errors#stale-element-reference-exception\nStacktrace:\n\tGetHandleVerifier [0x00007FF7EF1D5355+78597]\n\tGetHandleVerifier [0x00007FF7EF1D53B0+78688]\n\t(No symbol) [0x00007FF7EEF891AA]\n\t(No symbol) [0x00007FF7EEF90ABC]\n\t(No symbol) [0x00007FF7EEF93B1C]\n\t(No symbol) [0x00007FF7EEF93BEF]\n\t(No symbol) [0x00007FF7EEFE130D]\n\t(No symbol) [0x00007FF7EEFD2170]\n\t(No symbol) [0x00007FF7EF0070EA]\n\t(No symbol) [0x00007FF7EEFD1AB6]\n\t(No symbol) [0x00007FF7EF007300]\n\t(No symbol) [0x00007FF7EF02F2BB]\n\t(No symbol) [0x00007FF7EF006EC3]\n\t(No symbol) [0x00007FF7EEFD03F8]\n\t(No symbol) [0x00007FF7EEFD1163]\n\tGetHandleVerifier [0x00007FF7EF47EF0D+2870973]\n\tGetHandleVerifier [0x00007FF7EF4796B8+2848360]\n\tGetHandleVerifier [0x00007FF7EF496993+2967875]\n\tGetHandleVerifier [0x00007FF7EF1F019A+188746]\n\tGetHandleVerifier [0x00007FF7EF1F847F+222255]\n\tGetHandleVerifier [0x00007FF7EF1DD2D4+111236]\n\tGetHandleVerifier [0x00007FF7EF1DD482+111666]\n\tGetHandleVerifier [0x00007FF7EF1C35A9+5465]\n\tBaseThreadInitThunk [0x00007FFC2C40E8D7+23]\n\tRtlUserThreadStart [0x00007FFC2D75C5DC+44]\n",
     "output_type": "error",
     "traceback": [
      "\u001b[31m---------------------------------------------------------------------------\u001b[39m",
      "\u001b[31mStaleElementReferenceException\u001b[39m            Traceback (most recent call last)",
      "\u001b[36mCell\u001b[39m\u001b[36m \u001b[39m\u001b[32mIn[45]\u001b[39m\u001b[32m, line 1\u001b[39m\n\u001b[32m----> \u001b[39m\u001b[32m1\u001b[39m \u001b[43mdatelmnt\u001b[49m\u001b[43m.\u001b[49m\u001b[43mclick\u001b[49m\u001b[43m(\u001b[49m\u001b[43m)\u001b[49m\n",
      "\u001b[36mFile \u001b[39m\u001b[32m~\\AppData\\Local\\Programs\\Python\\Python313\\Lib\\site-packages\\selenium\\webdriver\\remote\\webelement.py:119\u001b[39m, in \u001b[36mWebElement.click\u001b[39m\u001b[34m(self)\u001b[39m\n\u001b[32m    111\u001b[39m \u001b[38;5;28;01mdef\u001b[39;00m\u001b[38;5;250m \u001b[39m\u001b[34mclick\u001b[39m(\u001b[38;5;28mself\u001b[39m) -> \u001b[38;5;28;01mNone\u001b[39;00m:\n\u001b[32m    112\u001b[39m \u001b[38;5;250m    \u001b[39m\u001b[33;03m\"\"\"Clicks the element.\u001b[39;00m\n\u001b[32m    113\u001b[39m \n\u001b[32m    114\u001b[39m \u001b[33;03m    Example:\u001b[39;00m\n\u001b[32m   (...)\u001b[39m\u001b[32m    117\u001b[39m \u001b[33;03m    >>> element.click()\u001b[39;00m\n\u001b[32m    118\u001b[39m \u001b[33;03m    \"\"\"\u001b[39;00m\n\u001b[32m--> \u001b[39m\u001b[32m119\u001b[39m     \u001b[38;5;28;43mself\u001b[39;49m\u001b[43m.\u001b[49m\u001b[43m_execute\u001b[49m\u001b[43m(\u001b[49m\u001b[43mCommand\u001b[49m\u001b[43m.\u001b[49m\u001b[43mCLICK_ELEMENT\u001b[49m\u001b[43m)\u001b[49m\n",
      "\u001b[36mFile \u001b[39m\u001b[32m~\\AppData\\Local\\Programs\\Python\\Python313\\Lib\\site-packages\\selenium\\webdriver\\remote\\webelement.py:572\u001b[39m, in \u001b[36mWebElement._execute\u001b[39m\u001b[34m(self, command, params)\u001b[39m\n\u001b[32m    570\u001b[39m     params = {}\n\u001b[32m    571\u001b[39m params[\u001b[33m\"\u001b[39m\u001b[33mid\u001b[39m\u001b[33m\"\u001b[39m] = \u001b[38;5;28mself\u001b[39m._id\n\u001b[32m--> \u001b[39m\u001b[32m572\u001b[39m \u001b[38;5;28;01mreturn\u001b[39;00m \u001b[38;5;28;43mself\u001b[39;49m\u001b[43m.\u001b[49m\u001b[43m_parent\u001b[49m\u001b[43m.\u001b[49m\u001b[43mexecute\u001b[49m\u001b[43m(\u001b[49m\u001b[43mcommand\u001b[49m\u001b[43m,\u001b[49m\u001b[43m \u001b[49m\u001b[43mparams\u001b[49m\u001b[43m)\u001b[49m\n",
      "\u001b[36mFile \u001b[39m\u001b[32m~\\AppData\\Local\\Programs\\Python\\Python313\\Lib\\site-packages\\selenium\\webdriver\\remote\\webdriver.py:448\u001b[39m, in \u001b[36mWebDriver.execute\u001b[39m\u001b[34m(self, driver_command, params)\u001b[39m\n\u001b[32m    446\u001b[39m response = \u001b[38;5;28mself\u001b[39m.command_executor.execute(driver_command, params)\n\u001b[32m    447\u001b[39m \u001b[38;5;28;01mif\u001b[39;00m response:\n\u001b[32m--> \u001b[39m\u001b[32m448\u001b[39m     \u001b[38;5;28;43mself\u001b[39;49m\u001b[43m.\u001b[49m\u001b[43merror_handler\u001b[49m\u001b[43m.\u001b[49m\u001b[43mcheck_response\u001b[49m\u001b[43m(\u001b[49m\u001b[43mresponse\u001b[49m\u001b[43m)\u001b[49m\n\u001b[32m    449\u001b[39m     response[\u001b[33m\"\u001b[39m\u001b[33mvalue\u001b[39m\u001b[33m\"\u001b[39m] = \u001b[38;5;28mself\u001b[39m._unwrap_value(response.get(\u001b[33m\"\u001b[39m\u001b[33mvalue\u001b[39m\u001b[33m\"\u001b[39m, \u001b[38;5;28;01mNone\u001b[39;00m))\n\u001b[32m    450\u001b[39m     \u001b[38;5;28;01mreturn\u001b[39;00m response\n",
      "\u001b[36mFile \u001b[39m\u001b[32m~\\AppData\\Local\\Programs\\Python\\Python313\\Lib\\site-packages\\selenium\\webdriver\\remote\\errorhandler.py:232\u001b[39m, in \u001b[36mErrorHandler.check_response\u001b[39m\u001b[34m(self, response)\u001b[39m\n\u001b[32m    230\u001b[39m         alert_text = value[\u001b[33m\"\u001b[39m\u001b[33malert\u001b[39m\u001b[33m\"\u001b[39m].get(\u001b[33m\"\u001b[39m\u001b[33mtext\u001b[39m\u001b[33m\"\u001b[39m)\n\u001b[32m    231\u001b[39m     \u001b[38;5;28;01mraise\u001b[39;00m exception_class(message, screen, stacktrace, alert_text)  \u001b[38;5;66;03m# type: ignore[call-arg]  # mypy is not smart enough here\u001b[39;00m\n\u001b[32m--> \u001b[39m\u001b[32m232\u001b[39m \u001b[38;5;28;01mraise\u001b[39;00m exception_class(message, screen, stacktrace)\n",
      "\u001b[31mStaleElementReferenceException\u001b[39m: Message: stale element reference: stale element not found in the current frame\n  (Session info: chrome=136.0.7103.114); For documentation on this error, please visit: https://www.selenium.dev/documentation/webdriver/troubleshooting/errors#stale-element-reference-exception\nStacktrace:\n\tGetHandleVerifier [0x00007FF7EF1D5355+78597]\n\tGetHandleVerifier [0x00007FF7EF1D53B0+78688]\n\t(No symbol) [0x00007FF7EEF891AA]\n\t(No symbol) [0x00007FF7EEF90ABC]\n\t(No symbol) [0x00007FF7EEF93B1C]\n\t(No symbol) [0x00007FF7EEF93BEF]\n\t(No symbol) [0x00007FF7EEFE130D]\n\t(No symbol) [0x00007FF7EEFD2170]\n\t(No symbol) [0x00007FF7EF0070EA]\n\t(No symbol) [0x00007FF7EEFD1AB6]\n\t(No symbol) [0x00007FF7EF007300]\n\t(No symbol) [0x00007FF7EF02F2BB]\n\t(No symbol) [0x00007FF7EF006EC3]\n\t(No symbol) [0x00007FF7EEFD03F8]\n\t(No symbol) [0x00007FF7EEFD1163]\n\tGetHandleVerifier [0x00007FF7EF47EF0D+2870973]\n\tGetHandleVerifier [0x00007FF7EF4796B8+2848360]\n\tGetHandleVerifier [0x00007FF7EF496993+2967875]\n\tGetHandleVerifier [0x00007FF7EF1F019A+188746]\n\tGetHandleVerifier [0x00007FF7EF1F847F+222255]\n\tGetHandleVerifier [0x00007FF7EF1DD2D4+111236]\n\tGetHandleVerifier [0x00007FF7EF1DD482+111666]\n\tGetHandleVerifier [0x00007FF7EF1C35A9+5465]\n\tBaseThreadInitThunk [0x00007FFC2C40E8D7+23]\n\tRtlUserThreadStart [0x00007FFC2D75C5DC+44]\n"
     ]
    }
   ],
   "source": [
    "datelmnt.click()"
   ]
  },
  {
   "cell_type": "code",
   "execution_count": 44,
   "id": "898651ac-f747-483e-9d69-071f3af42557",
   "metadata": {},
   "outputs": [],
   "source": [
    "inputlmnt.clear()"
   ]
  },
  {
   "cell_type": "code",
   "execution_count": 33,
   "id": "0c94f3f1-602b-4913-80a4-8c3698364679",
   "metadata": {},
   "outputs": [],
   "source": [
    "inputlmnt.send_keys(f'{MONTH}/{DAY}/{YEAR}')"
   ]
  },
  {
   "cell_type": "code",
   "execution_count": 23,
   "id": "d3fe4380-484f-4d6b-913a-b45a985dde48",
   "metadata": {},
   "outputs": [],
   "source": [
    "inputlmnt.send_keys(f'{2}/{23}/{2021}')"
   ]
  },
  {
   "cell_type": "code",
   "execution_count": 46,
   "id": "9dc38ff3-9b85-4a44-9d64-2a7599e50aa7",
   "metadata": {},
   "outputs": [],
   "source": [
    "driver.switch_to.default_content()"
   ]
  },
  {
   "cell_type": "code",
   "execution_count": 48,
   "id": "9cda3128-b43b-469d-a1a4-8e2800814fd9",
   "metadata": {},
   "outputs": [
    {
     "data": {
      "text/plain": [
       "''"
      ]
     },
     "execution_count": 48,
     "metadata": {},
     "output_type": "execute_result"
    }
   ],
   "source": [
    "iframe_element.text"
   ]
  },
  {
   "cell_type": "code",
   "execution_count": 49,
   "id": "e8bcc3c2-9a8a-466e-a904-a49d796eb23e",
   "metadata": {},
   "outputs": [],
   "source": [
    "driver.quit()"
   ]
  },
  {
   "cell_type": "code",
   "execution_count": null,
   "id": "9c4e318c-26a4-4b5d-92a2-2054ca631498",
   "metadata": {},
   "outputs": [],
   "source": []
  }
 ],
 "metadata": {
  "kernelspec": {
   "display_name": "Python 3 (ipykernel)",
   "language": "python",
   "name": "python3"
  },
  "language_info": {
   "codemirror_mode": {
    "name": "ipython",
    "version": 3
   },
   "file_extension": ".py",
   "mimetype": "text/x-python",
   "name": "python",
   "nbconvert_exporter": "python",
   "pygments_lexer": "ipython3",
   "version": "3.13.3"
  }
 },
 "nbformat": 4,
 "nbformat_minor": 5
}
