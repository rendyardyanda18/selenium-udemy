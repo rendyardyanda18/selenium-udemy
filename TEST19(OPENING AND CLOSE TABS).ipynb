{
 "cells": [
  {
   "cell_type": "markdown",
   "id": "f13bf9d6-b04a-41b9-8fc1-a9cf232ab337",
   "metadata": {},
   "source": [
    "Import and setup service"
   ]
  },
  {
   "cell_type": "code",
   "execution_count": 10,
   "id": "74129af6-88d4-4409-a06c-7c05a0b87c4f",
   "metadata": {},
   "outputs": [],
   "source": [
    "from selenium import webdriver\n",
    "from selenium.webdriver.chrome.service import Service\n",
    "from selenium.webdriver.common.by import By"
   ]
  },
  {
   "cell_type": "code",
   "execution_count": 11,
   "id": "9ddee690-f7e8-4734-b22f-86355e9fa690",
   "metadata": {},
   "outputs": [],
   "source": [
    "from settings import CHROMEDRIVER_PATH, BOOKSTOSCRAPE_URL, PYTHON_URL"
   ]
  },
  {
   "cell_type": "code",
   "execution_count": 12,
   "id": "b8b9f9d3-5dbf-4431-b636-4d4cc10e8fb0",
   "metadata": {},
   "outputs": [],
   "source": [
    "service = Service(executable_path=CHROMEDRIVER_PATH)"
   ]
  },
  {
   "cell_type": "code",
   "execution_count": 13,
   "id": "84501594-149a-40b5-98d5-c50875df28ea",
   "metadata": {},
   "outputs": [],
   "source": [
    "driver = webdriver.Chrome(service=service)"
   ]
  },
  {
   "cell_type": "code",
   "execution_count": 14,
   "id": "e4efa806-1e1c-42fe-9870-2ef444b4fb23",
   "metadata": {},
   "outputs": [],
   "source": [
    "driver.get(BOOKSTOSCRAPE_URL)"
   ]
  },
  {
   "cell_type": "code",
   "execution_count": 15,
   "id": "45a5a982-6f61-4863-89e6-4358800f652b",
   "metadata": {},
   "outputs": [],
   "source": [
    "driver.switch_to.new_window('tab')"
   ]
  },
  {
   "cell_type": "code",
   "execution_count": 17,
   "id": "5f75fed5-851e-4a7d-b973-5d814f15c6a5",
   "metadata": {},
   "outputs": [],
   "source": [
    "driver.get(PYTHON_URL)"
   ]
  },
  {
   "cell_type": "markdown",
   "id": "81544f56-81f7-4ce9-b4ad-0c6ee400573e",
   "metadata": {},
   "source": [
    "This is an old way to new window tab "
   ]
  },
  {
   "cell_type": "code",
   "execution_count": 18,
   "id": "44b64a2c-c722-4abd-bc18-8b0bc86a3ca9",
   "metadata": {},
   "outputs": [],
   "source": [
    "driver.execute_script('window.open();')"
   ]
  },
  {
   "cell_type": "code",
   "execution_count": 22,
   "id": "6990ad92-cd69-442a-a9d4-3e91544662e5",
   "metadata": {},
   "outputs": [
    {
     "data": {
      "text/plain": [
       "'1F6C9268730701D9E26A671A5812FBD9'"
      ]
     },
     "execution_count": 22,
     "metadata": {},
     "output_type": "execute_result"
    }
   ],
   "source": [
    "driver.current_window_handle"
   ]
  },
  {
   "cell_type": "code",
   "execution_count": 23,
   "id": "56ff8274-c9a1-44c7-8307-ca6dd3cb138b",
   "metadata": {},
   "outputs": [
    {
     "data": {
      "text/plain": [
       "'https://www.python.org/'"
      ]
     },
     "execution_count": 23,
     "metadata": {},
     "output_type": "execute_result"
    }
   ],
   "source": [
    "driver.current_url"
   ]
  },
  {
   "cell_type": "code",
   "execution_count": 24,
   "id": "5b3e4e4c-7578-4b65-b42e-95817c4c59ba",
   "metadata": {},
   "outputs": [
    {
     "data": {
      "text/plain": [
       "['6EE41EB39B33B5269815A6653D60DDAD', '1F6C9268730701D9E26A671A5812FBD9']"
      ]
     },
     "execution_count": 24,
     "metadata": {},
     "output_type": "execute_result"
    }
   ],
   "source": [
    "driver.window_handles"
   ]
  },
  {
   "cell_type": "code",
   "execution_count": 25,
   "id": "8d9aa1a7-3705-44bc-8446-d7c1a3819a8b",
   "metadata": {},
   "outputs": [],
   "source": [
    "import time"
   ]
  },
  {
   "cell_type": "code",
   "execution_count": 27,
   "id": "5d8a1ce6-f7b8-4c8a-bf06-79293d20936f",
   "metadata": {},
   "outputs": [
    {
     "name": "stdout",
     "output_type": "stream",
     "text": [
      "Now on https://books.toscrape.com/\n",
      "Now on https://www.python.org/\n"
     ]
    }
   ],
   "source": [
    "for handle in driver.window_handles:\n",
    "    driver.switch_to.window(handle)\n",
    "    print(f'Now on {driver.current_url}')\n",
    "    time.sleep(3)"
   ]
  },
  {
   "cell_type": "code",
   "execution_count": 30,
   "id": "c2cb9e38-b81b-429e-b422-0e53b0cf0fb4",
   "metadata": {},
   "outputs": [],
   "source": [
    "driver.close()"
   ]
  },
  {
   "cell_type": "code",
   "execution_count": null,
   "id": "911a7f1b-54ae-49b0-8e27-97aada709ded",
   "metadata": {},
   "outputs": [],
   "source": [
    "driver.quit()"
   ]
  }
 ],
 "metadata": {
  "kernelspec": {
   "display_name": "Python 3 (ipykernel)",
   "language": "python",
   "name": "python3"
  },
  "language_info": {
   "codemirror_mode": {
    "name": "ipython",
    "version": 3
   },
   "file_extension": ".py",
   "mimetype": "text/x-python",
   "name": "python",
   "nbconvert_exporter": "python",
   "pygments_lexer": "ipython3",
   "version": "3.13.3"
  }
 },
 "nbformat": 4,
 "nbformat_minor": 5
}
