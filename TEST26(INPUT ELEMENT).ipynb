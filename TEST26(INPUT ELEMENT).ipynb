{
 "cells": [
  {
   "cell_type": "code",
   "execution_count": 1,
   "id": "0917d779-ede1-4df6-8212-50049f35e358",
   "metadata": {},
   "outputs": [],
   "source": [
    "from selenium import webdriver\n",
    "from selenium.webdriver.chrome.service import Service\n",
    "from selenium.webdriver.common.by import By"
   ]
  },
  {
   "cell_type": "code",
   "execution_count": 2,
   "id": "79734f3e-7c5f-4021-a246-b066228863a8",
   "metadata": {},
   "outputs": [],
   "source": [
    "from settings import CHROMEDRIVER_PATH, PYTHON_URL"
   ]
  },
  {
   "cell_type": "code",
   "execution_count": 3,
   "id": "df1756ce-a17f-4c46-96c2-dd23d6a113da",
   "metadata": {},
   "outputs": [],
   "source": [
    "service = Service(executable_path=CHROMEDRIVER_PATH)"
   ]
  },
  {
   "cell_type": "code",
   "execution_count": 4,
   "id": "3a9ffdc3-48ed-4487-99e2-bcad6e321ea8",
   "metadata": {},
   "outputs": [],
   "source": [
    "driver = webdriver.Chrome(service=service)"
   ]
  },
  {
   "cell_type": "code",
   "execution_count": 5,
   "id": "975e9220-299e-490e-a97b-89da3e351d11",
   "metadata": {},
   "outputs": [],
   "source": [
    "driver.get(PYTHON_URL)"
   ]
  },
  {
   "cell_type": "code",
   "execution_count": 6,
   "id": "99db4e95-c103-496c-9be9-a9eb9508ceb9",
   "metadata": {},
   "outputs": [],
   "source": [
    "search_input = driver.find_element(By.ID, 'id-search-field')"
   ]
  },
  {
   "cell_type": "code",
   "execution_count": 7,
   "id": "4353eccc-32ec-439d-8204-e567777f5361",
   "metadata": {},
   "outputs": [
    {
     "data": {
      "text/plain": [
       "'input'"
      ]
     },
     "execution_count": 7,
     "metadata": {},
     "output_type": "execute_result"
    }
   ],
   "source": [
    "search_input.tag_name"
   ]
  },
  {
   "cell_type": "code",
   "execution_count": 10,
   "id": "73920d6a-86cf-4fd4-80fe-4572332b0b6b",
   "metadata": {},
   "outputs": [],
   "source": [
    "input_lmnt = driver.find_element(By.NAME, 'q')"
   ]
  },
  {
   "cell_type": "code",
   "execution_count": 11,
   "id": "de967452-fd2f-4da4-b14f-341b07ba2eaa",
   "metadata": {},
   "outputs": [
    {
     "data": {
      "text/plain": [
       "'Search'"
      ]
     },
     "execution_count": 11,
     "metadata": {},
     "output_type": "execute_result"
    }
   ],
   "source": [
    "input_lmnt.get_attribute('placeholder')"
   ]
  },
  {
   "cell_type": "code",
   "execution_count": 12,
   "id": "859f2cc8-d579-4a79-9fc3-5102c69ee037",
   "metadata": {},
   "outputs": [
    {
     "data": {
      "text/plain": [
       "''"
      ]
     },
     "execution_count": 12,
     "metadata": {},
     "output_type": "execute_result"
    }
   ],
   "source": [
    "input_lmnt.text"
   ]
  },
  {
   "cell_type": "code",
   "execution_count": 16,
   "id": "4fefd2e7-860a-4a6b-8651-f4ddb108cfdb",
   "metadata": {},
   "outputs": [],
   "source": [
    "ISI_TEXT = 'python news'"
   ]
  },
  {
   "cell_type": "code",
   "execution_count": 21,
   "id": "bb76f016-869e-4ea1-b556-35b617314909",
   "metadata": {},
   "outputs": [],
   "source": [
    "input_lmnt.send_keys(ISI_TEXT)"
   ]
  },
  {
   "cell_type": "code",
   "execution_count": 18,
   "id": "1440d990-f1a6-40c2-a788-2c65656746a3",
   "metadata": {},
   "outputs": [],
   "source": [
    "input_lmnt.clear()"
   ]
  },
  {
   "cell_type": "code",
   "execution_count": 19,
   "id": "99e4a0d6-5ace-4360-8e5a-5bc3f7c9cf87",
   "metadata": {},
   "outputs": [],
   "source": [
    "go_button = driver.find_element(By.ID, 'submit')"
   ]
  },
  {
   "cell_type": "code",
   "execution_count": 20,
   "id": "f50f332f-f299-4f4d-ba5e-45d6de012b89",
   "metadata": {},
   "outputs": [
    {
     "data": {
      "text/plain": [
       "'GO'"
      ]
     },
     "execution_count": 20,
     "metadata": {},
     "output_type": "execute_result"
    }
   ],
   "source": [
    "go_button.text"
   ]
  },
  {
   "cell_type": "code",
   "execution_count": 22,
   "id": "7bab2047-7b77-4b2c-ac2e-d6d17471df2d",
   "metadata": {},
   "outputs": [],
   "source": [
    "go_button.click()"
   ]
  },
  {
   "cell_type": "code",
   "execution_count": 23,
   "id": "b9671f1b-2ef7-412d-b1db-d9c4ef38fc3c",
   "metadata": {},
   "outputs": [],
   "source": [
    "driver.quit()"
   ]
  },
  {
   "cell_type": "code",
   "execution_count": null,
   "id": "6a684e40-c2da-428d-98f2-bf1e024acb8a",
   "metadata": {},
   "outputs": [],
   "source": []
  }
 ],
 "metadata": {
  "kernelspec": {
   "display_name": "Python 3 (ipykernel)",
   "language": "python",
   "name": "python3"
  },
  "language_info": {
   "codemirror_mode": {
    "name": "ipython",
    "version": 3
   },
   "file_extension": ".py",
   "mimetype": "text/x-python",
   "name": "python",
   "nbconvert_exporter": "python",
   "pygments_lexer": "ipython3",
   "version": "3.13.3"
  }
 },
 "nbformat": 4,
 "nbformat_minor": 5
}
