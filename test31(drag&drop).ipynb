{
 "cells": [
  {
   "cell_type": "code",
   "execution_count": 19,
   "id": "1026a4a9-c5b0-4d67-a00c-71b5207e59f7",
   "metadata": {},
   "outputs": [],
   "source": [
    "from selenium import webdriver\n",
    "from selenium.webdriver.chrome.service import Service\n",
    "from selenium.webdriver.common.action_chains import ActionChains\n",
    "from selenium.webdriver.common.by import By"
   ]
  },
  {
   "cell_type": "code",
   "execution_count": 20,
   "id": "3ecd0d3f-07e6-49ea-a10d-813c178956b0",
   "metadata": {},
   "outputs": [],
   "source": [
    "from settings import CHROMEDRIVER_PATH, JQUERYUI_URL"
   ]
  },
  {
   "cell_type": "code",
   "execution_count": 21,
   "id": "28fa5c7a-973d-494c-9d84-7f8a4d5b432b",
   "metadata": {},
   "outputs": [],
   "source": [
    "service = Service(executable_path = CHROMEDRIVER_PATH)"
   ]
  },
  {
   "cell_type": "code",
   "execution_count": 22,
   "id": "c76b1a31-1e02-4e64-9307-46dc26025dfd",
   "metadata": {},
   "outputs": [],
   "source": [
    "driver = webdriver.Chrome(service=service)"
   ]
  },
  {
   "cell_type": "code",
   "execution_count": 23,
   "id": "ccec36da-a705-4514-a977-0a8a50600d17",
   "metadata": {},
   "outputs": [],
   "source": [
    "driver.get(JQUERYUI_URL + 'droppable')"
   ]
  },
  {
   "cell_type": "code",
   "execution_count": 24,
   "id": "f39891f8-1c0d-41e8-a23d-7cb1381e59a0",
   "metadata": {},
   "outputs": [],
   "source": [
    "iframe = driver.find_element(By.TAG_NAME, 'iframe')"
   ]
  },
  {
   "cell_type": "code",
   "execution_count": 25,
   "id": "e73eb38c-c393-4dc3-af44-285647fc9c53",
   "metadata": {},
   "outputs": [
    {
     "data": {
      "text/plain": [
       "'iframe'"
      ]
     },
     "execution_count": 25,
     "metadata": {},
     "output_type": "execute_result"
    }
   ],
   "source": [
    "iframe.tag_name"
   ]
  },
  {
   "cell_type": "code",
   "execution_count": 26,
   "id": "aeda74a0-a64a-4ab6-9576-9963802aa416",
   "metadata": {},
   "outputs": [],
   "source": [
    "driver.switch_to.frame(iframe)"
   ]
  },
  {
   "cell_type": "code",
   "execution_count": 27,
   "id": "7eabfed4-76d1-4ae5-b506-af524bac7623",
   "metadata": {},
   "outputs": [],
   "source": [
    "action = ActionChains(driver=driver)"
   ]
  },
  {
   "cell_type": "code",
   "execution_count": 28,
   "id": "7f56f92f-3121-4f75-ab87-1ff55050b433",
   "metadata": {},
   "outputs": [],
   "source": [
    "srclmnt = driver.find_element(By.ID, 'draggable')"
   ]
  },
  {
   "cell_type": "code",
   "execution_count": 29,
   "id": "eadd6051-2944-413d-a1bd-3a443972e0d0",
   "metadata": {},
   "outputs": [
    {
     "data": {
      "text/plain": [
       "'div'"
      ]
     },
     "execution_count": 29,
     "metadata": {},
     "output_type": "execute_result"
    }
   ],
   "source": [
    "srclmnt.tag_name"
   ]
  },
  {
   "cell_type": "code",
   "execution_count": 30,
   "id": "ebbf6509-b9cd-4152-bf2f-4b14d2ea3890",
   "metadata": {},
   "outputs": [],
   "source": [
    "trgtlmnt = driver.find_element(By.ID, 'droppable')"
   ]
  },
  {
   "cell_type": "code",
   "execution_count": 31,
   "id": "e1ffbb7f-aeb8-4557-b348-c69c19273ba8",
   "metadata": {},
   "outputs": [
    {
     "data": {
      "text/plain": [
       "'div'"
      ]
     },
     "execution_count": 31,
     "metadata": {},
     "output_type": "execute_result"
    }
   ],
   "source": [
    "trgtlmnt.tag_name"
   ]
  },
  {
   "cell_type": "code",
   "execution_count": 32,
   "id": "3614713b-af5c-4f4d-a993-924ea09ff98c",
   "metadata": {},
   "outputs": [],
   "source": [
    "action.drag_and_drop(srclmnt, trgtlmnt).perform()"
   ]
  },
  {
   "cell_type": "code",
   "execution_count": 33,
   "id": "a50b2cd8-54e8-4d6b-8664-c771e725d3fb",
   "metadata": {},
   "outputs": [],
   "source": [
    "action.drag_and_drop_by_offset(source=srclmnt, xoffset=20, yoffset=0).perform()"
   ]
  },
  {
   "cell_type": "code",
   "execution_count": 34,
   "id": "d22e723c-c5b9-45a9-896d-177d1c85240b",
   "metadata": {},
   "outputs": [],
   "source": [
    "driver.quit()"
   ]
  },
  {
   "cell_type": "code",
   "execution_count": null,
   "id": "f86816ce-2242-4beb-98e1-c0e028a92bd6",
   "metadata": {},
   "outputs": [],
   "source": []
  }
 ],
 "metadata": {
  "kernelspec": {
   "display_name": "Python 3 (ipykernel)",
   "language": "python",
   "name": "python3"
  },
  "language_info": {
   "codemirror_mode": {
    "name": "ipython",
    "version": 3
   },
   "file_extension": ".py",
   "mimetype": "text/x-python",
   "name": "python",
   "nbconvert_exporter": "python",
   "pygments_lexer": "ipython3",
   "version": "3.13.3"
  }
 },
 "nbformat": 4,
 "nbformat_minor": 5
}
