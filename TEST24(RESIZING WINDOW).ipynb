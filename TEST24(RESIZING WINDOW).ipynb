{
 "cells": [
  {
   "cell_type": "code",
   "execution_count": 1,
   "id": "87d5be2d-e206-4e88-b9b4-9c552c605f8f",
   "metadata": {},
   "outputs": [],
   "source": [
    "from selenium import webdriver\n",
    "from selenium.webdriver.chrome.service import Service\n",
    "from selenium.webdriver.common.by import By"
   ]
  },
  {
   "cell_type": "code",
   "execution_count": 2,
   "id": "59e138a9-1df9-4e51-8bfa-a19913c3f0f8",
   "metadata": {},
   "outputs": [],
   "source": [
    "from settings import CHROMEDRIVER_PATH, BOOKSTOSCRAPE_URL"
   ]
  },
  {
   "cell_type": "code",
   "execution_count": 5,
   "id": "e9063b17-dbb8-4d0b-a7fb-4ff654aa455b",
   "metadata": {},
   "outputs": [],
   "source": [
    "service = Service(executable_path=CHROMEDRIVER_PATH)"
   ]
  },
  {
   "cell_type": "code",
   "execution_count": 6,
   "id": "aa567ba7-b2b5-4531-8d6c-def251d59af3",
   "metadata": {},
   "outputs": [],
   "source": [
    "driver = webdriver.Chrome(service=service)"
   ]
  },
  {
   "cell_type": "code",
   "execution_count": 7,
   "id": "5c0874e7-b46e-4b9c-a28e-d3c7e6cc32a9",
   "metadata": {},
   "outputs": [],
   "source": [
    "driver.get(BOOKSTOSCRAPE_URL)"
   ]
  },
  {
   "cell_type": "code",
   "execution_count": 9,
   "id": "138cf2c7-5cf3-44b8-aa9d-5ba92a60ddd0",
   "metadata": {},
   "outputs": [
    {
     "data": {
      "text/plain": [
       "{'width': 974, 'height': 1057}"
      ]
     },
     "execution_count": 9,
     "metadata": {},
     "output_type": "execute_result"
    }
   ],
   "source": [
    "driver.get_window_size()"
   ]
  },
  {
   "cell_type": "code",
   "execution_count": 10,
   "id": "45b8efd8-a13e-4373-a170-4fbf71eab6d3",
   "metadata": {},
   "outputs": [
    {
     "data": {
      "text/plain": [
       "{'x': 1359, 'y': 0}"
      ]
     },
     "execution_count": 10,
     "metadata": {},
     "output_type": "execute_result"
    }
   ],
   "source": [
    "driver.get_window_position()"
   ]
  },
  {
   "cell_type": "code",
   "execution_count": 11,
   "id": "50e6404e-7f30-466c-9f2d-1dc0bcfdf509",
   "metadata": {},
   "outputs": [
    {
     "data": {
      "text/plain": [
       "{'height': 1057, 'width': 974, 'x': 1359, 'y': 0}"
      ]
     },
     "execution_count": 11,
     "metadata": {},
     "output_type": "execute_result"
    }
   ],
   "source": [
    "driver.get_window_rect()"
   ]
  },
  {
   "cell_type": "code",
   "execution_count": 12,
   "id": "f0ca0fca-52b5-4694-aae2-23f7ccd37df2",
   "metadata": {},
   "outputs": [],
   "source": [
    " driver.minimize_window()"
   ]
  },
  {
   "cell_type": "code",
   "execution_count": 13,
   "id": "b996c578-7b15-4dac-853a-a214b8a82f31",
   "metadata": {},
   "outputs": [],
   "source": [
    "driver.maximize_window()"
   ]
  },
  {
   "cell_type": "code",
   "execution_count": 16,
   "id": "588f0e8a-44c9-45f4-8337-e2b049dfdd5a",
   "metadata": {},
   "outputs": [
    {
     "data": {
      "text/plain": [
       "{'height': 1057, 'width': 974, 'x': 1359, 'y': 0}"
      ]
     },
     "execution_count": 16,
     "metadata": {},
     "output_type": "execute_result"
    }
   ],
   "source": [
    "driver.set_window_rect(x= 1359, y= 0, height= 1057, width= 974)"
   ]
  },
  {
   "cell_type": "code",
   "execution_count": 17,
   "id": "3d7c53f9-45d1-497c-b6a4-89626987a80d",
   "metadata": {},
   "outputs": [],
   "source": [
    "driver.quit()"
   ]
  },
  {
   "cell_type": "code",
   "execution_count": null,
   "id": "52664c0d-5d1c-453f-afce-fff5624d7f5d",
   "metadata": {},
   "outputs": [],
   "source": []
  }
 ],
 "metadata": {
  "kernelspec": {
   "display_name": "Python 3 (ipykernel)",
   "language": "python",
   "name": "python3"
  },
  "language_info": {
   "codemirror_mode": {
    "name": "ipython",
    "version": 3
   },
   "file_extension": ".py",
   "mimetype": "text/x-python",
   "name": "python",
   "nbconvert_exporter": "python",
   "pygments_lexer": "ipython3",
   "version": "3.13.3"
  }
 },
 "nbformat": 4,
 "nbformat_minor": 5
}
