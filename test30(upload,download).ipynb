{
 "cells": [
  {
   "cell_type": "code",
   "execution_count": 1,
   "id": "a2f6d0a2-23a5-4c02-9219-a05db1b62765",
   "metadata": {},
   "outputs": [],
   "source": [
    "from selenium import webdriver\n",
    "from selenium.webdriver.chrome.service import Service\n",
    "from selenium.webdriver.common.by import By"
   ]
  },
  {
   "cell_type": "code",
   "execution_count": 2,
   "id": "7425b01e-15a0-4aca-92db-d07e3b72583a",
   "metadata": {},
   "outputs": [],
   "source": [
    "from settings import CHROMEDRIVER_PATH, PYTHON_DOWNLOAD_URL, IMGUR_UPLOAD_URL"
   ]
  },
  {
   "cell_type": "code",
   "execution_count": 18,
   "id": "29ce3ba3-0084-4a2e-bb2f-06cb2bf95517",
   "metadata": {},
   "outputs": [],
   "source": [
    "service = Service(executable_path = CHROMEDRIVER_PATH)"
   ]
  },
  {
   "cell_type": "code",
   "execution_count": 9,
   "id": "06ae132b-7827-4ee1-9f3b-7ed8d61fef89",
   "metadata": {},
   "outputs": [],
   "source": [
    "driver = webdriver.Chrome(service=service)"
   ]
  },
  {
   "cell_type": "code",
   "execution_count": 10,
   "id": "826bd254-fcb2-4440-bd23-32315b74f1a3",
   "metadata": {},
   "outputs": [],
   "source": [
    "driver.get(PYTHON_DOWNLOAD_URL)"
   ]
  },
  {
   "cell_type": "code",
   "execution_count": 41,
   "id": "4c0eb6f9-f4eb-4f7a-ae05-a956811dbba8",
   "metadata": {},
   "outputs": [],
   "source": [
    "bttnxpth = '//*[@id=\"touchnav-wrapper\"]/header/div/div[2]/div/div[2]/p/a'"
   ]
  },
  {
   "cell_type": "code",
   "execution_count": 42,
   "id": "4b68d2cf-ff64-4187-96f5-4ea6b601f73f",
   "metadata": {},
   "outputs": [],
   "source": [
    "dwnldbttn = driver.find_element(By.XPATH, bttnxpth)"
   ]
  },
  {
   "cell_type": "code",
   "execution_count": 43,
   "id": "21d3edb0-c97a-474f-94ff-07aa65f90585",
   "metadata": {
    "scrolled": true
   },
   "outputs": [
    {
     "data": {
      "text/plain": [
       "'Download Python 3.13.3'"
      ]
     },
     "execution_count": 43,
     "metadata": {},
     "output_type": "execute_result"
    }
   ],
   "source": [
    "dwnldbttn.text"
   ]
  },
  {
   "cell_type": "code",
   "execution_count": 44,
   "id": "3284ae5e-9825-4efd-9288-7e271b4da325",
   "metadata": {},
   "outputs": [],
   "source": [
    "dwnldbttn.click()"
   ]
  },
  {
   "cell_type": "code",
   "execution_count": 45,
   "id": "afafe5f0-01c8-411d-8450-a1b13863d644",
   "metadata": {},
   "outputs": [],
   "source": [
    "bttnxpth2 = '//*[@id=\"content\"]/div/section/article/table/tbody/tr[5]/td[1]/a'"
   ]
  },
  {
   "cell_type": "code",
   "execution_count": 46,
   "id": "5a80fd97-17eb-4026-9604-57d273fb5ff4",
   "metadata": {},
   "outputs": [
    {
     "ename": "NoSuchElementException",
     "evalue": "Message: no such element: Unable to locate element: {\"method\":\"xpath\",\"selector\":\"//*[@id=\"content\"]/div/section/article/table/tbody/tr[5]/td[1]/a\"}\n  (Session info: chrome=136.0.7103.114); For documentation on this error, please visit: https://www.selenium.dev/documentation/webdriver/troubleshooting/errors#no-such-element-exception\nStacktrace:\n\tGetHandleVerifier [0x00007FF7EF1D5355+78597]\n\tGetHandleVerifier [0x00007FF7EF1D53B0+78688]\n\t(No symbol) [0x00007FF7EEF891AA]\n\t(No symbol) [0x00007FF7EEFDF149]\n\t(No symbol) [0x00007FF7EEFDF3FC]\n\t(No symbol) [0x00007FF7EF032467]\n\t(No symbol) [0x00007FF7EF00712F]\n\t(No symbol) [0x00007FF7EF02F2BB]\n\t(No symbol) [0x00007FF7EF006EC3]\n\t(No symbol) [0x00007FF7EEFD03F8]\n\t(No symbol) [0x00007FF7EEFD1163]\n\tGetHandleVerifier [0x00007FF7EF47EF0D+2870973]\n\tGetHandleVerifier [0x00007FF7EF4796B8+2848360]\n\tGetHandleVerifier [0x00007FF7EF496993+2967875]\n\tGetHandleVerifier [0x00007FF7EF1F019A+188746]\n\tGetHandleVerifier [0x00007FF7EF1F847F+222255]\n\tGetHandleVerifier [0x00007FF7EF1DD2D4+111236]\n\tGetHandleVerifier [0x00007FF7EF1DD482+111666]\n\tGetHandleVerifier [0x00007FF7EF1C35A9+5465]\n\tBaseThreadInitThunk [0x00007FFC2C40E8D7+23]\n\tRtlUserThreadStart [0x00007FFC2D75C5DC+44]\n",
     "output_type": "error",
     "traceback": [
      "\u001b[31m---------------------------------------------------------------------------\u001b[39m",
      "\u001b[31mNoSuchElementException\u001b[39m                    Traceback (most recent call last)",
      "\u001b[36mCell\u001b[39m\u001b[36m \u001b[39m\u001b[32mIn[46]\u001b[39m\u001b[32m, line 1\u001b[39m\n\u001b[32m----> \u001b[39m\u001b[32m1\u001b[39m dwnldbttn2 = \u001b[43mdriver\u001b[49m\u001b[43m.\u001b[49m\u001b[43mfind_element\u001b[49m\u001b[43m(\u001b[49m\u001b[43mBy\u001b[49m\u001b[43m.\u001b[49m\u001b[43mXPATH\u001b[49m\u001b[43m,\u001b[49m\u001b[43m \u001b[49m\u001b[43mbttnxpth2\u001b[49m\u001b[43m)\u001b[49m\n",
      "\u001b[36mFile \u001b[39m\u001b[32m~\\AppData\\Local\\Programs\\Python\\Python313\\Lib\\site-packages\\selenium\\webdriver\\remote\\webdriver.py:917\u001b[39m, in \u001b[36mWebDriver.find_element\u001b[39m\u001b[34m(self, by, value)\u001b[39m\n\u001b[32m    914\u001b[39m         \u001b[38;5;28;01mraise\u001b[39;00m NoSuchElementException(\u001b[33mf\u001b[39m\u001b[33m\"\u001b[39m\u001b[33mCannot locate relative element with: \u001b[39m\u001b[38;5;132;01m{\u001b[39;00mby.root\u001b[38;5;132;01m}\u001b[39;00m\u001b[33m\"\u001b[39m)\n\u001b[32m    915\u001b[39m     \u001b[38;5;28;01mreturn\u001b[39;00m elements[\u001b[32m0\u001b[39m]\n\u001b[32m--> \u001b[39m\u001b[32m917\u001b[39m \u001b[38;5;28;01mreturn\u001b[39;00m \u001b[38;5;28;43mself\u001b[39;49m\u001b[43m.\u001b[49m\u001b[43mexecute\u001b[49m\u001b[43m(\u001b[49m\u001b[43mCommand\u001b[49m\u001b[43m.\u001b[49m\u001b[43mFIND_ELEMENT\u001b[49m\u001b[43m,\u001b[49m\u001b[43m \u001b[49m\u001b[43m{\u001b[49m\u001b[33;43m\"\u001b[39;49m\u001b[33;43musing\u001b[39;49m\u001b[33;43m\"\u001b[39;49m\u001b[43m:\u001b[49m\u001b[43m \u001b[49m\u001b[43mby\u001b[49m\u001b[43m,\u001b[49m\u001b[43m \u001b[49m\u001b[33;43m\"\u001b[39;49m\u001b[33;43mvalue\u001b[39;49m\u001b[33;43m\"\u001b[39;49m\u001b[43m:\u001b[49m\u001b[43m \u001b[49m\u001b[43mvalue\u001b[49m\u001b[43m}\u001b[49m\u001b[43m)\u001b[49m[\u001b[33m\"\u001b[39m\u001b[33mvalue\u001b[39m\u001b[33m\"\u001b[39m]\n",
      "\u001b[36mFile \u001b[39m\u001b[32m~\\AppData\\Local\\Programs\\Python\\Python313\\Lib\\site-packages\\selenium\\webdriver\\remote\\webdriver.py:448\u001b[39m, in \u001b[36mWebDriver.execute\u001b[39m\u001b[34m(self, driver_command, params)\u001b[39m\n\u001b[32m    446\u001b[39m response = \u001b[38;5;28mself\u001b[39m.command_executor.execute(driver_command, params)\n\u001b[32m    447\u001b[39m \u001b[38;5;28;01mif\u001b[39;00m response:\n\u001b[32m--> \u001b[39m\u001b[32m448\u001b[39m     \u001b[38;5;28;43mself\u001b[39;49m\u001b[43m.\u001b[49m\u001b[43merror_handler\u001b[49m\u001b[43m.\u001b[49m\u001b[43mcheck_response\u001b[49m\u001b[43m(\u001b[49m\u001b[43mresponse\u001b[49m\u001b[43m)\u001b[49m\n\u001b[32m    449\u001b[39m     response[\u001b[33m\"\u001b[39m\u001b[33mvalue\u001b[39m\u001b[33m\"\u001b[39m] = \u001b[38;5;28mself\u001b[39m._unwrap_value(response.get(\u001b[33m\"\u001b[39m\u001b[33mvalue\u001b[39m\u001b[33m\"\u001b[39m, \u001b[38;5;28;01mNone\u001b[39;00m))\n\u001b[32m    450\u001b[39m     \u001b[38;5;28;01mreturn\u001b[39;00m response\n",
      "\u001b[36mFile \u001b[39m\u001b[32m~\\AppData\\Local\\Programs\\Python\\Python313\\Lib\\site-packages\\selenium\\webdriver\\remote\\errorhandler.py:232\u001b[39m, in \u001b[36mErrorHandler.check_response\u001b[39m\u001b[34m(self, response)\u001b[39m\n\u001b[32m    230\u001b[39m         alert_text = value[\u001b[33m\"\u001b[39m\u001b[33malert\u001b[39m\u001b[33m\"\u001b[39m].get(\u001b[33m\"\u001b[39m\u001b[33mtext\u001b[39m\u001b[33m\"\u001b[39m)\n\u001b[32m    231\u001b[39m     \u001b[38;5;28;01mraise\u001b[39;00m exception_class(message, screen, stacktrace, alert_text)  \u001b[38;5;66;03m# type: ignore[call-arg]  # mypy is not smart enough here\u001b[39;00m\n\u001b[32m--> \u001b[39m\u001b[32m232\u001b[39m \u001b[38;5;28;01mraise\u001b[39;00m exception_class(message, screen, stacktrace)\n",
      "\u001b[31mNoSuchElementException\u001b[39m: Message: no such element: Unable to locate element: {\"method\":\"xpath\",\"selector\":\"//*[@id=\"content\"]/div/section/article/table/tbody/tr[5]/td[1]/a\"}\n  (Session info: chrome=136.0.7103.114); For documentation on this error, please visit: https://www.selenium.dev/documentation/webdriver/troubleshooting/errors#no-such-element-exception\nStacktrace:\n\tGetHandleVerifier [0x00007FF7EF1D5355+78597]\n\tGetHandleVerifier [0x00007FF7EF1D53B0+78688]\n\t(No symbol) [0x00007FF7EEF891AA]\n\t(No symbol) [0x00007FF7EEFDF149]\n\t(No symbol) [0x00007FF7EEFDF3FC]\n\t(No symbol) [0x00007FF7EF032467]\n\t(No symbol) [0x00007FF7EF00712F]\n\t(No symbol) [0x00007FF7EF02F2BB]\n\t(No symbol) [0x00007FF7EF006EC3]\n\t(No symbol) [0x00007FF7EEFD03F8]\n\t(No symbol) [0x00007FF7EEFD1163]\n\tGetHandleVerifier [0x00007FF7EF47EF0D+2870973]\n\tGetHandleVerifier [0x00007FF7EF4796B8+2848360]\n\tGetHandleVerifier [0x00007FF7EF496993+2967875]\n\tGetHandleVerifier [0x00007FF7EF1F019A+188746]\n\tGetHandleVerifier [0x00007FF7EF1F847F+222255]\n\tGetHandleVerifier [0x00007FF7EF1DD2D4+111236]\n\tGetHandleVerifier [0x00007FF7EF1DD482+111666]\n\tGetHandleVerifier [0x00007FF7EF1C35A9+5465]\n\tBaseThreadInitThunk [0x00007FFC2C40E8D7+23]\n\tRtlUserThreadStart [0x00007FFC2D75C5DC+44]\n"
     ]
    }
   ],
   "source": [
    "dwnldbttn2 = driver.find_element(By.XPATH, bttnxpth2)"
   ]
  },
  {
   "cell_type": "code",
   "execution_count": null,
   "id": "17257073-7c44-4b4b-8c61-8b0ccbae7661",
   "metadata": {},
   "outputs": [],
   "source": [
    "dwnldbttn2.text"
   ]
  },
  {
   "cell_type": "code",
   "execution_count": 21,
   "id": "c4b0a0a8-5e48-429d-85a3-2a655411f905",
   "metadata": {},
   "outputs": [],
   "source": [
    "dwnldbttn2.click()"
   ]
  },
  {
   "cell_type": "code",
   "execution_count": 9,
   "id": "675fe966-bcfc-47d7-8167-1ab2199c2991",
   "metadata": {},
   "outputs": [],
   "source": [
    "DWNLD_DIR = 'C:\\\\Users\\\\Organizer1\\\\Documents'"
   ]
  },
  {
   "cell_type": "code",
   "execution_count": 11,
   "id": "393f1e9b-559c-4263-b2c7-a5074457f87d",
   "metadata": {},
   "outputs": [],
   "source": [
    "options = webdriver.ChromeOptions()"
   ]
  },
  {
   "cell_type": "code",
   "execution_count": 12,
   "id": "27cfb19f-4e44-4bb8-8b31-e995dd3b2d6e",
   "metadata": {},
   "outputs": [],
   "source": [
    "options.add_experimental_option(\n",
    "    'prefs',\n",
    "    {'download.default_directory' : DWNLD_DIR}\n",
    ")"
   ]
  },
  {
   "cell_type": "code",
   "execution_count": 10,
   "id": "a1013c5e-4f3a-4703-b987-96da75b21b33",
   "metadata": {},
   "outputs": [],
   "source": [
    "driver.quit()"
   ]
  },
  {
   "cell_type": "code",
   "execution_count": 13,
   "id": "11dced65-ef07-4810-bfef-6743d758e41d",
   "metadata": {},
   "outputs": [],
   "source": [
    "driver = webdriver.Chrome(service=service, options=options)"
   ]
  },
  {
   "cell_type": "code",
   "execution_count": 14,
   "id": "8aba408b-b15d-42db-b135-722db751cdf4",
   "metadata": {},
   "outputs": [],
   "source": [
    "driver.get(PYTHON_DOWNLOAD_URL)"
   ]
  },
  {
   "cell_type": "code",
   "execution_count": 73,
   "id": "1f5848b8-c8ee-4503-bbb0-1f24efa62b67",
   "metadata": {},
   "outputs": [],
   "source": [
    "dwnbutt = driver.find_element(By.XPATH, '//*[@id=\"touchnav-wrapper\"]/header/div/div[2]/div/div[4]/p/a')"
   ]
  },
  {
   "cell_type": "code",
   "execution_count": 74,
   "id": "38f80168-c5bf-4cfc-bd15-dff01c4149f8",
   "metadata": {},
   "outputs": [],
   "source": [
    "dwnbutt.click()"
   ]
  },
  {
   "cell_type": "code",
   "execution_count": 75,
   "id": "e582e20d-0cd3-46a8-b998-5c836fb376c3",
   "metadata": {},
   "outputs": [],
   "source": [
    "dwnbutt2 = driver.find_element(By.XPATH, '//*[@id=\"content\"]/div/section/article/table/tbody/tr[4]/td[1]/a')"
   ]
  },
  {
   "cell_type": "code",
   "execution_count": 76,
   "id": "1bbe16a3-b2d6-45dc-8406-8b8a81610160",
   "metadata": {},
   "outputs": [],
   "source": [
    "dwnbutt2.click()"
   ]
  },
  {
   "cell_type": "code",
   "execution_count": 15,
   "id": "8b21e662-301d-4d7b-9307-7c8430b553fe",
   "metadata": {},
   "outputs": [],
   "source": [
    "driver.quit()"
   ]
  },
  {
   "cell_type": "code",
   "execution_count": 20,
   "id": "c3cb5f53-0660-4057-938c-1a7b51003376",
   "metadata": {
    "scrolled": true
   },
   "outputs": [],
   "source": [
    "driver = webdriver.Chrome(service=service, options=options)"
   ]
  },
  {
   "cell_type": "code",
   "execution_count": 21,
   "id": "6ef25de8-67a1-4f64-ab4a-5d8f1bf4f6c4",
   "metadata": {},
   "outputs": [],
   "source": [
    "driver.get(IMGUR_UPLOAD_URL)"
   ]
  },
  {
   "cell_type": "code",
   "execution_count": 22,
   "id": "10d58d07-10c4-431a-91b8-ebf72dd745d6",
   "metadata": {},
   "outputs": [],
   "source": [
    "inputurl = driver.find_element(By.ID, 'file-input')"
   ]
  },
  {
   "cell_type": "code",
   "execution_count": 29,
   "id": "3f23f8e0-8e91-43cf-82a9-50392d55346f",
   "metadata": {},
   "outputs": [
    {
     "data": {
      "text/plain": [
       "'input'"
      ]
     },
     "execution_count": 29,
     "metadata": {},
     "output_type": "execute_result"
    }
   ],
   "source": [
    "inputurl.tag_name"
   ]
  },
  {
   "cell_type": "code",
   "execution_count": 32,
   "id": "af8c6a1c-1962-4c99-8891-59356513986f",
   "metadata": {},
   "outputs": [],
   "source": [
    "inputurl.send_keys('C:\\\\Users\\\\Organizer1\\\\Documents\\\\logo.jpg')"
   ]
  },
  {
   "cell_type": "code",
   "execution_count": null,
   "id": "c99b67b4-0b1d-4e5e-af35-027724b8fa3d",
   "metadata": {},
   "outputs": [],
   "source": []
  }
 ],
 "metadata": {
  "kernelspec": {
   "display_name": "Python 3 (ipykernel)",
   "language": "python",
   "name": "python3"
  },
  "language_info": {
   "codemirror_mode": {
    "name": "ipython",
    "version": 3
   },
   "file_extension": ".py",
   "mimetype": "text/x-python",
   "name": "python",
   "nbconvert_exporter": "python",
   "pygments_lexer": "ipython3",
   "version": "3.13.3"
  }
 },
 "nbformat": 4,
 "nbformat_minor": 5
}
