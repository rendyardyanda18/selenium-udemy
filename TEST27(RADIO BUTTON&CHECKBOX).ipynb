{
 "cells": [
  {
   "cell_type": "code",
   "execution_count": 1,
   "id": "213e5dd3-eda0-4d09-ba28-3a9852553669",
   "metadata": {},
   "outputs": [],
   "source": [
    "from selenium import webdriver\n",
    "from selenium.webdriver.chrome.service import Service\n",
    "from selenium.webdriver.common.by import By"
   ]
  },
  {
   "cell_type": "code",
   "execution_count": 2,
   "id": "fc785a32-6288-4b47-ab85-4c53c04de000",
   "metadata": {},
   "outputs": [],
   "source": [
    "from settings import CHROMEDRIVER_PATH, GOLDBUGS_URL"
   ]
  },
  {
   "cell_type": "code",
   "execution_count": 3,
   "id": "954305c9-4033-4849-b0d9-a51ee2ef3587",
   "metadata": {},
   "outputs": [],
   "source": [
    "service = Service(executable_path=CHROMEDRIVER_PATH)"
   ]
  },
  {
   "cell_type": "code",
   "execution_count": 4,
   "id": "b1b8c89d-26e6-4177-b750-c1d0740fbe2b",
   "metadata": {},
   "outputs": [],
   "source": [
    "driver = webdriver.Chrome(service=service)"
   ]
  },
  {
   "cell_type": "code",
   "execution_count": 5,
   "id": "158ccdbe-2629-4b4a-9da4-458eb93ac674",
   "metadata": {},
   "outputs": [],
   "source": [
    "driver.get(GOLDBUGS_URL)"
   ]
  },
  {
   "cell_type": "code",
   "execution_count": 6,
   "id": "28eb8bb7-cecb-4177-8e6b-767ddb2a8b04",
   "metadata": {},
   "outputs": [],
   "source": [
    "fieldset = driver.find_element(By.ID, \"checkbox-b5b9cc19-24e5-4c8c-960a-055837723942\")"
   ]
  },
  {
   "cell_type": "code",
   "execution_count": 7,
   "id": "011e5ae0-bb26-410a-8bc1-e01c0eba3dac",
   "metadata": {},
   "outputs": [
    {
     "data": {
      "text/plain": [
       "'fieldset'"
      ]
     },
     "execution_count": 7,
     "metadata": {},
     "output_type": "execute_result"
    }
   ],
   "source": [
    "fieldset.tag_name"
   ]
  },
  {
   "cell_type": "code",
   "execution_count": 8,
   "id": "10de26e3-1966-4511-8aa9-4ee591fb8784",
   "metadata": {},
   "outputs": [],
   "source": [
    "checkbox = fieldset.find_elements(By.XPATH,'//input[@type=\"checkbox\"]')"
   ]
  },
  {
   "cell_type": "code",
   "execution_count": 9,
   "id": "0f786644-248b-4b4f-bddf-e1d9ec42395b",
   "metadata": {},
   "outputs": [],
   "source": [
    "checkbox1 = checkbox[1]"
   ]
  },
  {
   "cell_type": "code",
   "execution_count": 10,
   "id": "a67586de-30d5-456f-9bec-ea14398da2ba",
   "metadata": {},
   "outputs": [
    {
     "data": {
      "text/plain": [
       "'No Response Required'"
      ]
     },
     "execution_count": 10,
     "metadata": {},
     "output_type": "execute_result"
    }
   ],
   "source": [
    "checkbox1.get_attribute('value')"
   ]
  },
  {
   "cell_type": "code",
   "execution_count": 11,
   "id": "9745dded-3a81-468c-9fb5-fb55f17ffba5",
   "metadata": {},
   "outputs": [
    {
     "data": {
      "text/plain": [
       "''"
      ]
     },
     "execution_count": 11,
     "metadata": {},
     "output_type": "execute_result"
    }
   ],
   "source": [
    "checkbox[0].text"
   ]
  },
  {
   "cell_type": "code",
   "execution_count": 12,
   "id": "8c18d1b2-931a-4fbe-bcf8-92d8c3713892",
   "metadata": {},
   "outputs": [
    {
     "data": {
      "text/plain": [
       "False"
      ]
     },
     "execution_count": 12,
     "metadata": {},
     "output_type": "execute_result"
    }
   ],
   "source": [
    "checkbox1.is_selected()"
   ]
  },
  {
   "cell_type": "code",
   "execution_count": 13,
   "id": "3e42e167-d2cc-487b-aaba-912fdc36dc9b",
   "metadata": {},
   "outputs": [],
   "source": [
    "checkbox1.click()"
   ]
  },
  {
   "cell_type": "code",
   "execution_count": 14,
   "id": "d3f6d289-43e3-449c-a4ab-640321c6b82c",
   "metadata": {},
   "outputs": [
    {
     "data": {
      "text/plain": [
       "True"
      ]
     },
     "execution_count": 14,
     "metadata": {},
     "output_type": "execute_result"
    }
   ],
   "source": [
    "checkbox1.is_selected()"
   ]
  },
  {
   "cell_type": "raw",
   "id": "4a1d5e77-7be0-4a1f-b5b3-dae7b8bda581",
   "metadata": {},
   "source": [
    "fieldset2 = driver.find_element(By.ID, \"radio-56c0f90d-260f-4304-b624-4635972a6fa9\")"
   ]
  },
  {
   "cell_type": "raw",
   "id": "1c7b234d-182e-4cfd-be9e-b28c41a83a74",
   "metadata": {},
   "source": [
    "fieldset2.tag_name"
   ]
  },
  {
   "cell_type": "code",
   "execution_count": 41,
   "id": "4cdc7b35-1280-4c05-9222-dedce47da72a",
   "metadata": {},
   "outputs": [],
   "source": [
    "radiobttn = driver.find_elements(By.XPATH, '//span[@class=\"radio-label\"]')"
   ]
  },
  {
   "cell_type": "code",
   "execution_count": 47,
   "id": "e6679368-b15d-4464-a284-27a88a8c5b7b",
   "metadata": {},
   "outputs": [],
   "source": [
    "radio1 = radiobttn[0]"
   ]
  },
  {
   "cell_type": "code",
   "execution_count": 48,
   "id": "dc190c05-3ad5-43c7-a616-7f2eb101f0ec",
   "metadata": {},
   "outputs": [
    {
     "data": {
      "text/plain": [
       "'Private Show'"
      ]
     },
     "execution_count": 48,
     "metadata": {},
     "output_type": "execute_result"
    }
   ],
   "source": [
    "radio1.text"
   ]
  },
  {
   "cell_type": "code",
   "execution_count": 49,
   "id": "4f90d68e-9c68-4a0a-a7b7-4ce0a3b18ba7",
   "metadata": {},
   "outputs": [
    {
     "data": {
      "text/plain": [
       "2"
      ]
     },
     "execution_count": 49,
     "metadata": {},
     "output_type": "execute_result"
    }
   ],
   "source": [
    "len(radiobttn)"
   ]
  },
  {
   "cell_type": "code",
   "execution_count": 50,
   "id": "5d4e1481-ae81-4f68-a687-b145d46c386a",
   "metadata": {},
   "outputs": [],
   "source": [
    "radio1 = radiobttn[0]"
   ]
  },
  {
   "cell_type": "code",
   "execution_count": 51,
   "id": "5ec6be01-cc6a-4ced-b95b-7e10d60de23c",
   "metadata": {},
   "outputs": [
    {
     "data": {
      "text/plain": [
       "'Private Show'"
      ]
     },
     "execution_count": 51,
     "metadata": {},
     "output_type": "execute_result"
    }
   ],
   "source": [
    "radio1.text"
   ]
  },
  {
   "cell_type": "code",
   "execution_count": 52,
   "id": "a73dcec7-0f64-4b62-b66f-a775fad1fc8c",
   "metadata": {},
   "outputs": [
    {
     "data": {
      "text/plain": [
       "False"
      ]
     },
     "execution_count": 52,
     "metadata": {},
     "output_type": "execute_result"
    }
   ],
   "source": [
    "radio1.is_selected()"
   ]
  },
  {
   "cell_type": "code",
   "execution_count": 53,
   "id": "95aad01a-7bff-4b1a-996a-514bb6608383",
   "metadata": {},
   "outputs": [],
   "source": [
    "radio1.click()"
   ]
  },
  {
   "cell_type": "code",
   "execution_count": 54,
   "id": "235b4664-febb-42ff-8bbd-c4b9fb9644d7",
   "metadata": {},
   "outputs": [],
   "source": [
    "radio2 = radiobttn[1]"
   ]
  },
  {
   "cell_type": "code",
   "execution_count": 55,
   "id": "adff588c-52c7-4166-b55d-e30134df1d66",
   "metadata": {},
   "outputs": [
    {
     "data": {
      "text/plain": [
       "'Public Show'"
      ]
     },
     "execution_count": 55,
     "metadata": {},
     "output_type": "execute_result"
    }
   ],
   "source": [
    "radio2.text"
   ]
  },
  {
   "cell_type": "code",
   "execution_count": 56,
   "id": "acb9a0af-88d2-4249-a015-e0417b33dcaf",
   "metadata": {},
   "outputs": [],
   "source": [
    "radio2.click()"
   ]
  },
  {
   "cell_type": "code",
   "execution_count": 57,
   "id": "4036b296-0f4c-44a8-b318-a21d2410ff12",
   "metadata": {},
   "outputs": [
    {
     "data": {
      "text/plain": [
       "False"
      ]
     },
     "execution_count": 57,
     "metadata": {},
     "output_type": "execute_result"
    }
   ],
   "source": [
    "radio1.is_selected()"
   ]
  },
  {
   "cell_type": "code",
   "execution_count": 58,
   "id": "c989446e-a13c-421a-afea-e7a04122a256",
   "metadata": {},
   "outputs": [],
   "source": [
    "driver.quit()"
   ]
  },
  {
   "cell_type": "code",
   "execution_count": null,
   "id": "8a384a11-a478-4e09-b8d0-c5de34faaf71",
   "metadata": {},
   "outputs": [],
   "source": []
  }
 ],
 "metadata": {
  "kernelspec": {
   "display_name": "Python 3 (ipykernel)",
   "language": "python",
   "name": "python3"
  },
  "language_info": {
   "codemirror_mode": {
    "name": "ipython",
    "version": 3
   },
   "file_extension": ".py",
   "mimetype": "text/x-python",
   "name": "python",
   "nbconvert_exporter": "python",
   "pygments_lexer": "ipython3",
   "version": "3.13.3"
  }
 },
 "nbformat": 4,
 "nbformat_minor": 5
}
