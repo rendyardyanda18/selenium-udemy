{
 "cells": [
  {
   "cell_type": "markdown",
   "id": "a8b9ba85-3280-46ed-b784-e46f897fa19b",
   "metadata": {},
   "source": [
    "Start service"
   ]
  },
  {
   "cell_type": "code",
   "execution_count": 2,
   "id": "91b7a0c7-8b33-4902-98fa-9c4176e435a6",
   "metadata": {},
   "outputs": [
    {
     "name": "stdout",
     "output_type": "stream",
     "text": [
      "Succesfully import Selenium!\n"
     ]
    }
   ],
   "source": [
    "from selenium import webdriver\n",
    "from selenium.webdriver.chrome.service import Service\n",
    "from selenium.webdriver.common.by import By\n",
    "print('Succesfully import Selenium!')"
   ]
  },
  {
   "cell_type": "code",
   "execution_count": 3,
   "id": "a759a4f6-50d8-4f1e-919a-2d98b90631c5",
   "metadata": {},
   "outputs": [],
   "source": [
    "from settings import CHROMEDRIVER_PATH, WIKIPEDIA_URL"
   ]
  },
  {
   "cell_type": "code",
   "execution_count": 4,
   "id": "aba78b8f-feda-4ca3-bc99-fc4f268d4507",
   "metadata": {},
   "outputs": [],
   "source": [
    "service = Service(exectable_path=CHROMEDRIVER_PATH)"
   ]
  },
  {
   "cell_type": "markdown",
   "id": "92fed596-559f-4d0a-a02b-203d4565ecbd",
   "metadata": {},
   "source": [
    "start driver and get url"
   ]
  },
  {
   "cell_type": "code",
   "execution_count": 7,
   "id": "268064ad-7472-47ee-b55d-f0ec0bbecbbe",
   "metadata": {},
   "outputs": [],
   "source": [
    "driver = webdriver.Chrome(service=service)\n",
    "driver.get(WIKIPEDIA_URL)"
   ]
  },
  {
   "cell_type": "markdown",
   "id": "098ac3f5-9955-43fe-8678-b8188099308e",
   "metadata": {},
   "source": [
    "specify the css locator"
   ]
  },
  {
   "cell_type": "code",
   "execution_count": 9,
   "id": "86f1380f-acf8-4990-b9f1-014394d78b8a",
   "metadata": {},
   "outputs": [],
   "source": [
    "TFA_CSS_LOCATOR = 'div#mp-tfa'\n",
    "ITN_CSS_LOCATOR = 'div#mp-itn'\n",
    "DYK_CSS_LOCATOR = 'div#mp-dyk'\n",
    "OTD_CSS_LOCATOR = 'div#mp-otd'\n",
    "\n",
    "locator_list = [TFA_CSS_LOCATOR, ITN_CSS_LOCATOR, DYK_CSS_LOCATOR, OTD_CSS_LOCATOR]"
   ]
  },
  {
   "cell_type": "code",
   "execution_count": 10,
   "id": "4cfb8384-62c1-4715-abf0-d59c3146ee2f",
   "metadata": {},
   "outputs": [],
   "source": [
    "link_dictionary={}"
   ]
  },
  {
   "cell_type": "code",
   "execution_count": 14,
   "id": "bfffdab0-961b-4015-a801-0394ada63fc0",
   "metadata": {},
   "outputs": [],
   "source": [
    "for locator in locator_list:\n",
    "    div_element = driver.find_element(By.CSS_SELECTOR, locator)\n",
    "    info_list = []\n",
    "    for link in div_element.find_elements(By.TAG_NAME, 'a'):\n",
    "\n",
    "        info_dict = {\n",
    "            'title': link.get_attribute('title'),\n",
    "            'text': link.text,\n",
    "            'href' : link.get_attribute('href')   \n",
    "        }\n",
    "        info_list.append(info_dict)\n",
    "\n",
    "    link_dictionary[locator] = info_list"
   ]
  },
  {
   "cell_type": "code",
   "execution_count": 16,
   "id": "e451d5c5-992f-4d75-b459-a7cd7632885d",
   "metadata": {},
   "outputs": [
    {
     "data": {
      "text/plain": [
       "[{'title': 'Hualca Hualca',\n",
       "  'text': '',\n",
       "  'href': 'https://en.wikipedia.org/wiki/File:Hualca_Hualca.JPG'},\n",
       " {'title': 'Hualca Hualca',\n",
       "  'text': 'Hualca Hualca',\n",
       "  'href': 'https://en.wikipedia.org/wiki/Hualca_Hualca'},\n",
       " {'title': 'Volcano',\n",
       "  'text': 'extinct volcano',\n",
       "  'href': 'https://en.wikipedia.org/wiki/Volcano#Extinct'},\n",
       " {'title': 'Andes',\n",
       "  'text': 'Andes',\n",
       "  'href': 'https://en.wikipedia.org/wiki/Andes'},\n",
       " {'title': 'Andean Volcanic Belt',\n",
       "  'text': 'Central Volcanic Zone',\n",
       "  'href': 'https://en.wikipedia.org/wiki/Andean_Volcanic_Belt#Central_Volcanic_Zone'},\n",
       " {'title': 'Volcanic belt',\n",
       "  'text': 'volcanic belts',\n",
       "  'href': 'https://en.wikipedia.org/wiki/Volcanic_belt'},\n",
       " {'title': 'Arequipa',\n",
       "  'text': 'Arequipa',\n",
       "  'href': 'https://en.wikipedia.org/wiki/Arequipa'},\n",
       " {'title': 'Ampato',\n",
       "  'text': 'Ampato',\n",
       "  'href': 'https://en.wikipedia.org/wiki/Ampato'},\n",
       " {'title': 'Sabancaya',\n",
       "  'text': 'Sabancaya',\n",
       "  'href': 'https://en.wikipedia.org/wiki/Sabancaya'},\n",
       " {'title': 'Amphitheatre',\n",
       "  'text': 'amphitheatre',\n",
       "  'href': 'https://en.wikipedia.org/wiki/Amphitheatre'},\n",
       " {'title': 'Pleistocene',\n",
       "  'text': 'Pleistocene',\n",
       "  'href': 'https://en.wikipedia.org/wiki/Pleistocene'},\n",
       " {'title': 'Lava dome',\n",
       "  'text': 'lava dome',\n",
       "  'href': 'https://en.wikipedia.org/wiki/Lava_dome'},\n",
       " {'title': 'Glacier',\n",
       "  'text': 'glaciers',\n",
       "  'href': 'https://en.wikipedia.org/wiki/Glacier'},\n",
       " {'title': 'Moraine',\n",
       "  'text': 'moraines',\n",
       "  'href': 'https://en.wikipedia.org/wiki/Moraine'},\n",
       " {'title': 'Glacier',\n",
       "  'text': 'glaciers',\n",
       "  'href': 'https://en.wikipedia.org/wiki/Glacier'},\n",
       " {'title': 'Last Glacial Maximum',\n",
       "  'text': 'Last Glacial Maximum',\n",
       "  'href': 'https://en.wikipedia.org/wiki/Last_Glacial_Maximum'},\n",
       " {'title': 'Hot spring',\n",
       "  'text': 'hot springs',\n",
       "  'href': 'https://en.wikipedia.org/wiki/Hot_spring'},\n",
       " {'title': 'Geyser',\n",
       "  'text': 'geysers',\n",
       "  'href': 'https://en.wikipedia.org/wiki/Geyser'},\n",
       " {'title': 'Magma chamber',\n",
       "  'text': 'magma chambers',\n",
       "  'href': 'https://en.wikipedia.org/wiki/Magma_chamber'},\n",
       " {'title': 'Hualca Hualca',\n",
       "  'text': 'Full article...',\n",
       "  'href': 'https://en.wikipedia.org/wiki/Hualca_Hualca'},\n",
       " {'title': '2015 KNVB Cup final',\n",
       "  'text': '2015 KNVB Cup final',\n",
       "  'href': 'https://en.wikipedia.org/wiki/2015_KNVB_Cup_final'},\n",
       " {'title': 'Margaret Sibella Brown',\n",
       "  'text': 'Margaret Sibella Brown',\n",
       "  'href': 'https://en.wikipedia.org/wiki/Margaret_Sibella_Brown'},\n",
       " {'title': 'Epistemology',\n",
       "  'text': 'Epistemology',\n",
       "  'href': 'https://en.wikipedia.org/wiki/Epistemology'},\n",
       " {'title': \"Wikipedia:Today's featured article/May 2025\",\n",
       "  'text': 'Archive',\n",
       "  'href': 'https://en.wikipedia.org/wiki/Wikipedia:Today%27s_featured_article/May_2025'},\n",
       " {'title': 'mail:daily-article-l',\n",
       "  'text': 'By email',\n",
       "  'href': 'https://lists.wikimedia.org/postorius/lists/daily-article-l.lists.wikimedia.org/'},\n",
       " {'title': 'Wikipedia:Featured articles',\n",
       "  'text': 'More featured articles',\n",
       "  'href': 'https://en.wikipedia.org/wiki/Wikipedia:Featured_articles'},\n",
       " {'title': \"Wikipedia:About Today's featured article\",\n",
       "  'text': 'About',\n",
       "  'href': 'https://en.wikipedia.org/wiki/Wikipedia:About_Today%27s_featured_article'}]"
      ]
     },
     "execution_count": 16,
     "metadata": {},
     "output_type": "execute_result"
    }
   ],
   "source": [
    "link_dictionary[TFA_CSS_LOCATOR]"
   ]
  },
  {
   "cell_type": "code",
   "execution_count": 19,
   "id": "a625b98d-ed96-4eba-ad34-95daa62427b3",
   "metadata": {},
   "outputs": [
    {
     "name": "stdout",
     "output_type": "stream",
     "text": [
      "(div#mp-tfa) - 27 links\n",
      "(div#mp-itn) - 27 links\n",
      "(div#mp-dyk) - 25 links\n",
      "(div#mp-otd) - 35 links\n"
     ]
    }
   ],
   "source": [
    "for key, value in link_dictionary.items():\n",
    "    print(f'({key}) - {len(value)} links')"
   ]
  },
  {
   "cell_type": "code",
   "execution_count": 20,
   "id": "b2f9af87-073c-4099-8bde-35f8214c499d",
   "metadata": {},
   "outputs": [],
   "source": [
    "driver.quit()"
   ]
  },
  {
   "cell_type": "code",
   "execution_count": null,
   "id": "1ae78e09-06fc-4556-8bdb-a1f1169a8848",
   "metadata": {},
   "outputs": [],
   "source": []
  }
 ],
 "metadata": {
  "kernelspec": {
   "display_name": "Python 3 (ipykernel)",
   "language": "python",
   "name": "python3"
  },
  "language_info": {
   "codemirror_mode": {
    "name": "ipython",
    "version": 3
   },
   "file_extension": ".py",
   "mimetype": "text/x-python",
   "name": "python",
   "nbconvert_exporter": "python",
   "pygments_lexer": "ipython3",
   "version": "3.13.3"
  }
 },
 "nbformat": 4,
 "nbformat_minor": 5
}
