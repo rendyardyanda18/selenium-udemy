{
 "cells": [
  {
   "cell_type": "code",
   "execution_count": 1,
   "id": "ab623588-e916-4082-9cd4-fa5c5bcc4674",
   "metadata": {},
   "outputs": [],
   "source": [
    "from selenium import webdriver\n",
    "from selenium.webdriver.chrome.service import Service\n",
    "from selenium.webdriver.common.by import By\n",
    "\n",
    "from settings import CHROMEDRIVER_PATH, WIKIPEDIA_URL, WIKIPEDIA_SEARCH_URL"
   ]
  },
  {
   "cell_type": "code",
   "execution_count": 2,
   "id": "f0a5696a-1a0e-4662-a110-cae9a275a02f",
   "metadata": {},
   "outputs": [],
   "source": [
    "service = Service(executable_path=CHROMEDRIVER_PATH)"
   ]
  },
  {
   "cell_type": "code",
   "execution_count": 3,
   "id": "f5b7de5e-9c61-4814-9c32-eeb13580b6af",
   "metadata": {},
   "outputs": [],
   "source": [
    "driver = webdriver.Chrome(service=service)"
   ]
  },
  {
   "cell_type": "code",
   "execution_count": 4,
   "id": "ae5ff7ea-ede3-48a7-8891-cf56f630574d",
   "metadata": {},
   "outputs": [],
   "source": [
    "driver.get(WIKIPEDIA_URL)"
   ]
  },
  {
   "cell_type": "raw",
   "id": "a5c7b4a4-e20f-4b17-9f37-a9cbb7fd35c1",
   "metadata": {},
   "source": [
    "# ini ubahan sesuai saat ini\n",
    "search_box = WebDriverWait(driver, 10).until(\n",
    "    EC.visibility_of_element_located((By.ID, \"searchInput\"))\n",
    ")"
   ]
  },
  {
   "cell_type": "code",
   "execution_count": 5,
   "id": "9dbf53b2-89cf-46a6-a823-bc9aa3519dc0",
   "metadata": {},
   "outputs": [],
   "source": [
    "# klik dulu tombol search toggle biar input aktif\n",
    "driver.find_element(By.CSS_SELECTOR, \"a.search-toggle\").click()"
   ]
  },
  {
   "cell_type": "code",
   "execution_count": 6,
   "id": "3d29ff59-aa50-4e1e-a3a1-315527d2bf40",
   "metadata": {},
   "outputs": [],
   "source": [
    "# search_element = driver.find_element(By.ID, 'searchInput')\n",
    "\n",
    "search_element = driver.find_element(By.CSS_SELECTOR, \"input.cdx-text-input__input\")"
   ]
  },
  {
   "cell_type": "code",
   "execution_count": 7,
   "id": "a8d2253b-944f-4d8b-8dce-a00ee3985cd8",
   "metadata": {},
   "outputs": [],
   "source": [
    "search_element.send_keys('Python')"
   ]
  },
  {
   "cell_type": "code",
   "execution_count": 8,
   "id": "ba30c2be-406c-4163-91db-dcbccc5e0371",
   "metadata": {},
   "outputs": [],
   "source": [
    "search_element.submit()"
   ]
  },
  {
   "cell_type": "code",
   "execution_count": 12,
   "id": "6b839d37-ac1d-4635-8e89-4b23a9478fe7",
   "metadata": {},
   "outputs": [],
   "source": [
    "# python_link_element = driver.find_element(\n",
    "#     By.XPATH, '//a[@title=\"Python (programming language)\"]'\n",
    "# )\n",
    "\n",
    "python_link_element = driver.find_element(By.XPATH, '//a[@title=\"Python (programming language)\"]')"
   ]
  },
  {
   "cell_type": "raw",
   "id": "1df8deb6-dc9b-45ab-be7d-cc9122161064",
   "metadata": {},
   "source": [
    "assert python_link_element, \"Link for Python not found!\""
   ]
  },
  {
   "cell_type": "code",
   "execution_count": 18,
   "id": "c7af5325-b904-462b-9dbf-d997e8cc3adc",
   "metadata": {},
   "outputs": [],
   "source": [
    "python_link_element = None"
   ]
  },
  {
   "cell_type": "code",
   "execution_count": 48,
   "id": "0a4c4790-6e15-4d35-b4d4-5423fa48e845",
   "metadata": {},
   "outputs": [
    {
     "ename": "AssertionError",
     "evalue": "Link for Python not found!",
     "output_type": "error",
     "traceback": [
      "\u001b[31m---------------------------------------------------------------------------\u001b[39m",
      "\u001b[31mAssertionError\u001b[39m                            Traceback (most recent call last)",
      "\u001b[36mCell\u001b[39m\u001b[36m \u001b[39m\u001b[32mIn[48]\u001b[39m\u001b[32m, line 1\u001b[39m\n\u001b[32m----> \u001b[39m\u001b[32m1\u001b[39m \u001b[38;5;28;01massert\u001b[39;00m python_link_element, \u001b[33m\"\u001b[39m\u001b[33mLink for Python not found!\u001b[39m\u001b[33m\"\u001b[39m\n",
      "\u001b[31mAssertionError\u001b[39m: Link for Python not found!"
     ]
    }
   ],
   "source": [
    "assert python_link_element, \"Link for Python not found!\""
   ]
  },
  {
   "cell_type": "code",
   "execution_count": 49,
   "id": "c3d8868e-7c06-493a-9cc2-0e4a430b7a7f",
   "metadata": {},
   "outputs": [],
   "source": [
    "driver.get(WIKIPEDIA_SEARCH_URL)"
   ]
  },
  {
   "cell_type": "code",
   "execution_count": 51,
   "id": "679450ac-331b-45e1-bfa7-3c58785332eb",
   "metadata": {},
   "outputs": [],
   "source": [
    "CLICK_XPATH = '//*[@id=\"ooui-1\"]'"
   ]
  },
  {
   "cell_type": "code",
   "execution_count": 53,
   "id": "ec251bce-63e7-4fb5-8faf-c934c4595e6d",
   "metadata": {},
   "outputs": [],
   "source": [
    "test_elenent = driver.find_element(By.XPATH, CLICK_XPATH)"
   ]
  },
  {
   "cell_type": "code",
   "execution_count": 68,
   "id": "a7ab1bd7-5583-4ae5-b001-52a1f1464263",
   "metadata": {},
   "outputs": [],
   "source": [
    "test_elenent.click()"
   ]
  },
  {
   "cell_type": "code",
   "execution_count": 71,
   "id": "72ad9668-8832-4cf3-8f85-1ff16a1916e8",
   "metadata": {},
   "outputs": [],
   "source": [
    "these_words_element = driver.find_element(By.ID, 'ooui-35')"
   ]
  },
  {
   "cell_type": "code",
   "execution_count": 72,
   "id": "984a2459-e677-46dc-8738-39ba842abc99",
   "metadata": {},
   "outputs": [],
   "source": [
    "these_words_element.send_keys('Python')"
   ]
  },
  {
   "cell_type": "code",
   "execution_count": 73,
   "id": "d9226097-bf8c-4a8c-9f9a-6c8406073d36",
   "metadata": {},
   "outputs": [],
   "source": [
    "these_words_element.send_keys(',')"
   ]
  },
  {
   "cell_type": "code",
   "execution_count": 74,
   "id": "1e125e90-3074-46dc-a2da-71159acec2af",
   "metadata": {},
   "outputs": [],
   "source": [
    "these_words_element.submit()"
   ]
  },
  {
   "cell_type": "code",
   "execution_count": 77,
   "id": "7fc677b1-dfe2-453c-bd73-33ce452dc01d",
   "metadata": {},
   "outputs": [],
   "source": [
    "python_link_element = driver.find_element(By.XPATH, '//a[@title=\"Python (programming language)\"]')"
   ]
  },
  {
   "cell_type": "code",
   "execution_count": 79,
   "id": "d929cfd9-50da-4983-8e1d-3de812c120d8",
   "metadata": {},
   "outputs": [],
   "source": [
    "assert python_link_element, \"Link doesn't exist!\""
   ]
  },
  {
   "cell_type": "code",
   "execution_count": 80,
   "id": "259ff4dc-9222-46dc-99ad-927a2e948d5b",
   "metadata": {},
   "outputs": [],
   "source": [
    "driver.quit()"
   ]
  },
  {
   "cell_type": "code",
   "execution_count": null,
   "id": "aae2eddd-5452-47d0-b568-219d0e3a6c38",
   "metadata": {},
   "outputs": [],
   "source": []
  }
 ],
 "metadata": {
  "kernelspec": {
   "display_name": "Python 3 (ipykernel)",
   "language": "python",
   "name": "python3"
  },
  "language_info": {
   "codemirror_mode": {
    "name": "ipython",
    "version": 3
   },
   "file_extension": ".py",
   "mimetype": "text/x-python",
   "name": "python",
   "nbconvert_exporter": "python",
   "pygments_lexer": "ipython3",
   "version": "3.13.7"
  }
 },
 "nbformat": 4,
 "nbformat_minor": 5
}
