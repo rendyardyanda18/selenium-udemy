{
 "cells": [
  {
   "cell_type": "markdown",
   "id": "2e10c21e-f731-4d55-b4f0-fac0b666cb70",
   "metadata": {},
   "source": [
    "Import and setup"
   ]
  },
  {
   "cell_type": "code",
   "execution_count": 10,
   "id": "6b76063b-6207-4cf1-aaba-7f06d868e165",
   "metadata": {},
   "outputs": [],
   "source": [
    "from selenium import webdriver\n",
    "from selenium.webdriver.chrome.service import Service\n",
    "from selenium.webdriver.common.by import By"
   ]
  },
  {
   "cell_type": "code",
   "execution_count": 11,
   "id": "7903dbc0-4896-4dc2-aa85-33259d2d48af",
   "metadata": {},
   "outputs": [],
   "source": [
    "from settings import CHROMEDRIVER_PATH, BOOKSTOSCRAPE_URL"
   ]
  },
  {
   "cell_type": "code",
   "execution_count": 12,
   "id": "ba37ed1e-d840-4317-a9d5-702379c61efb",
   "metadata": {},
   "outputs": [],
   "source": [
    "service = Service(executable_path=CHROMEDRIVER_PATH)"
   ]
  },
  {
   "cell_type": "code",
   "execution_count": 13,
   "id": "75ac8bbc-7630-4e97-aab6-9eae81955533",
   "metadata": {},
   "outputs": [],
   "source": [
    "driver = webdriver.Chrome(service=service)"
   ]
  },
  {
   "cell_type": "code",
   "execution_count": 14,
   "id": "51238618-04d7-441c-b94c-92c6922ea0a0",
   "metadata": {},
   "outputs": [],
   "source": [
    "driver.get(BOOKSTOSCRAPE_URL)"
   ]
  },
  {
   "cell_type": "markdown",
   "id": "1c7cfabe-4162-4de3-b53d-9d1a54d34b60",
   "metadata": {},
   "source": [
    "Find Elements"
   ]
  },
  {
   "cell_type": "code",
   "execution_count": 15,
   "id": "50119626-054d-4da1-bb44-04cce66d8f3b",
   "metadata": {},
   "outputs": [],
   "source": [
    "link_element = driver.find_element(By.LINK_TEXT, 'Tipping the Velvet')"
   ]
  },
  {
   "cell_type": "code",
   "execution_count": 16,
   "id": "daf46739-a5db-467a-8727-05f3e63930cb",
   "metadata": {},
   "outputs": [
    {
     "data": {
      "text/plain": [
       "'Tipping the Velvet'"
      ]
     },
     "execution_count": 16,
     "metadata": {},
     "output_type": "execute_result"
    }
   ],
   "source": [
    "link_element.text"
   ]
  },
  {
   "cell_type": "code",
   "execution_count": 17,
   "id": "f4ec67c2-370c-4cfa-b957-d6cf7528f2f6",
   "metadata": {},
   "outputs": [
    {
     "data": {
      "text/plain": [
       "'a'"
      ]
     },
     "execution_count": 17,
     "metadata": {},
     "output_type": "execute_result"
    }
   ],
   "source": [
    "link_element.tag_name"
   ]
  },
  {
   "cell_type": "code",
   "execution_count": 18,
   "id": "042be9a4-1137-45ad-8224-ee20d504316b",
   "metadata": {},
   "outputs": [],
   "source": [
    "add_elements = driver.find_elements(By.PARTIAL_LINK_TEXT, 'Sh')"
   ]
  },
  {
   "cell_type": "code",
   "execution_count": 19,
   "id": "375c847a-4f95-4ca2-a2c4-088ca4f26811",
   "metadata": {},
   "outputs": [
    {
     "data": {
      "text/plain": [
       "['Short Stories', 'Sharp Objects', \"Shakespeare's Sonnets\"]"
      ]
     },
     "execution_count": 19,
     "metadata": {},
     "output_type": "execute_result"
    }
   ],
   "source": [
    "[elem.text for elem in add_elements]"
   ]
  },
  {
   "cell_type": "code",
   "execution_count": 20,
   "id": "466f2a87-89fc-44ab-9351-c1b401bc6ff9",
   "metadata": {},
   "outputs": [
    {
     "name": "stdout",
     "output_type": "stream",
     "text": [
      "['__abstractmethods__', '__class__', '__delattr__', '__dict__', '__dir__', '__doc__', '__enter__', '__eq__', '__exit__', '__firstlineno__', '__format__', '__ge__', '__getattribute__', '__getstate__', '__gt__', '__hash__', '__init__', '__init_subclass__', '__le__', '__lt__', '__module__', '__ne__', '__new__', '__reduce__', '__reduce_ex__', '__repr__', '__setattr__', '__sizeof__', '__static_attributes__', '__str__', '__subclasshook__', '__weakref__', '_abc_impl', '_authenticator_id', '_bidi_session', '_browser', '_browsing_context', '_check_if_window_handle_is_current', '_fedcm', '_file_detector', '_get_cdp_details', '_is_remote', '_mobile', '_network', '_require_fedcm_support', '_script', '_session', '_shadowroot_cls', '_start_bidi', '_switch_to', '_unwrap_value', '_web_element_cls', '_websocket_connection', '_wrap_value', 'add_cookie', 'add_credential', 'add_virtual_authenticator', 'back', 'bidi_connection', 'browser', 'browsing_context', 'capabilities', 'caps', 'close', 'command_executor', 'create_web_element', 'current_url', 'current_window_handle', 'delete_all_cookies', 'delete_cookie', 'delete_downloadable_files', 'delete_network_conditions', 'dialog', 'download_file', 'error_handler', 'execute', 'execute_async_script', 'execute_cdp_cmd', 'execute_script', 'fedcm', 'fedcm_dialog', 'file_detector', 'file_detector_context', 'find_element', 'find_elements', 'forward', 'fullscreen_window', 'get', 'get_cookie', 'get_cookies', 'get_credentials', 'get_downloadable_files', 'get_issue_message', 'get_log', 'get_network_conditions', 'get_pinned_scripts', 'get_screenshot_as_base64', 'get_screenshot_as_file', 'get_screenshot_as_png', 'get_sinks', 'get_window_position', 'get_window_rect', 'get_window_size', 'implicitly_wait', 'launch_app', 'locator_converter', 'log_types', 'maximize_window', 'minimize_window', 'mobile', 'name', 'network', 'orientation', 'page_source', 'pin_script', 'pinned_scripts', 'print_page', 'quit', 'refresh', 'remove_all_credentials', 'remove_credential', 'remove_virtual_authenticator', 'save_screenshot', 'script', 'service', 'session_id', 'set_network_conditions', 'set_page_load_timeout', 'set_permissions', 'set_script_timeout', 'set_sink_to_use', 'set_user_verified', 'set_window_position', 'set_window_rect', 'set_window_size', 'start_client', 'start_desktop_mirroring', 'start_devtools', 'start_session', 'start_tab_mirroring', 'stop_casting', 'stop_client', 'supports_fedcm', 'switch_to', 'timeouts', 'title', 'unpin', 'virtual_authenticator_id', 'window_handles']\n"
     ]
    }
   ],
   "source": [
    "print(dir(driver))"
   ]
  },
  {
   "cell_type": "code",
   "execution_count": 21,
   "id": "1415cdbc-f8e1-48ca-b0e5-1b8635ec7ac9",
   "metadata": {},
   "outputs": [],
   "source": [
    "driver.quit()"
   ]
  },
  {
   "cell_type": "code",
   "execution_count": null,
   "id": "72cd115d-929f-44b9-bb89-7e1327d12653",
   "metadata": {},
   "outputs": [],
   "source": []
  }
 ],
 "metadata": {
  "kernelspec": {
   "display_name": "Python 3 (ipykernel)",
   "language": "python",
   "name": "python3"
  },
  "language_info": {
   "codemirror_mode": {
    "name": "ipython",
    "version": 3
   },
   "file_extension": ".py",
   "mimetype": "text/x-python",
   "name": "python",
   "nbconvert_exporter": "python",
   "pygments_lexer": "ipython3",
   "version": "3.13.3"
  }
 },
 "nbformat": 4,
 "nbformat_minor": 5
}
