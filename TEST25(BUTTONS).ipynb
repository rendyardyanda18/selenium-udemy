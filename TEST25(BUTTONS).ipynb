{
 "cells": [
  {
   "cell_type": "code",
   "execution_count": 2,
   "id": "9224dd6a-b58a-4e50-93f8-95709afe926e",
   "metadata": {},
   "outputs": [],
   "source": [
    "from selenium import webdriver\n",
    "from selenium.webdriver.chrome.service import Service\n",
    "from selenium.webdriver.common.by import By\n",
    "from selenium.webdriver.common.action_chains import ActionChains"
   ]
  },
  {
   "cell_type": "code",
   "execution_count": 3,
   "id": "f1b307c2-e148-4e8c-8f46-672125251e03",
   "metadata": {},
   "outputs": [],
   "source": [
    "from settings import CHROMEDRIVER_PATH, BOOKSTOSCRAPE_URL"
   ]
  },
  {
   "cell_type": "code",
   "execution_count": 4,
   "id": "24875342-b2d2-4c14-8e3c-397e6121a8d5",
   "metadata": {},
   "outputs": [],
   "source": [
    "service = Service(executable_path=CHROMEDRIVER_PATH)"
   ]
  },
  {
   "cell_type": "code",
   "execution_count": 5,
   "id": "9c22c0f2-a380-457b-b7b9-5636440a92fc",
   "metadata": {},
   "outputs": [],
   "source": [
    "driver = webdriver.Chrome(service=service)"
   ]
  },
  {
   "cell_type": "code",
   "execution_count": 6,
   "id": "816488e2-f2f0-4785-88a8-26737d28ad79",
   "metadata": {},
   "outputs": [],
   "source": [
    "driver.get(BOOKSTOSCRAPE_URL)"
   ]
  },
  {
   "cell_type": "code",
   "execution_count": 7,
   "id": "2ca5990c-9f31-4e3b-8d6c-c4df892bc388",
   "metadata": {},
   "outputs": [],
   "source": [
    "button1 = driver.find_element(By.CSS_SELECTOR, 'button') "
   ]
  },
  {
   "cell_type": "code",
   "execution_count": 8,
   "id": "12794fe8-7abe-4c54-a2ec-432f15e10e2c",
   "metadata": {},
   "outputs": [
    {
     "data": {
      "text/plain": [
       "'Add to basket'"
      ]
     },
     "execution_count": 8,
     "metadata": {},
     "output_type": "execute_result"
    }
   ],
   "source": [
    "button1.text"
   ]
  },
  {
   "cell_type": "code",
   "execution_count": 24,
   "id": "658e5d1e-d56a-4087-818f-1840eedc0490",
   "metadata": {},
   "outputs": [],
   "source": [
    "buttons = driver.find_elements(By.TAG_NAME, 'button')"
   ]
  },
  {
   "cell_type": "code",
   "execution_count": 25,
   "id": "45987bd8-6368-427d-9fe1-12a8f40831df",
   "metadata": {},
   "outputs": [
    {
     "data": {
      "text/plain": [
       "20"
      ]
     },
     "execution_count": 25,
     "metadata": {},
     "output_type": "execute_result"
    }
   ],
   "source": [
    "len(buttons)"
   ]
  },
  {
   "cell_type": "code",
   "execution_count": 26,
   "id": "022ccd65-c04a-4a79-9dc2-d0d44d6dca4c",
   "metadata": {},
   "outputs": [],
   "source": [
    "button2 = buttons[15]"
   ]
  },
  {
   "cell_type": "code",
   "execution_count": 27,
   "id": "f269c80e-debb-4376-a0e3-2ed4c5a786aa",
   "metadata": {},
   "outputs": [
    {
     "data": {
      "text/plain": [
       "'Add to basket'"
      ]
     },
     "execution_count": 27,
     "metadata": {},
     "output_type": "execute_result"
    }
   ],
   "source": [
    "button2.text"
   ]
  },
  {
   "cell_type": "code",
   "execution_count": 23,
   "id": "3cefd4b6-4a94-4595-8318-18ddd1e9a631",
   "metadata": {},
   "outputs": [],
   "source": [
    "button2.click()"
   ]
  },
  {
   "cell_type": "code",
   "execution_count": 28,
   "id": "2dda9847-0e93-4808-8ce2-293fd2c3ed55",
   "metadata": {},
   "outputs": [],
   "source": [
    "actions1 = ActionChains(driver)"
   ]
  },
  {
   "cell_type": "code",
   "execution_count": 31,
   "id": "51a884f5-7f44-4ea0-bf43-47a957142147",
   "metadata": {},
   "outputs": [],
   "source": [
    "actions1.context_click(on_element=button2).perform()"
   ]
  },
  {
   "cell_type": "code",
   "execution_count": 32,
   "id": "7dc88944-c3a0-412c-9d97-3ee1e49f65b7",
   "metadata": {},
   "outputs": [],
   "source": [
    "actions1.click_and_hold(on_element=button2).perform()"
   ]
  },
  {
   "cell_type": "code",
   "execution_count": 33,
   "id": "dc41e61a-93d8-4748-bf7e-b1e0144bbcbc",
   "metadata": {},
   "outputs": [],
   "source": [
    "actions1.release(on_element=button2).perform()"
   ]
  },
  {
   "cell_type": "code",
   "execution_count": 34,
   "id": "febdb8f1-10f2-4a34-a42a-c438d87facb6",
   "metadata": {},
   "outputs": [],
   "source": [
    "buttonareff = driver.find_elements(By.TAG_NAME,'a')"
   ]
  },
  {
   "cell_type": "code",
   "execution_count": 35,
   "id": "8d1b6194-1930-4caf-9f3d-1efa85a1172c",
   "metadata": {},
   "outputs": [
    {
     "data": {
      "text/plain": [
       "94"
      ]
     },
     "execution_count": 35,
     "metadata": {},
     "output_type": "execute_result"
    }
   ],
   "source": [
    "len(buttonareff)"
   ]
  },
  {
   "cell_type": "code",
   "execution_count": 36,
   "id": "67be37b0-2a65-406a-9294-09682b6fdc3e",
   "metadata": {},
   "outputs": [],
   "source": [
    "button_home = buttonareff[1]"
   ]
  },
  {
   "cell_type": "code",
   "execution_count": 37,
   "id": "5290a521-9a80-49af-8c3e-723691139c5f",
   "metadata": {},
   "outputs": [
    {
     "data": {
      "text/plain": [
       "'Home'"
      ]
     },
     "execution_count": 37,
     "metadata": {},
     "output_type": "execute_result"
    }
   ],
   "source": [
    "button_home.text"
   ]
  },
  {
   "cell_type": "code",
   "execution_count": 39,
   "id": "eedf04f5-30f1-44cd-ad02-8e1f9b724231",
   "metadata": {},
   "outputs": [],
   "source": [
    "button_home.click()"
   ]
  },
  {
   "cell_type": "code",
   "execution_count": 40,
   "id": "1ebd8fd0-874f-4b86-bad5-8b2c3b57e564",
   "metadata": {},
   "outputs": [],
   "source": [
    "driver.quit()"
   ]
  },
  {
   "cell_type": "code",
   "execution_count": null,
   "id": "7d263782-e51a-4555-a9b1-01e79f61437c",
   "metadata": {},
   "outputs": [],
   "source": []
  }
 ],
 "metadata": {
  "kernelspec": {
   "display_name": "Python 3 (ipykernel)",
   "language": "python",
   "name": "python3"
  },
  "language_info": {
   "codemirror_mode": {
    "name": "ipython",
    "version": 3
   },
   "file_extension": ".py",
   "mimetype": "text/x-python",
   "name": "python",
   "nbconvert_exporter": "python",
   "pygments_lexer": "ipython3",
   "version": "3.13.3"
  }
 },
 "nbformat": 4,
 "nbformat_minor": 5
}
