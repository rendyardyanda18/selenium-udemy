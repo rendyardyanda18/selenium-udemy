{
 "cells": [
  {
   "cell_type": "code",
   "execution_count": 1,
   "id": "ec585a12-8a78-4a46-9092-a0175af83bfb",
   "metadata": {},
   "outputs": [],
   "source": [
    "from selenium import webdriver\n",
    "from selenium.webdriver.chrome.service import Service\n",
    "from selenium.webdriver.common.by import By"
   ]
  },
  {
   "cell_type": "code",
   "execution_count": 5,
   "id": "cbdcfea8-ba5a-4d55-8274-d68a26a6dcdc",
   "metadata": {},
   "outputs": [],
   "source": [
    "from settings import CHROMEDRIVER_PATH, BOOKSTOSCRAPE_URL"
   ]
  },
  {
   "cell_type": "code",
   "execution_count": 7,
   "id": "f678201b-6637-49b0-a285-eb62ba0fc173",
   "metadata": {},
   "outputs": [],
   "source": [
    "service = Service(executable_path=CHROMEDRIVER_PATH)"
   ]
  },
  {
   "cell_type": "code",
   "execution_count": 8,
   "id": "565f7699-d0c0-49a5-a871-4a0e3897030c",
   "metadata": {},
   "outputs": [],
   "source": [
    "driver = webdriver.Chrome(service=service)"
   ]
  },
  {
   "cell_type": "code",
   "execution_count": 9,
   "id": "ff96b1d8-6d8d-4b1b-8a2d-87c475e9ef2c",
   "metadata": {},
   "outputs": [],
   "source": [
    "driver.get(BOOKSTOSCRAPE_URL)"
   ]
  },
  {
   "cell_type": "code",
   "execution_count": 11,
   "id": "40cb8593-c3a2-43e3-be81-eedfe743f602",
   "metadata": {},
   "outputs": [],
   "source": [
    "img_elements = driver.find_elements(By.TAG_NAME, 'img')"
   ]
  },
  {
   "cell_type": "code",
   "execution_count": 16,
   "id": "438eb333-7e58-4984-babf-e54120d30d0a",
   "metadata": {},
   "outputs": [
    {
     "name": "stdout",
     "output_type": "stream",
     "text": [
      "A Light in the Attic\n",
      "Tipping the Velvet\n",
      "Soumission\n",
      "Sharp Objects\n",
      "Sapiens: A Brief History of Humankind\n",
      "The Requiem Red\n",
      "The Dirty Little Secrets of Getting Your Dream Job\n",
      "The Coming Woman: A Novel Based on the Life of the Infamous Feminist, Victoria Woodhull\n",
      "The Boys in the Boat: Nine Americans and Their Epic Quest for Gold at the 1936 Berlin Olympics\n",
      "The Black Maria\n"
     ]
    }
   ],
   "source": [
    "for element in img_elements[0:10]:\n",
    "    print(element.get_attribute('alt'))"
   ]
  },
  {
   "cell_type": "code",
   "execution_count": 29,
   "id": "ae9afc2c-59f3-4ba4-a491-40c136834bb6",
   "metadata": {},
   "outputs": [],
   "source": [
    "link_element = driver.find_elements(By.TAG_NAME, 'a')\n",
    "link_element2 = driver.find_elements(By.TAG_NAME, 'a') "
   ]
  },
  {
   "cell_type": "code",
   "execution_count": 35,
   "id": "8a7dbd3d-e4a0-4649-9586-86c750ba5b04",
   "metadata": {},
   "outputs": [
    {
     "name": "stdout",
     "output_type": "stream",
     "text": [
      "Books to Scrape\n",
      "https://books.toscrape.com/index.html\n",
      "Home\n",
      "https://books.toscrape.com/index.html\n",
      "Books\n",
      "https://books.toscrape.com/catalogue/category/books_1/index.html\n",
      "Travel\n",
      "https://books.toscrape.com/catalogue/category/books/travel_2/index.html\n",
      "Mystery\n",
      "https://books.toscrape.com/catalogue/category/books/mystery_3/index.html\n",
      "Historical Fiction\n",
      "https://books.toscrape.com/catalogue/category/books/historical-fiction_4/index.html\n",
      "Sequential Art\n",
      "https://books.toscrape.com/catalogue/category/books/sequential-art_5/index.html\n",
      "Classics\n",
      "https://books.toscrape.com/catalogue/category/books/classics_6/index.html\n",
      "Philosophy\n",
      "https://books.toscrape.com/catalogue/category/books/philosophy_7/index.html\n",
      "Romance\n",
      "https://books.toscrape.com/catalogue/category/books/romance_8/index.html\n"
     ]
    }
   ],
   "source": [
    "for link in link_element[0:10]:\n",
    "    print(link.get_attribute('title') or link.text)\n",
    "    print(link.get_attribute('href'))"
   ]
  },
  {
   "cell_type": "code",
   "execution_count": 39,
   "id": "cbc08ee7-ce18-4508-91dc-15ef728ba4aa",
   "metadata": {},
   "outputs": [
    {
     "name": "stdout",
     "output_type": "stream",
     "text": [
      "Our Band Could Be Your Life: Scenes from the American Indie Underground, 1981-1991\n",
      "https://books.toscrape.com/catalogue/our-band-could-be-your-life-scenes-from-the-american-indie-underground-1981-1991_985/index.html\n",
      "\n",
      "https://books.toscrape.com/catalogue/olio_984/index.html\n",
      "Olio\n",
      "https://books.toscrape.com/catalogue/olio_984/index.html\n",
      "\n",
      "https://books.toscrape.com/catalogue/mesaerion-the-best-science-fiction-stories-1800-1849_983/index.html\n",
      "Mesaerion: The Best Science Fiction Stories 1800-1849\n",
      "https://books.toscrape.com/catalogue/mesaerion-the-best-science-fiction-stories-1800-1849_983/index.html\n",
      "\n",
      "https://books.toscrape.com/catalogue/libertarianism-for-beginners_982/index.html\n",
      "Libertarianism for Beginners\n",
      "https://books.toscrape.com/catalogue/libertarianism-for-beginners_982/index.html\n",
      "\n",
      "https://books.toscrape.com/catalogue/its-only-the-himalayas_981/index.html\n",
      "It's Only the Himalayas\n",
      "https://books.toscrape.com/catalogue/its-only-the-himalayas_981/index.html\n",
      "next\n",
      "https://books.toscrape.com/catalogue/page-2.html\n"
     ]
    }
   ],
   "source": [
    "for link2 in link_element[-10:]:\n",
    "    print(link2.get_attribute('title') or link2.text)\n",
    "    print(link2.get_attribute('href'))"
   ]
  },
  {
   "cell_type": "code",
   "execution_count": 40,
   "id": "33b0fb67-0744-41bb-b30a-788585c361c5",
   "metadata": {},
   "outputs": [],
   "source": [
    "driver.quit()"
   ]
  },
  {
   "cell_type": "code",
   "execution_count": null,
   "id": "5bbf14e2-729a-4cae-94da-dfe15357fa88",
   "metadata": {},
   "outputs": [],
   "source": []
  }
 ],
 "metadata": {
  "kernelspec": {
   "display_name": "Python 3 (ipykernel)",
   "language": "python",
   "name": "python3"
  },
  "language_info": {
   "codemirror_mode": {
    "name": "ipython",
    "version": 3
   },
   "file_extension": ".py",
   "mimetype": "text/x-python",
   "name": "python",
   "nbconvert_exporter": "python",
   "pygments_lexer": "ipython3",
   "version": "3.13.3"
  }
 },
 "nbformat": 4,
 "nbformat_minor": 5
}
