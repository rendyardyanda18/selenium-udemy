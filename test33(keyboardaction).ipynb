{
 "cells": [
  {
   "cell_type": "code",
   "execution_count": 3,
   "id": "b59f5fd2-b2e4-4c56-b275-7879460c4137",
   "metadata": {},
   "outputs": [],
   "source": [
    "from selenium import webdriver\n",
    "from selenium.webdriver.chrome.service import Service\n",
    "from selenium.webdriver.common.action_chains import ActionChains\n",
    "from selenium.webdriver.common.by import By\n",
    "from selenium.webdriver.common.keys import Keys"
   ]
  },
  {
   "cell_type": "code",
   "execution_count": 10,
   "id": "cf6292e7-70ad-48dc-9a08-497668194aed",
   "metadata": {},
   "outputs": [],
   "source": [
    "from settings import CHROMEDRIVER_PATH, SELENIUM_URL, JQUERYUI_URL"
   ]
  },
  {
   "cell_type": "code",
   "execution_count": 11,
   "id": "03cb6014-5a4d-4515-8b93-bbef09f4836f",
   "metadata": {},
   "outputs": [],
   "source": [
    "service = Service(executable_path=CHROMEDRIVER_PATH)"
   ]
  },
  {
   "cell_type": "code",
   "execution_count": 12,
   "id": "ac2736ab-9676-4506-8f1f-af2a4bc2bdca",
   "metadata": {},
   "outputs": [],
   "source": [
    "driver = webdriver.Chrome(service=service)"
   ]
  },
  {
   "cell_type": "code",
   "execution_count": 13,
   "id": "56bc2ed0-396d-48b7-9857-474f5a8bc9ca",
   "metadata": {},
   "outputs": [],
   "source": [
    "driver.get(JQUERYUI_URL)"
   ]
  },
  {
   "cell_type": "code",
   "execution_count": 14,
   "id": "78f86d5f-3f4d-4a8d-b9ea-07f20c154d9f",
   "metadata": {},
   "outputs": [],
   "source": [
    "searchlmnt = driver.find_element(By.TAG_NAME, 'input')"
   ]
  },
  {
   "cell_type": "code",
   "execution_count": 16,
   "id": "0677fb96-20b7-499f-8a02-350b7eb7d905",
   "metadata": {},
   "outputs": [
    {
     "data": {
      "text/plain": [
       "''"
      ]
     },
     "execution_count": 16,
     "metadata": {},
     "output_type": "execute_result"
    }
   ],
   "source": [
    "searchlmnt.text"
   ]
  },
  {
   "cell_type": "code",
   "execution_count": 17,
   "id": "abaca0f4-b0ac-410b-9d98-f7af872c9be8",
   "metadata": {},
   "outputs": [],
   "source": [
    "action = ActionChains(driver=driver)"
   ]
  },
  {
   "cell_type": "code",
   "execution_count": 30,
   "id": "e18d6611-df10-4e66-960c-72b7d99c5166",
   "metadata": {},
   "outputs": [],
   "source": [
    "action.send_keys('/').release().perform()"
   ]
  },
  {
   "cell_type": "markdown",
   "id": "c17bb92f-017c-4b34-83d8-c0d12b0f08ff",
   "metadata": {},
   "source": [
    "code untuk ctr+k action.key_down(Keys.CONTROL).send_keys('k').release().perform()"
   ]
  },
  {
   "cell_type": "code",
   "execution_count": 31,
   "id": "3e37a69a-3b3c-4cbd-b4bc-ff94f820ee15",
   "metadata": {},
   "outputs": [],
   "source": [
    "searchlmnt.send_keys('element')"
   ]
  },
  {
   "cell_type": "code",
   "execution_count": 35,
   "id": "8a532ba7-46ce-475b-929d-158ccce0ee66",
   "metadata": {},
   "outputs": [],
   "source": [
    "action.send_keys(Keys.ARROW_DOWN).perform()"
   ]
  },
  {
   "cell_type": "code",
   "execution_count": 33,
   "id": "eb56f313-97af-420e-ae85-5f0f30b64b9a",
   "metadata": {},
   "outputs": [],
   "source": [
    "action.send_keys(Keys.ARROW_UP).perform()"
   ]
  },
  {
   "cell_type": "code",
   "execution_count": 29,
   "id": "9d6d3c6f-1ffc-4324-b404-43fb7f622dfd",
   "metadata": {},
   "outputs": [],
   "source": [
    "action.send_keys(Keys.ESCAPE).perform()"
   ]
  },
  {
   "cell_type": "code",
   "execution_count": 37,
   "id": "ef9c0f48-3a67-4499-af4e-38cbbab9a828",
   "metadata": {},
   "outputs": [],
   "source": [
    "action.send_keys(Keys.ENTER).perform()"
   ]
  },
  {
   "cell_type": "code",
   "execution_count": 38,
   "id": "2269afeb-ccdd-4e8b-ad7a-69120b423686",
   "metadata": {},
   "outputs": [],
   "source": [
    "driver.quit()"
   ]
  },
  {
   "cell_type": "code",
   "execution_count": null,
   "id": "9bf54bc4-246c-4812-827e-2e8e961de4bb",
   "metadata": {},
   "outputs": [],
   "source": []
  }
 ],
 "metadata": {
  "kernelspec": {
   "display_name": "Python 3 (ipykernel)",
   "language": "python",
   "name": "python3"
  },
  "language_info": {
   "codemirror_mode": {
    "name": "ipython",
    "version": 3
   },
   "file_extension": ".py",
   "mimetype": "text/x-python",
   "name": "python",
   "nbconvert_exporter": "python",
   "pygments_lexer": "ipython3",
   "version": "3.13.3"
  }
 },
 "nbformat": 4,
 "nbformat_minor": 5
}
