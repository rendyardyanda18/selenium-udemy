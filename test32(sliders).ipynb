{
 "cells": [
  {
   "cell_type": "code",
   "execution_count": 1,
   "id": "35551515-e394-47c4-8c85-85867a97066a",
   "metadata": {},
   "outputs": [],
   "source": [
    "from selenium import webdriver\n",
    "from selenium.webdriver.chrome.service import Service\n",
    "from selenium.webdriver.common.action_chains import ActionChains\n",
    "from selenium.webdriver.common.by import By"
   ]
  },
  {
   "cell_type": "code",
   "execution_count": 2,
   "id": "b002eddb-e539-4cfc-8587-1ad80e981d8d",
   "metadata": {},
   "outputs": [],
   "source": [
    "from settings import CHROMEDRIVER_PATH, JQUERYUI_URL"
   ]
  },
  {
   "cell_type": "code",
   "execution_count": 3,
   "id": "701a5c90-3e9f-4676-84a4-6fde86fd8d19",
   "metadata": {},
   "outputs": [],
   "source": [
    "service = Service(executable_path=CHROMEDRIVER_PATH)"
   ]
  },
  {
   "cell_type": "code",
   "execution_count": 4,
   "id": "28609c04-272a-4663-9ba4-035aee1a5662",
   "metadata": {},
   "outputs": [],
   "source": [
    "driver = webdriver.Chrome(service=service)"
   ]
  },
  {
   "cell_type": "code",
   "execution_count": 5,
   "id": "46a732a9-db40-4f6a-8d33-e50c98914048",
   "metadata": {},
   "outputs": [],
   "source": [
    "driver.get(JQUERYUI_URL + 'slider')"
   ]
  },
  {
   "cell_type": "code",
   "execution_count": 6,
   "id": "ec7e1575-97d2-49d9-af78-ac697741b9cc",
   "metadata": {},
   "outputs": [],
   "source": [
    "iframe = driver.find_element(By.TAG_NAME, 'iframe')"
   ]
  },
  {
   "cell_type": "code",
   "execution_count": 7,
   "id": "405d9fe2-acec-4381-ad2d-b551b82abbd6",
   "metadata": {},
   "outputs": [
    {
     "data": {
      "text/plain": [
       "'iframe'"
      ]
     },
     "execution_count": 7,
     "metadata": {},
     "output_type": "execute_result"
    }
   ],
   "source": [
    "iframe.tag_name"
   ]
  },
  {
   "cell_type": "code",
   "execution_count": 8,
   "id": "4576091c-2cdd-4df6-8cbc-4551ba18ee1f",
   "metadata": {},
   "outputs": [],
   "source": [
    "driver.switch_to.frame(iframe)"
   ]
  },
  {
   "cell_type": "code",
   "execution_count": 9,
   "id": "3ac27978-8333-4c68-9852-01a3fe0c6a3a",
   "metadata": {},
   "outputs": [],
   "source": [
    "slider = driver.find_element(By.ID, 'slider')"
   ]
  },
  {
   "cell_type": "code",
   "execution_count": 10,
   "id": "56fef597-01aa-4544-b777-8e5d38ab4733",
   "metadata": {},
   "outputs": [
    {
     "data": {
      "text/plain": [
       "''"
      ]
     },
     "execution_count": 10,
     "metadata": {},
     "output_type": "execute_result"
    }
   ],
   "source": [
    "slider.text"
   ]
  },
  {
   "cell_type": "code",
   "execution_count": 11,
   "id": "4efc201e-29a7-4876-9c72-02e062f21dbc",
   "metadata": {},
   "outputs": [],
   "source": [
    "slider.click()"
   ]
  },
  {
   "cell_type": "code",
   "execution_count": 12,
   "id": "2032d97b-36cb-4868-8b2a-51f501fc244e",
   "metadata": {},
   "outputs": [],
   "source": [
    "action = ActionChains(driver=driver)"
   ]
  },
  {
   "cell_type": "code",
   "execution_count": 13,
   "id": "b5267dd8-7878-4032-8923-5e37749d630a",
   "metadata": {},
   "outputs": [],
   "source": [
    "action.move_to_element_with_offset(slider, 40,0).click().perform()"
   ]
  },
  {
   "cell_type": "code",
   "execution_count": 14,
   "id": "b59c87b0-38d1-4a14-8eee-2873edfc0a54",
   "metadata": {},
   "outputs": [],
   "source": [
    "action.move_to_element_with_offset(slider, -100,0).click().perform()"
   ]
  },
  {
   "cell_type": "code",
   "execution_count": 15,
   "id": "2711dfc5-2187-4d02-b9ce-08cafbeebe8b",
   "metadata": {},
   "outputs": [],
   "source": [
    "action.drag_and_drop_by_offset(slider, 100, 0).perform()"
   ]
  },
  {
   "cell_type": "code",
   "execution_count": 16,
   "id": "609f8c15-f6f5-42a1-a6bc-8fb25a172fa1",
   "metadata": {},
   "outputs": [],
   "source": [
    "driver.quit()"
   ]
  },
  {
   "cell_type": "code",
   "execution_count": null,
   "id": "8cb8e8be-c21a-4d19-bbc1-974be962593b",
   "metadata": {},
   "outputs": [],
   "source": []
  }
 ],
 "metadata": {
  "kernelspec": {
   "display_name": "Python 3 (ipykernel)",
   "language": "python",
   "name": "python3"
  },
  "language_info": {
   "codemirror_mode": {
    "name": "ipython",
    "version": 3
   },
   "file_extension": ".py",
   "mimetype": "text/x-python",
   "name": "python",
   "nbconvert_exporter": "python",
   "pygments_lexer": "ipython3",
   "version": "3.13.7"
  }
 },
 "nbformat": 4,
 "nbformat_minor": 5
}
