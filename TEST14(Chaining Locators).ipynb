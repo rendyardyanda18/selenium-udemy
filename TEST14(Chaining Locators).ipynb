{
 "cells": [
  {
   "cell_type": "code",
   "execution_count": 21,
   "id": "b51ae86a-72ca-429e-9bee-d16c44dc6648",
   "metadata": {},
   "outputs": [
    {
     "name": "stdout",
     "output_type": "stream",
     "text": [
      "Selenium imported successfully!\n"
     ]
    }
   ],
   "source": [
    "import selenium\n",
    "from selenium import webdriver\n",
    "from selenium.webdriver.chrome.service import Service\n",
    "from selenium.webdriver.common.by import By\n",
    "print(\"Selenium imported successfully!\")"
   ]
  },
  {
   "cell_type": "code",
   "execution_count": 22,
   "id": "27f3aee7-5e27-4a70-b6d6-4242531a07a1",
   "metadata": {},
   "outputs": [],
   "source": [
    "from settings import CHROMEDRIVER_PATH, BOOKSTOSCRAPE_URL"
   ]
  },
  {
   "cell_type": "code",
   "execution_count": 23,
   "id": "e21fce28-1098-434c-8d3f-ac03f8755a1d",
   "metadata": {},
   "outputs": [],
   "source": [
    "service = Service(executable_path=CHROMEDRIVER_PATH)"
   ]
  },
  {
   "cell_type": "code",
   "execution_count": 24,
   "id": "42a3b22d-01cb-4ede-bfdd-0e5a2c5a8e81",
   "metadata": {},
   "outputs": [],
   "source": [
    "driver = webdriver.Chrome(service=service)"
   ]
  },
  {
   "cell_type": "code",
   "execution_count": 25,
   "id": "de983044-b712-41c3-b0e2-53931e3a6233",
   "metadata": {},
   "outputs": [],
   "source": [
    "driver.get(BOOKSTOSCRAPE_URL)"
   ]
  },
  {
   "cell_type": "code",
   "execution_count": 26,
   "id": "a86d2529-01dc-4c0d-8b1c-973cc2e8bca9",
   "metadata": {},
   "outputs": [],
   "source": [
    "book_elements = driver.find_elements(By.CSS_SELECTOR, 'article.product_pod')"
   ]
  },
  {
   "cell_type": "code",
   "execution_count": 27,
   "id": "b55478cf-b46e-416d-8815-a2d41282451b",
   "metadata": {},
   "outputs": [
    {
     "data": {
      "text/plain": [
       "20"
      ]
     },
     "execution_count": 27,
     "metadata": {},
     "output_type": "execute_result"
    }
   ],
   "source": [
    "len(book_elements)"
   ]
  },
  {
   "cell_type": "code",
   "execution_count": 28,
   "id": "02696666-1d2c-4949-9c54-62e412f6a36e",
   "metadata": {},
   "outputs": [
    {
     "data": {
      "text/plain": [
       "'A Light in the Attic'"
      ]
     },
     "execution_count": 28,
     "metadata": {},
     "output_type": "execute_result"
    }
   ],
   "source": [
    "book_elements[0].find_element(By.TAG_NAME, 'img').get_attribute('alt')"
   ]
  },
  {
   "cell_type": "code",
   "execution_count": 29,
   "id": "c5a20446-379a-429d-b771-31b3acc79c35",
   "metadata": {},
   "outputs": [
    {
     "data": {
      "text/plain": [
       "'£51.77'"
      ]
     },
     "execution_count": 29,
     "metadata": {},
     "output_type": "execute_result"
    }
   ],
   "source": [
    "book_elements[0].find_element(By.CSS_SELECTOR, 'p.price_color').text"
   ]
  },
  {
   "cell_type": "code",
   "execution_count": 30,
   "id": "ed63bf1a-df3f-4f8c-aabd-767575a099c2",
   "metadata": {},
   "outputs": [],
   "source": [
    "price_list = []"
   ]
  },
  {
   "cell_type": "code",
   "execution_count": 31,
   "id": "98b890bb-4ebb-44d5-a297-3b08b3290b5d",
   "metadata": {},
   "outputs": [],
   "source": [
    "for book in book_elements:\n",
    "    price_list.append({\n",
    "        'title': book.find_element(By.TAG_NAME, 'img').get_attribute('alt'),\n",
    "        'price': book.find_element(By.CSS_SELECTOR, 'p.price_color').text\n",
    "    })"
   ]
  },
  {
   "cell_type": "code",
   "execution_count": 32,
   "id": "8173c5c1-aa4f-4cec-a384-f1ca9e8e5f80",
   "metadata": {},
   "outputs": [
    {
     "data": {
      "text/plain": [
       "[{'title': 'A Light in the Attic', 'price': '£51.77'},\n",
       " {'title': 'Tipping the Velvet', 'price': '£53.74'},\n",
       " {'title': 'Soumission', 'price': '£50.10'},\n",
       " {'title': 'Sharp Objects', 'price': '£47.82'},\n",
       " {'title': 'Sapiens: A Brief History of Humankind', 'price': '£54.23'},\n",
       " {'title': 'The Requiem Red', 'price': '£22.65'},\n",
       " {'title': 'The Dirty Little Secrets of Getting Your Dream Job',\n",
       "  'price': '£33.34'},\n",
       " {'title': 'The Coming Woman: A Novel Based on the Life of the Infamous Feminist, Victoria Woodhull',\n",
       "  'price': '£17.93'},\n",
       " {'title': 'The Boys in the Boat: Nine Americans and Their Epic Quest for Gold at the 1936 Berlin Olympics',\n",
       "  'price': '£22.60'},\n",
       " {'title': 'The Black Maria', 'price': '£52.15'},\n",
       " {'title': 'Starving Hearts (Triangular Trade Trilogy, #1)',\n",
       "  'price': '£13.99'},\n",
       " {'title': \"Shakespeare's Sonnets\", 'price': '£20.66'},\n",
       " {'title': 'Set Me Free', 'price': '£17.46'},\n",
       " {'title': \"Scott Pilgrim's Precious Little Life (Scott Pilgrim #1)\",\n",
       "  'price': '£52.29'},\n",
       " {'title': 'Rip it Up and Start Again', 'price': '£35.02'},\n",
       " {'title': 'Our Band Could Be Your Life: Scenes from the American Indie Underground, 1981-1991',\n",
       "  'price': '£57.25'},\n",
       " {'title': 'Olio', 'price': '£23.88'},\n",
       " {'title': 'Mesaerion: The Best Science Fiction Stories 1800-1849',\n",
       "  'price': '£37.59'},\n",
       " {'title': 'Libertarianism for Beginners', 'price': '£51.33'},\n",
       " {'title': \"It's Only the Himalayas\", 'price': '£45.17'}]"
      ]
     },
     "execution_count": 32,
     "metadata": {},
     "output_type": "execute_result"
    }
   ],
   "source": [
    "price_list"
   ]
  },
  {
   "cell_type": "code",
   "execution_count": null,
   "id": "79d47cdf-a416-4b52-926f-d3590ea2f3ee",
   "metadata": {},
   "outputs": [],
   "source": []
  }
 ],
 "metadata": {
  "kernelspec": {
   "display_name": "Selenium Env",
   "language": "python",
   "name": "seleniumvenv"
  },
  "language_info": {
   "codemirror_mode": {
    "name": "ipython",
    "version": 3
   },
   "file_extension": ".py",
   "mimetype": "text/x-python",
   "name": "python",
   "nbconvert_exporter": "python",
   "pygments_lexer": "ipython3",
   "version": "3.13.3"
  }
 },
 "nbformat": 4,
 "nbformat_minor": 5
}
