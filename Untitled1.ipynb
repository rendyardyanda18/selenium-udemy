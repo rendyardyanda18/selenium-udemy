{
 "cells": [
  {
   "cell_type": "code",
   "execution_count": null,
   "id": "44b6fb39-cc68-4812-88e4-3aa038e4df67",
   "metadata": {},
   "outputs": [],
   "source": []
  }
 ],
 "metadata": {
  "kernelspec": {
   "display_name": "",
   "name": ""
  },
  "language_info": {
   "name": ""
  }
 },
 "nbformat": 4,
 "nbformat_minor": 5
}
