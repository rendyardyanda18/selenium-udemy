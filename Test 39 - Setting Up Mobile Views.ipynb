{
 "cells": [
  {
   "cell_type": "code",
   "execution_count": 11,
   "id": "fca38d2e-f33c-4ece-81b8-e802ecf86170",
   "metadata": {},
   "outputs": [],
   "source": [
    "from selenium import webdriver\n",
    "from selenium.webdriver.chrome.service import Service\n",
    "\n",
    "from settings import CHROMEDRIVER_PATH, SELENIUM_URL"
   ]
  },
  {
   "cell_type": "code",
   "execution_count": 12,
   "id": "3424d516-8985-4315-b32d-d2e5741596b9",
   "metadata": {},
   "outputs": [],
   "source": [
    "service = Service(executable_path=CHROMEDRIVER_PATH)"
   ]
  },
  {
   "cell_type": "code",
   "execution_count": 13,
   "id": "536cb682-a0b0-45d2-b4e8-1e5cdbae57ef",
   "metadata": {},
   "outputs": [],
   "source": [
    "mobile_emulation = {'deviceName':'iPhone 12 Pro'}"
   ]
  },
  {
   "cell_type": "code",
   "execution_count": 14,
   "id": "dce1ca65-13f5-42a7-8bbe-19ccc37bf131",
   "metadata": {},
   "outputs": [],
   "source": [
    "chrome_options = webdriver.ChromeOptions()\n",
    "chrome_options.add_experimental_option('mobileEmulation', mobile_emulation)"
   ]
  },
  {
   "cell_type": "code",
   "execution_count": 17,
   "id": "18ba70cc-2955-471d-901b-bc032a73d0d8",
   "metadata": {},
   "outputs": [],
   "source": [
    "driver =  webdriver.Chrome(service=service, options=chrome_options)"
   ]
  },
  {
   "cell_type": "code",
   "execution_count": 18,
   "id": "1f33040b-f654-4153-a3fe-b0b945ca35de",
   "metadata": {},
   "outputs": [],
   "source": [
    " driver.get(SELENIUM_URL)"
   ]
  },
  {
   "cell_type": "code",
   "execution_count": 19,
   "id": "ac9d3007-74ee-4751-b81f-20dacc218d0f",
   "metadata": {},
   "outputs": [],
   "source": [
    "driver.quit()"
   ]
  },
  {
   "cell_type": "code",
   "execution_count": 20,
   "id": "e52c31a6-dbca-47d3-bf71-5ce7c0dd340d",
   "metadata": {},
   "outputs": [],
   "source": [
    "mobile_emulation = {'deviceName':'iPad Mini'}"
   ]
  },
  {
   "cell_type": "code",
   "execution_count": 21,
   "id": "3ed01b2e-13c9-4755-8937-1495b95c88bf",
   "metadata": {},
   "outputs": [],
   "source": [
    "chrome_options = webdriver.ChromeOptions()\n",
    "chrome_options.add_experimental_option('mobileEmulation', mobile_emulation)"
   ]
  },
  {
   "cell_type": "code",
   "execution_count": 23,
   "id": "d6010c3f-f6d9-48bd-adc3-25799defeb79",
   "metadata": {},
   "outputs": [],
   "source": [
    "driver =  webdriver.Chrome(service=service, options=chrome_options)"
   ]
  },
  {
   "cell_type": "code",
   "execution_count": 25,
   "id": "183e6a45-17f7-4247-b712-9140fa56e05a",
   "metadata": {},
   "outputs": [],
   "source": [
    "driver.get(SELENIUM_URL)"
   ]
  }
 ],
 "metadata": {
  "kernelspec": {
   "display_name": "Python 3 (ipykernel)",
   "language": "python",
   "name": "python3"
  },
  "language_info": {
   "codemirror_mode": {
    "name": "ipython",
    "version": 3
   },
   "file_extension": ".py",
   "mimetype": "text/x-python",
   "name": "python",
   "nbconvert_exporter": "python",
   "pygments_lexer": "ipython3",
   "version": "3.13.7"
  }
 },
 "nbformat": 4,
 "nbformat_minor": 5
}
