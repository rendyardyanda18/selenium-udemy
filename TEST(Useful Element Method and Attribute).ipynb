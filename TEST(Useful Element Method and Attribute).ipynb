{
 "cells": [
  {
   "cell_type": "code",
   "execution_count": 1,
   "id": "a7e56b20-395d-4655-aa34-16017e12ba2f",
   "metadata": {},
   "outputs": [
    {
     "name": "stdout",
     "output_type": "stream",
     "text": [
      "Selenium imported succesfully!!\n"
     ]
    }
   ],
   "source": [
    "from selenium import webdriver\n",
    "from selenium.webdriver.chrome.service import Service\n",
    "from selenium.webdriver.common.by import By\n",
    "print('Selenium imported succesfully!!')"
   ]
  },
  {
   "cell_type": "code",
   "execution_count": 2,
   "id": "073a6d65-4d23-435d-8ca6-50bb83437094",
   "metadata": {},
   "outputs": [],
   "source": [
    "from settings import CHROMEDRIVER_PATH, BOOKSTOSCRAPE_URL"
   ]
  },
  {
   "cell_type": "code",
   "execution_count": 3,
   "id": "0a4c5cab-679f-4d0b-a9ce-7443f70a4e49",
   "metadata": {},
   "outputs": [],
   "source": [
    "service = Service(executable_path=CHROMEDRIVER_PATH)"
   ]
  },
  {
   "cell_type": "code",
   "execution_count": 5,
   "id": "2158a56d-5a09-4403-adcd-bad18fa3f08c",
   "metadata": {},
   "outputs": [],
   "source": [
    "driver = webdriver.Chrome(service=service)"
   ]
  },
  {
   "cell_type": "code",
   "execution_count": 6,
   "id": "de6791c4-df29-482f-9c19-5c640d2e30c2",
   "metadata": {},
   "outputs": [],
   "source": [
    "driver.get(BOOKSTOSCRAPE_URL)"
   ]
  },
  {
   "cell_type": "code",
   "execution_count": 7,
   "id": "523f5637-1e51-4038-bf49-9b693cd761fb",
   "metadata": {},
   "outputs": [],
   "source": [
    "book_element = driver.find_element(By.CSS_SELECTOR, 'article.product_pod')"
   ]
  },
  {
   "cell_type": "code",
   "execution_count": 8,
   "id": "87d250e0-f245-45a2-af32-675d580fbd08",
   "metadata": {},
   "outputs": [
    {
     "data": {
      "text/plain": [
       "'A Light in the ...\\n£51.77\\nIn stock\\nAdd to basket'"
      ]
     },
     "execution_count": 8,
     "metadata": {},
     "output_type": "execute_result"
    }
   ],
   "source": [
    "book_element.text"
   ]
  },
  {
   "cell_type": "code",
   "execution_count": 9,
   "id": "3daacd7b-b77c-4fed-9f1a-45a899a6b783",
   "metadata": {},
   "outputs": [
    {
     "data": {
      "text/plain": [
       "'article'"
      ]
     },
     "execution_count": 9,
     "metadata": {},
     "output_type": "execute_result"
    }
   ],
   "source": [
    "book_element.tag_name"
   ]
  },
  {
   "cell_type": "code",
   "execution_count": 10,
   "id": "695f726f-d135-4596-9fa8-aca88e934e3c",
   "metadata": {},
   "outputs": [
    {
     "data": {
      "text/plain": [
       "{'height': 370, 'width': 161}"
      ]
     },
     "execution_count": 10,
     "metadata": {},
     "output_type": "execute_result"
    }
   ],
   "source": [
    "book_element.size"
   ]
  },
  {
   "cell_type": "code",
   "execution_count": 11,
   "id": "48c037c2-1f6f-450d-b6c3-54c103786c1a",
   "metadata": {},
   "outputs": [
    {
     "data": {
      "text/plain": [
       "True"
      ]
     },
     "execution_count": 11,
     "metadata": {},
     "output_type": "execute_result"
    }
   ],
   "source": [
    "book_element.is_displayed()"
   ]
  },
  {
   "cell_type": "code",
   "execution_count": 12,
   "id": "adb78772-5f9b-462e-be8e-20d5fd68353a",
   "metadata": {},
   "outputs": [
    {
     "data": {
      "text/plain": [
       "True"
      ]
     },
     "execution_count": 12,
     "metadata": {},
     "output_type": "execute_result"
    }
   ],
   "source": [
    "book_element.is_enabled()"
   ]
  },
  {
   "cell_type": "code",
   "execution_count": 13,
   "id": "13efd1ed-cba3-40f5-aafe-2716d6197770",
   "metadata": {},
   "outputs": [
    {
     "data": {
      "text/plain": [
       "False"
      ]
     },
     "execution_count": 13,
     "metadata": {},
     "output_type": "execute_result"
    }
   ],
   "source": [
    "book_element.is_selected()"
   ]
  },
  {
   "cell_type": "code",
   "execution_count": 15,
   "id": "a1e73f8a-3c07-4333-b0cf-5ad89b5fdb62",
   "metadata": {},
   "outputs": [
    {
     "data": {
      "text/plain": [
       "True"
      ]
     },
     "execution_count": 15,
     "metadata": {},
     "output_type": "execute_result"
    }
   ],
   "source": [
    "book_element.screenshot('test.png')"
   ]
  },
  {
   "cell_type": "code",
   "execution_count": 16,
   "id": "3a0ba78d-fdcb-4452-be93-10ae0f49a390",
   "metadata": {},
   "outputs": [],
   "source": [
    "button_element = book_element.find_element(By.CSS_SELECTOR, 'button')"
   ]
  },
  {
   "cell_type": "code",
   "execution_count": 17,
   "id": "205ac6b5-9459-41e7-aada-db92a8f98b5c",
   "metadata": {},
   "outputs": [
    {
     "data": {
      "text/plain": [
       "'Add to basket'"
      ]
     },
     "execution_count": 17,
     "metadata": {},
     "output_type": "execute_result"
    }
   ],
   "source": [
    "button_element.text"
   ]
  },
  {
   "cell_type": "code",
   "execution_count": 18,
   "id": "f3d037bc-0196-44a5-83bc-337beacd4f7c",
   "metadata": {},
   "outputs": [
    {
     "data": {
      "text/plain": [
       "'submit'"
      ]
     },
     "execution_count": 18,
     "metadata": {},
     "output_type": "execute_result"
    }
   ],
   "source": [
    "button_element.get_dom_attribute('type')"
   ]
  },
  {
   "cell_type": "code",
   "execution_count": 19,
   "id": "ee36b3cd-2d7b-4d4f-ad86-6f983be51fb9",
   "metadata": {},
   "outputs": [
    {
     "data": {
      "text/plain": [
       "'submit'"
      ]
     },
     "execution_count": 19,
     "metadata": {},
     "output_type": "execute_result"
    }
   ],
   "source": [
    "button_element.get_attribute('type')"
   ]
  },
  {
   "cell_type": "code",
   "execution_count": 20,
   "id": "00184a0e-6e41-4f5b-b03c-6d6a0c7fe0f8",
   "metadata": {},
   "outputs": [
    {
     "data": {
      "text/plain": [
       "''"
      ]
     },
     "execution_count": 20,
     "metadata": {},
     "output_type": "execute_result"
    }
   ],
   "source": [
    "button_element.get_property('name')"
   ]
  },
  {
   "cell_type": "code",
   "execution_count": 21,
   "id": "9dd42291-f314-4402-b2b8-a0f3c6452f0a",
   "metadata": {},
   "outputs": [
    {
     "data": {
      "text/plain": [
       "'rgba(255, 255, 255, 1)'"
      ]
     },
     "execution_count": 21,
     "metadata": {},
     "output_type": "execute_result"
    }
   ],
   "source": [
    "button_element.value_of_css_property('color')"
   ]
  },
  {
   "cell_type": "code",
   "execution_count": 22,
   "id": "bed67455-13be-454d-8674-5f7805302ec9",
   "metadata": {},
   "outputs": [
    {
     "data": {
      "text/plain": [
       "'6px 12px'"
      ]
     },
     "execution_count": 22,
     "metadata": {},
     "output_type": "execute_result"
    }
   ],
   "source": [
    "button_element.value_of_css_property('padding')"
   ]
  },
  {
   "cell_type": "code",
   "execution_count": null,
   "id": "f518d743-588e-4275-8d91-000cb8791d9c",
   "metadata": {},
   "outputs": [],
   "source": [
    "driver.quit()"
   ]
  },
  {
   "cell_type": "code",
   "execution_count": null,
   "id": "ee0270a6-474c-4169-8574-82586fea8746",
   "metadata": {},
   "outputs": [],
   "source": []
  }
 ],
 "metadata": {
  "kernelspec": {
   "display_name": "Python 3",
   "language": "python",
   "name": "python3"
  },
  "language_info": {
   "codemirror_mode": {
    "name": "ipython",
    "version": 3
   },
   "file_extension": ".py",
   "mimetype": "text/x-python",
   "name": "python",
   "nbconvert_exporter": "python",
   "pygments_lexer": "ipython3",
   "version": "3.13.3"
  }
 },
 "nbformat": 4,
 "nbformat_minor": 5
}
