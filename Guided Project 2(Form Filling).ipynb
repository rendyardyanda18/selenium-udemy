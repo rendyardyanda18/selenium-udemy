{
 "cells": [
  {
   "cell_type": "code",
   "execution_count": 1,
   "id": "d3c0dfef-0acc-4a45-92c4-5fa120963109",
   "metadata": {},
   "outputs": [],
   "source": [
    "from selenium import webdriver\n",
    "from selenium.webdriver.chrome.service import Service\n",
    "from selenium.webdriver.common.by import By\n",
    "from selenium.webdriver.common.action_chains import ActionChains\n",
    "from selenium.webdriver.common.keys import Keys"
   ]
  },
  {
   "cell_type": "code",
   "execution_count": 2,
   "id": "81062362-273c-4b68-8a21-6f5431c6f872",
   "metadata": {},
   "outputs": [],
   "source": [
    "from settings import CHROMEDRIVER_PATH, GOLDBUGS_URL"
   ]
  },
  {
   "cell_type": "code",
   "execution_count": 3,
   "id": "0c7e2ba2-935e-4284-8042-2b3200686952",
   "metadata": {},
   "outputs": [],
   "source": [
    "service = Service(executable_path=CHROMEDRIVER_PATH)"
   ]
  },
  {
   "cell_type": "code",
   "execution_count": 4,
   "id": "a4d78b4c-efdc-4308-83ad-0bfe99f52d60",
   "metadata": {},
   "outputs": [],
   "source": [
    "driver = webdriver.Chrome(service=service)"
   ]
  },
  {
   "cell_type": "code",
   "execution_count": 5,
   "id": "ac399619-e994-4380-bfda-bb6d067b5103",
   "metadata": {},
   "outputs": [],
   "source": [
    "action = ActionChains(driver=driver)"
   ]
  },
  {
   "cell_type": "code",
   "execution_count": 6,
   "id": "80269952-c33a-4e8a-bddc-2d8982f0a9f9",
   "metadata": {},
   "outputs": [],
   "source": [
    "driver.get(GOLDBUGS_URL)"
   ]
  },
  {
   "cell_type": "code",
   "execution_count": 7,
   "id": "f076ba4a-e093-4c6c-8d19-d3a885a4700b",
   "metadata": {},
   "outputs": [],
   "source": [
    "frst_nme = driver.find_element(By.CSS_SELECTOR, '#name-yui_3_17_2_1_1664570076619_2727-fname-field')"
   ]
  },
  {
   "cell_type": "code",
   "execution_count": 8,
   "id": "242deb53-5d82-47b1-b616-91a5f888d559",
   "metadata": {},
   "outputs": [],
   "source": [
    "lst_nme = driver.find_element(By.CSS_SELECTOR, '#name-yui_3_17_2_1_1664570076619_2727-lname-field')"
   ]
  },
  {
   "cell_type": "code",
   "execution_count": 9,
   "id": "f099711f-7636-45dc-be8d-a3815aa9c8c3",
   "metadata": {},
   "outputs": [],
   "source": [
    "email_nme = driver.find_element(By.CSS_SELECTOR, '#email-yui_3_17_2_1_1664570076619_2728-field')"
   ]
  },
  {
   "cell_type": "code",
   "execution_count": 10,
   "id": "63f7c103-6033-4230-b91f-79a46e2b2c46",
   "metadata": {},
   "outputs": [],
   "source": [
    "sbjct_nme = driver.find_element(By.CSS_SELECTOR, '#text-yui_3_17_2_1_1664570076619_2729-field')"
   ]
  },
  {
   "cell_type": "code",
   "execution_count": 11,
   "id": "ec775176-8b38-423a-a221-0b1cb8b42038",
   "metadata": {},
   "outputs": [],
   "source": [
    "mssge_nme = driver.find_element(By.CSS_SELECTOR, '#textarea-yui_3_17_2_1_1664570076619_2730-field')"
   ]
  },
  {
   "cell_type": "code",
   "execution_count": 12,
   "id": "c7eaded9-13b4-4153-8544-9a454f788be4",
   "metadata": {},
   "outputs": [],
   "source": [
    "frst_nme.send_keys('gatau')"
   ]
  },
  {
   "cell_type": "code",
   "execution_count": 13,
   "id": "f835a0f3-a248-4c8f-a39a-188c9062b47d",
   "metadata": {},
   "outputs": [],
   "source": [
    "lst_nme.send_keys('terimakasih')"
   ]
  },
  {
   "cell_type": "code",
   "execution_count": 14,
   "id": "4725f2c4-a8bd-440f-a625-fbca5b671492",
   "metadata": {},
   "outputs": [],
   "source": [
    "email_nme.send_keys('gatau@yopmail.com')"
   ]
  },
  {
   "cell_type": "code",
   "execution_count": 15,
   "id": "c6e4d9ba-9c1d-411c-bde9-5f84fa28ad67",
   "metadata": {},
   "outputs": [],
   "source": [
    "sbjct_nme.send_keys('test subject')"
   ]
  },
  {
   "cell_type": "code",
   "execution_count": 16,
   "id": "d6a3f011-b87a-4322-a90d-1610d285caea",
   "metadata": {},
   "outputs": [],
   "source": [
    "mssge_nme.send_keys('test isi form')"
   ]
  },
  {
   "cell_type": "code",
   "execution_count": 17,
   "id": "2b41bd70-6f70-4b33-9910-22ee332b0c62",
   "metadata": {},
   "outputs": [],
   "source": [
    "checboxlmnt = driver.find_elements(By.XPATH, '//input[@type = \"checkbox\"]')"
   ]
  },
  {
   "cell_type": "code",
   "execution_count": 18,
   "id": "b87e83ad-0639-4ccf-8461-a655b2e03677",
   "metadata": {},
   "outputs": [
    {
     "data": {
      "text/plain": [
       "3"
      ]
     },
     "execution_count": 18,
     "metadata": {},
     "output_type": "execute_result"
    }
   ],
   "source": [
    "len(checboxlmnt)"
   ]
  },
  {
   "cell_type": "code",
   "execution_count": 19,
   "id": "22075f20-51ae-4a0c-96e1-603390274628",
   "metadata": {},
   "outputs": [
    {
     "data": {
      "text/plain": [
       "'No Response Required'"
      ]
     },
     "execution_count": 19,
     "metadata": {},
     "output_type": "execute_result"
    }
   ],
   "source": [
    "checboxlmnt[1].get_attribute('value')"
   ]
  },
  {
   "cell_type": "code",
   "execution_count": 20,
   "id": "7d5d6327-264c-403c-ad01-af3bb3bb6c50",
   "metadata": {},
   "outputs": [],
   "source": [
    "checboxlmnt[1].click()"
   ]
  },
  {
   "cell_type": "code",
   "execution_count": 21,
   "id": "0b4691c6-dd98-4e20-b17b-eaed9771c9eb",
   "metadata": {},
   "outputs": [],
   "source": [
    "checboxlmnt[2].click()"
   ]
  },
  {
   "cell_type": "code",
   "execution_count": 22,
   "id": "a8760714-34b0-45b4-b4db-4c805d55d053",
   "metadata": {},
   "outputs": [],
   "source": [
    "radiobttn = driver.find_elements(By.XPATH, '//span[@class=\"radio-label\"]')"
   ]
  },
  {
   "cell_type": "code",
   "execution_count": 23,
   "id": "338db033-714f-465a-a091-655899f52d56",
   "metadata": {},
   "outputs": [
    {
     "data": {
      "text/plain": [
       "2"
      ]
     },
     "execution_count": 23,
     "metadata": {},
     "output_type": "execute_result"
    }
   ],
   "source": [
    "len(radiobttn)"
   ]
  },
  {
   "cell_type": "code",
   "execution_count": 24,
   "id": "bfbd1a70-c294-4e09-a5e1-0e1c94e80433",
   "metadata": {},
   "outputs": [
    {
     "data": {
      "text/plain": [
       "'Public Show'"
      ]
     },
     "execution_count": 24,
     "metadata": {},
     "output_type": "execute_result"
    }
   ],
   "source": [
    "radiobttn[1].text"
   ]
  },
  {
   "cell_type": "code",
   "execution_count": 25,
   "id": "e6a100a6-958b-4ae4-b567-cd0af51a0344",
   "metadata": {},
   "outputs": [],
   "source": [
    "radiobttn[1].click()"
   ]
  },
  {
   "cell_type": "markdown",
   "id": "c258d0c0-9173-4eb1-9930-62ccd4daca0b",
   "metadata": {},
   "source": [
    "selectlmnt = driver.find_element(By.ID, 'select-e1f50715-c8a7-48eb-bc99-2c245676068c-field')"
   ]
  },
  {
   "cell_type": "markdown",
   "id": "fecea7b3-a4ed-4907-a8af-38817fd8dec5",
   "metadata": {},
   "source": [
    "print(selectlmnt.text)"
   ]
  },
  {
   "cell_type": "markdown",
   "id": "9ede3495-9614-4b27-8be1-fbec34ad2b5f",
   "metadata": {},
   "source": [
    "optionslmnt = selectlmnt.find_elements(By.TAG_NAME, 'option')"
   ]
  },
  {
   "cell_type": "markdown",
   "id": "eca2b71d-2c05-4978-8ef9-608a11c71c79",
   "metadata": {},
   "source": [
    "len(optionslmnt)"
   ]
  },
  {
   "cell_type": "markdown",
   "id": "18ad76d1-b0b3-449a-9fd8-b2c5b5b484fa",
   "metadata": {},
   "source": [
    "optionslmnt[1].text"
   ]
  },
  {
   "cell_type": "code",
   "execution_count": 26,
   "id": "218866da-352e-42b4-b85c-b14a73e3237f",
   "metadata": {},
   "outputs": [],
   "source": [
    "listdropdown = driver.find_element(By.CSS_SELECTOR, '#select-e1f50715-c8a7-48eb-bc99-2c245676068c-field')"
   ]
  },
  {
   "cell_type": "code",
   "execution_count": 27,
   "id": "4b5b2889-3617-4fd9-8183-bc766a05ef98",
   "metadata": {},
   "outputs": [],
   "source": [
    "listdropdown.click()"
   ]
  },
  {
   "cell_type": "code",
   "execution_count": 28,
   "id": "10517ddc-6a59-4308-8e05-1e1403b8daff",
   "metadata": {},
   "outputs": [],
   "source": [
    "#choose facebook\n",
    "action.send_keys(Keys.ARROW_DOWN).send_keys(Keys.ARROW_DOWN).perform()"
   ]
  },
  {
   "cell_type": "code",
   "execution_count": 29,
   "id": "ba469f58-0abf-44ca-9ca6-7a4b0db47840",
   "metadata": {},
   "outputs": [],
   "source": [
    "#action.send_keys(Keys.ESCAPE).perform()"
   ]
  },
  {
   "cell_type": "code",
   "execution_count": 30,
   "id": "f6f4c45d-35e0-4eba-a049-52cbbc00b485",
   "metadata": {},
   "outputs": [],
   "source": [
    "action.send_keys(Keys.ENTER).perform()"
   ]
  },
  {
   "cell_type": "code",
   "execution_count": 31,
   "id": "e5e0bafe-3e14-46cc-8ba1-d6fa5db3dd2d",
   "metadata": {},
   "outputs": [],
   "source": [
    "bttmradio = driver.find_element(By.CSS_SELECTOR, '#likert-bc3e2dd1-21ab-487a-ae4e-ab6df785d300 > fieldset')"
   ]
  },
  {
   "cell_type": "code",
   "execution_count": 32,
   "id": "c1ed3634-7666-489e-9059-52ceb1dae817",
   "metadata": {},
   "outputs": [
    {
     "data": {
      "text/plain": [
       "'Will you tell your friends about our band?'"
      ]
     },
     "execution_count": 32,
     "metadata": {},
     "output_type": "execute_result"
    }
   ],
   "source": [
    "bttmradio.get_attribute('data-question')"
   ]
  },
  {
   "cell_type": "code",
   "execution_count": 33,
   "id": "2e2bb7d0-17d8-432d-9c71-e19765c8d175",
   "metadata": {},
   "outputs": [],
   "source": [
    "opt_bttm = bttmradio.find_elements(By.XPATH, '//label[@class=\"Giwj54DpggM6ElFH\"]')"
   ]
  },
  {
   "cell_type": "code",
   "execution_count": 34,
   "id": "c49c816d-e61c-4e90-a62a-278e1b2abd01",
   "metadata": {},
   "outputs": [
    {
     "data": {
      "text/plain": [
       "5"
      ]
     },
     "execution_count": 34,
     "metadata": {},
     "output_type": "execute_result"
    }
   ],
   "source": [
    "len(opt_bttm)"
   ]
  },
  {
   "cell_type": "code",
   "execution_count": 35,
   "id": "54da4860-a8c8-4835-8994-7d4a5ef14073",
   "metadata": {},
   "outputs": [
    {
     "data": {
      "text/plain": [
       "'Giwj54DpggM6ElFH'"
      ]
     },
     "execution_count": 35,
     "metadata": {},
     "output_type": "execute_result"
    }
   ],
   "source": [
    "opt_bttm[2].get_attribute('class')"
   ]
  },
  {
   "cell_type": "code",
   "execution_count": 36,
   "id": "d23417df-d3ca-48e7-b8f9-254bdf023a8c",
   "metadata": {},
   "outputs": [],
   "source": [
    "#action.move_to_element(opt_bttm[2]).perform()"
   ]
  },
  {
   "cell_type": "code",
   "execution_count": 37,
   "id": "f40ec6e9-5b80-4de2-b088-77293052d115",
   "metadata": {},
   "outputs": [],
   "source": [
    "opt_bttm[2].click()"
   ]
  },
  {
   "cell_type": "code",
   "execution_count": 38,
   "id": "838c7c34-1b5b-4274-9b01-312396b71886",
   "metadata": {},
   "outputs": [],
   "source": [
    "sbmt_bttn = driver.find_element(By.XPATH, '//button[@type = \"submit\"]')"
   ]
  },
  {
   "cell_type": "code",
   "execution_count": 39,
   "id": "a6cfb3c8-501d-487a-b540-204d12479728",
   "metadata": {},
   "outputs": [],
   "source": [
    "sbmt_bttn.click()"
   ]
  }
 ],
 "metadata": {
  "kernelspec": {
   "display_name": "Python 3 (ipykernel)",
   "language": "python",
   "name": "python3"
  },
  "language_info": {
   "codemirror_mode": {
    "name": "ipython",
    "version": 3
   },
   "file_extension": ".py",
   "mimetype": "text/x-python",
   "name": "python",
   "nbconvert_exporter": "python",
   "pygments_lexer": "ipython3",
   "version": "3.13.3"
  }
 },
 "nbformat": 4,
 "nbformat_minor": 5
}
