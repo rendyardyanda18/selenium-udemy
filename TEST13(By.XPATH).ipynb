{
 "cells": [
  {
   "cell_type": "code",
   "execution_count": 17,
   "id": "0cacd89a-c574-49c5-8b58-f67ab8766376",
   "metadata": {},
   "outputs": [],
   "source": [
    "from selenium import webdriver\n",
    "from selenium.webdriver.chrome.service import Service\n",
    "from selenium.webdriver.common.by import By"
   ]
  },
  {
   "cell_type": "code",
   "execution_count": 18,
   "id": "993e9a1f-4c3d-487c-bd2b-cd53a8860ffc",
   "metadata": {},
   "outputs": [],
   "source": [
    "from settings import CHROMEDRIVER_PATH, BOOKSTOSCRAPE_URL"
   ]
  },
  {
   "cell_type": "code",
   "execution_count": 19,
   "id": "a0d1dfce-9ccc-4ca9-bc7b-058907658c5c",
   "metadata": {},
   "outputs": [],
   "source": [
    "service = Service(executable_path=CHROMEDRIVER_PATH)"
   ]
  },
  {
   "cell_type": "code",
   "execution_count": 20,
   "id": "0a6ea63c-db8c-4524-a182-86197d59509f",
   "metadata": {},
   "outputs": [],
   "source": [
    "driver = webdriver.Chrome(service=service)"
   ]
  },
  {
   "cell_type": "code",
   "execution_count": 21,
   "id": "949873ff-37b2-40d2-b4b0-a33c2cac883d",
   "metadata": {},
   "outputs": [],
   "source": [
    " driver.get(BOOKSTOSCRAPE_URL)"
   ]
  },
  {
   "cell_type": "code",
   "execution_count": 22,
   "id": "5fb74696-d445-4343-9217-bd7257ded71b",
   "metadata": {},
   "outputs": [],
   "source": [
    "link_elements = driver.find_elements(By.XPATH, '//a[@title]')"
   ]
  },
  {
   "cell_type": "code",
   "execution_count": 23,
   "id": "0b71407d-2158-4a37-949a-46c4ef6f3dd3",
   "metadata": {},
   "outputs": [
    {
     "data": {
      "text/plain": [
       "20"
      ]
     },
     "execution_count": 23,
     "metadata": {},
     "output_type": "execute_result"
    }
   ],
   "source": [
    "len(link_elements)"
   ]
  },
  {
   "cell_type": "code",
   "execution_count": 11,
   "id": "b5f05a6d-718a-4868-ac37-8b8b5658f19d",
   "metadata": {},
   "outputs": [
    {
     "data": {
      "text/plain": [
       "'A Light in the Attic'"
      ]
     },
     "execution_count": 11,
     "metadata": {},
     "output_type": "execute_result"
    }
   ],
   "source": [
    "link_elements[0].get_attribute('title')"
   ]
  },
  {
   "cell_type": "markdown",
   "id": "e79dcc1e-258d-440e-a49c-8a739a78cd35",
   "metadata": {},
   "source": [
    "XPATH by console > dicari dengan code\n",
    "$x('//a[@title=\"A Light in the Attic\"]/../../div[@class=\"product_price\"]/p[@class=\"price_color\"]')"
   ]
  },
  {
   "cell_type": "code",
   "execution_count": 12,
   "id": "71f12aaf-aacc-4884-aee0-9330256740a6",
   "metadata": {},
   "outputs": [],
   "source": [
    "price_element = driver.find_element(By.XPATH, '//a[@title=\"A Light in the Attic\"]/../../div[@class=\"product_price\"]/p[@class=\"price_color\"]')"
   ]
  },
  {
   "cell_type": "code",
   "execution_count": 14,
   "id": "1a79df5b-c031-4092-9730-80b73f889387",
   "metadata": {},
   "outputs": [
    {
     "data": {
      "text/plain": [
       "'£51.77'"
      ]
     },
     "execution_count": 14,
     "metadata": {},
     "output_type": "execute_result"
    }
   ],
   "source": [
    "price_element.text"
   ]
  },
  {
   "cell_type": "code",
   "execution_count": 24,
   "id": "4c8cde49-cfe6-4161-94c9-13ec001ed404",
   "metadata": {},
   "outputs": [],
   "source": [
    "driver.quit()"
   ]
  },
  {
   "cell_type": "code",
   "execution_count": null,
   "id": "337a8440-955a-4df3-95bf-4811932eec4c",
   "metadata": {},
   "outputs": [],
   "source": []
  }
 ],
 "metadata": {
  "kernelspec": {
   "display_name": "Python 3 (ipykernel)",
   "language": "python",
   "name": "python3"
  },
  "language_info": {
   "codemirror_mode": {
    "name": "ipython",
    "version": 3
   },
   "file_extension": ".py",
   "mimetype": "text/x-python",
   "name": "python",
   "nbconvert_exporter": "python",
   "pygments_lexer": "ipython3",
   "version": "3.13.3"
  }
 },
 "nbformat": 4,
 "nbformat_minor": 5
}
