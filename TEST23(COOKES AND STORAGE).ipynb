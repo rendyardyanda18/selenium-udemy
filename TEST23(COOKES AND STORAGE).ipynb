{
 "cells": [
  {
   "cell_type": "code",
   "execution_count": 1,
   "id": "00cf0dcf-35b2-4355-9da8-ae14eaf2cc06",
   "metadata": {},
   "outputs": [],
   "source": [
    "from selenium import webdriver\n",
    "from selenium.webdriver.chrome.service import Service\n",
    "from selenium.webdriver.common.by import By"
   ]
  },
  {
   "cell_type": "code",
   "execution_count": 2,
   "id": "df5b5745-a3aa-4242-b83c-d5f5b7100210",
   "metadata": {},
   "outputs": [],
   "source": [
    "from settings import CHROMEDRIVER_PATH, BOOKSTOSCRAPE_URL, PYTHON_URL"
   ]
  },
  {
   "cell_type": "code",
   "execution_count": 3,
   "id": "8fe47669-c30f-4933-a2b4-3e3a52ba79c1",
   "metadata": {},
   "outputs": [],
   "source": [
    "service = Service(executable_path=CHROMEDRIVER_PATH)"
   ]
  },
  {
   "cell_type": "code",
   "execution_count": 5,
   "id": "3c112543-e58d-47ac-846b-459449b5bdf9",
   "metadata": {},
   "outputs": [],
   "source": [
    "driver = webdriver.Chrome(service=service)"
   ]
  },
  {
   "cell_type": "code",
   "execution_count": 6,
   "id": "c5183484-4379-4ee0-863f-f09dd2d50f38",
   "metadata": {},
   "outputs": [],
   "source": [
    "driver.get(PYTHON_URL)"
   ]
  },
  {
   "cell_type": "code",
   "execution_count": 16,
   "id": "b44fb8b9-6983-49ab-bd3c-403ef68f4fe7",
   "metadata": {},
   "outputs": [
    {
     "data": {
      "text/plain": [
       "[{'domain': '.python.org',\n",
       "  'expiry': 1747035182,\n",
       "  'httpOnly': False,\n",
       "  'name': '__utmb',\n",
       "  'path': '/',\n",
       "  'sameSite': 'Lax',\n",
       "  'secure': False,\n",
       "  'value': '32101439.1.10.1747033383'},\n",
       " {'domain': '.python.org',\n",
       "  'expiry': 1747033982,\n",
       "  'httpOnly': False,\n",
       "  'name': '__utmt',\n",
       "  'path': '/',\n",
       "  'sameSite': 'Lax',\n",
       "  'secure': False,\n",
       "  'value': '1'},\n",
       " {'domain': '.python.org',\n",
       "  'expiry': 1762801382,\n",
       "  'httpOnly': False,\n",
       "  'name': '__utmz',\n",
       "  'path': '/',\n",
       "  'sameSite': 'Lax',\n",
       "  'secure': False,\n",
       "  'value': '32101439.1747033383.1.1.utmcsr=(direct)|utmccn=(direct)|utmcmd=(none)'},\n",
       " {'domain': '.python.org',\n",
       "  'httpOnly': False,\n",
       "  'name': '__utmc',\n",
       "  'path': '/',\n",
       "  'sameSite': 'Lax',\n",
       "  'secure': False,\n",
       "  'value': '32101439'},\n",
       " {'domain': '.python.org',\n",
       "  'expiry': 1781593382,\n",
       "  'httpOnly': False,\n",
       "  'name': '__utma',\n",
       "  'path': '/',\n",
       "  'sameSite': 'Lax',\n",
       "  'secure': False,\n",
       "  'value': '32101439.857031764.1747033383.1747033383.1747033383.1'}]"
      ]
     },
     "execution_count": 16,
     "metadata": {},
     "output_type": "execute_result"
    }
   ],
   "source": [
    "driver.get_cookies()"
   ]
  },
  {
   "cell_type": "code",
   "execution_count": 17,
   "id": "aee93e17-3af4-4fae-a737-9361205cf815",
   "metadata": {},
   "outputs": [],
   "source": [
    "driver.add_cookie({\n",
    "    'name' : 'my_new_cookie',\n",
    "    'value' : 'hey! Look at my coookie',\n",
    "})"
   ]
  },
  {
   "cell_type": "code",
   "execution_count": 7,
   "id": "ef9a2647-2773-4f0a-acee-df59e4b0a67e",
   "metadata": {},
   "outputs": [],
   "source": [
    "driver.execute_script(\"window.localStorage.setItem('key1', 'value1')\")"
   ]
  },
  {
   "cell_type": "code",
   "execution_count": 9,
   "id": "ae86112f-7337-42fb-8c3d-f236d500e6b1",
   "metadata": {},
   "outputs": [
    {
     "data": {
      "text/plain": [
       "'value1'"
      ]
     },
     "execution_count": 9,
     "metadata": {},
     "output_type": "execute_result"
    }
   ],
   "source": [
    "driver.execute_script(\"return window.localStorage.getItem('key1')\")"
   ]
  },
  {
   "cell_type": "code",
   "execution_count": 10,
   "id": "01668c3a-cfbb-4681-b307-9c9ff2024df2",
   "metadata": {},
   "outputs": [],
   "source": [
    "driver.execute_script(\"window.sessionStorage.setItem('key2', 'value2' )\")"
   ]
  },
  {
   "cell_type": "code",
   "execution_count": 12,
   "id": "6e2415ed-af4f-4d9c-bd1d-58d992db8508",
   "metadata": {},
   "outputs": [
    {
     "data": {
      "text/plain": [
       "'value2'"
      ]
     },
     "execution_count": 12,
     "metadata": {},
     "output_type": "execute_result"
    }
   ],
   "source": [
    "driver.execute_script(\"return window.sessionStorage.getItem('key2')\")"
   ]
  },
  {
   "cell_type": "code",
   "execution_count": 14,
   "id": "65972c90-98de-4a43-bacd-4068d61033fd",
   "metadata": {},
   "outputs": [],
   "source": [
    "driver.quit()"
   ]
  },
  {
   "cell_type": "code",
   "execution_count": null,
   "id": "cbdae828-603a-4f82-bb4e-a819ce21cd75",
   "metadata": {},
   "outputs": [],
   "source": []
  }
 ],
 "metadata": {
  "kernelspec": {
   "display_name": "Python 3 (ipykernel)",
   "language": "python",
   "name": "python3"
  },
  "language_info": {
   "codemirror_mode": {
    "name": "ipython",
    "version": 3
   },
   "file_extension": ".py",
   "mimetype": "text/x-python",
   "name": "python",
   "nbconvert_exporter": "python",
   "pygments_lexer": "ipython3",
   "version": "3.13.3"
  }
 },
 "nbformat": 4,
 "nbformat_minor": 5
}
